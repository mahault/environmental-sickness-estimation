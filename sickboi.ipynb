{
 "cells": [
  {
   "cell_type": "markdown",
   "metadata": {
    "colab_type": "text",
    "id": "view-in-github"
   },
   "source": [
    "<a href=\"https://colab.research.google.com/github/mahault/environmental-sickness-estimation/blob/main/sickboi.ipynb\" target=\"_parent\"><img src=\"https://colab.research.google.com/assets/colab-badge.svg\" alt=\"Open In Colab\"/></a>"
   ]
  },
  {
   "cell_type": "markdown",
   "metadata": {
    "id": "6Xm2H3_XBiM4"
   },
   "source": [
    "Tutorials with useful elements"
   ]
  },
  {
   "cell_type": "markdown",
   "metadata": {
    "id": "WgtWps0ONo0N"
   },
   "source": [
    "Source of code: https://colab.research.google.com/drive/16p4YT75ShrW5dD0d2DUL9ayUx98sdPgM "
   ]
  },
  {
   "cell_type": "code",
   "execution_count": 1,
   "metadata": {
    "colab": {
     "base_uri": "https://localhost:8080/"
    },
    "id": "Gnl7YpTU7Q9p",
    "outputId": "185836f5-113b-4d4b-e869-1b7b97c3400e"
   },
   "outputs": [
    {
     "name": "stdout",
     "output_type": "stream",
     "text": [
      "Requirement already satisfied: inferactively-pymdp in /Users/alexanderkiefer/anaconda3/lib/python3.8/site-packages (0.0.2)\n",
      "Requirement already satisfied: iniconfig==1.1.1 in /Users/alexanderkiefer/anaconda3/lib/python3.8/site-packages (from inferactively-pymdp) (1.1.1)\n",
      "Requirement already satisfied: attrs==20.3.0 in /Users/alexanderkiefer/anaconda3/lib/python3.8/site-packages (from inferactively-pymdp) (20.3.0)\n",
      "Requirement already satisfied: pandas==1.2.4 in /Users/alexanderkiefer/anaconda3/lib/python3.8/site-packages (from inferactively-pymdp) (1.2.4)\n",
      "Requirement already satisfied: typing-extensions==3.7.4.3 in /Users/alexanderkiefer/anaconda3/lib/python3.8/site-packages (from inferactively-pymdp) (3.7.4.3)\n",
      "Requirement already satisfied: six==1.15.0 in /Users/alexanderkiefer/anaconda3/lib/python3.8/site-packages (from inferactively-pymdp) (1.15.0)\n",
      "Requirement already satisfied: matplotlib==3.1.3 in /Users/alexanderkiefer/anaconda3/lib/python3.8/site-packages (from inferactively-pymdp) (3.1.3)\n",
      "Requirement already satisfied: cycler==0.10.0 in /Users/alexanderkiefer/anaconda3/lib/python3.8/site-packages (from inferactively-pymdp) (0.10.0)\n",
      "Requirement already satisfied: py==1.10.0 in /Users/alexanderkiefer/anaconda3/lib/python3.8/site-packages (from inferactively-pymdp) (1.10.0)\n",
      "Requirement already satisfied: numpy==1.19.5 in /Users/alexanderkiefer/anaconda3/lib/python3.8/site-packages (from inferactively-pymdp) (1.19.5)\n",
      "Requirement already satisfied: scipy==1.6.0 in /Users/alexanderkiefer/anaconda3/lib/python3.8/site-packages (from inferactively-pymdp) (1.6.0)\n",
      "Requirement already satisfied: pytest==6.2.1 in /Users/alexanderkiefer/anaconda3/lib/python3.8/site-packages (from inferactively-pymdp) (6.2.1)\n",
      "Requirement already satisfied: seaborn==0.11.1 in /Users/alexanderkiefer/anaconda3/lib/python3.8/site-packages (from inferactively-pymdp) (0.11.1)\n",
      "Requirement already satisfied: python-dateutil==2.8.1 in /Users/alexanderkiefer/anaconda3/lib/python3.8/site-packages (from inferactively-pymdp) (2.8.1)\n",
      "Requirement already satisfied: packaging==20.8 in /Users/alexanderkiefer/anaconda3/lib/python3.8/site-packages (from inferactively-pymdp) (20.8)\n",
      "Requirement already satisfied: kiwisolver==1.3.1 in /Users/alexanderkiefer/anaconda3/lib/python3.8/site-packages (from inferactively-pymdp) (1.3.1)\n",
      "Requirement already satisfied: pluggy==0.13.1 in /Users/alexanderkiefer/anaconda3/lib/python3.8/site-packages (from inferactively-pymdp) (0.13.1)\n",
      "Requirement already satisfied: toml==0.10.2 in /Users/alexanderkiefer/anaconda3/lib/python3.8/site-packages (from inferactively-pymdp) (0.10.2)\n",
      "Requirement already satisfied: openpyxl==3.0.7 in /Users/alexanderkiefer/anaconda3/lib/python3.8/site-packages (from inferactively-pymdp) (3.0.7)\n",
      "Requirement already satisfied: pyparsing==2.4.7 in /Users/alexanderkiefer/anaconda3/lib/python3.8/site-packages (from inferactively-pymdp) (2.4.7)\n",
      "Requirement already satisfied: nose==1.3.7 in /Users/alexanderkiefer/anaconda3/lib/python3.8/site-packages (from inferactively-pymdp) (1.3.7)\n",
      "Requirement already satisfied: pytz==2020.5 in /Users/alexanderkiefer/anaconda3/lib/python3.8/site-packages (from inferactively-pymdp) (2020.5)\n",
      "Requirement already satisfied: xlsxwriter==1.4.3 in /Users/alexanderkiefer/anaconda3/lib/python3.8/site-packages (from inferactively-pymdp) (1.4.3)\n",
      "Requirement already satisfied: et-xmlfile in /Users/alexanderkiefer/anaconda3/lib/python3.8/site-packages (from openpyxl==3.0.7->inferactively-pymdp) (1.0.1)\n",
      "\u001b[33mWARNING: You are using pip version 21.0.1; however, version 22.1 is available.\n",
      "You should consider upgrading via the '/Users/alexanderkiefer/anaconda3/bin/python -m pip install --upgrade pip' command.\u001b[0m\n"
     ]
    }
   ],
   "source": [
    "!pip3 install inferactively-pymdp\n",
    "\n"
   ]
  },
  {
   "cell_type": "code",
   "execution_count": 2,
   "metadata": {
    "id": "Ofbrub7WkeCf"
   },
   "outputs": [],
   "source": [
    "import pymdp\n",
    "from pymdp import utils\n",
    "from pymdp.agent import Agent\n",
    "import numpy as np\n",
    "import copy\n",
    "\n",
    "from scipy.special import softmax"
   ]
  },
  {
   "cell_type": "markdown",
   "metadata": {
    "id": "OXpuK8_A--L7"
   },
   "source": [
    "AGELESS VERSION"
   ]
  },
  {
   "cell_type": "markdown",
   "metadata": {
    "id": "M_2ka_7TkLQc"
   },
   "source": [
    "#Observations\n",
    "space colors (microbiome and environmental constraint) : red, blue, green for each square\n",
    "age : 0-30\n",
    "location : 0,1,2,3,4,5,6,7,8\n",
    "symptom1 : yes, no\n",
    "symptom2 : yes, no\n",
    "symptom3 : yes, no\n",
    "\"b_m_1\":[\"yes\", \"no\"],\n",
    "\"b_m_2\":[\"yes\", \"no\"],\n",
    "\"b_m_3\":[\"yes\", \"no\"]\n",
    "\n",
    "#States\n",
    "Health load : not loaded, a little loaded, overloaded\n",
    "location:  0,1,2,3,4,5,6,7,8\n",
    "space color : red, blue, green for each square\n",
    "age: 0- 30\n",
    "has had sym1 :yes, no\n",
    "has had symp2 : yes, no\n",
    "has had symp3 : yes, no\n",
    "\n",
    "#things that are related\n",
    "space color and location\n",
    "Generate a grid with those properties\n",
    "symptom and bm are related\n",
    "add a property to the agent of the biomarker\n",
    "age is defined by the Time t"
   ]
  },
  {
   "cell_type": "code",
   "execution_count": 3,
   "metadata": {
    "id": "G3OBfqrv1EuV"
   },
   "outputs": [],
   "source": [
    "def get_B_location(n: int=3):\n",
    "    \"\"\"Automatically fill out B matrix for (up, down, left, right, stay) movement on a (n x n) grid\"\"\"\n",
    "\n",
    "    #     1\n",
    "    #     ^\n",
    "    #     |\n",
    "    #3<---4---->2\n",
    "    #     |\n",
    "    #     v\n",
    "    #     0\n",
    "    \n",
    "    squares = n**2\n",
    "    B = np.zeros((squares, squares, 5),dtype='int')\n",
    "\n",
    "    for x in range(squares):\n",
    "        B[x,x,4] = 1  # Stay at location\n",
    "        B[x,x-1,2] = 1  # Move right\n",
    "        B[x-1,x,3] = 1  # Move left\n",
    "    \n",
    "    for x in range(squares-n):\n",
    "        B[x+n, x, 0] = 1 # Move down\n",
    "      \n",
    "    for x in range(n, squares):\n",
    "        B[x-n, x, 1] = 1 # Move up\n",
    "          \n",
    "    for x in range(squares):\n",
    "      if x < n:  # Restrict top row movement\n",
    "          B[x,x,1] = 1\n",
    "      if x%n == 0:  # Restrict left column movement\n",
    "          B[:,x,3] = 0\n",
    "          B[x,x,3] = 1\n",
    "      if x >= squares - n:  # Restrict bottom row movement\n",
    "          B[x,x,0] = 1\n",
    "      if (x-(n-1))%n == 0:  # Restrict right column movement\n",
    "          B[:,x,2] = 0\n",
    "          B[x,x,2] = 1\n",
    "    \n",
    "    return B"
   ]
  },
  {
   "cell_type": "markdown",
   "metadata": {
    "id": "TY_NbciAvOVV"
   },
   "source": [
    "The Basic components of the model\n"
   ]
  },
  {
   "cell_type": "markdown",
   "metadata": {
    "id": "LB4sNCPJvYh9"
   },
   "source": [
    "The Grid"
   ]
  },
  {
   "cell_type": "code",
   "execution_count": 4,
   "metadata": {
    "id": "U3uKzyBZvXkr"
   },
   "outputs": [],
   "source": [
    "# TODO : Use `age` state to influence epistemic value (via influencing preference strength for health)\n",
    "# TODO : Build in differences between pathogens; different squares could have different volatilities (both \"good\" and \"bad\" - some pathogens should be avoided period)\n",
    "\n",
    "\n",
    "### Actual world grid\n",
    "Grid  = [0,1,2,0,1,2,0,1,2]\n",
    "\n",
    "###b matrix of the grid changing to another color in the generative process\n",
    "##0-0, 0-1, 0-2, 1-0,1-1, 1-2, 2-0, 2-1, 2-2\n",
    "Grid_B = np.zeros((3,3))\n",
    "Grid_B[:,:] = .05\n",
    "Grid_B[0,0] = .9\n",
    "Grid_B[1,1] = .9\n",
    "Grid_B[2,2] = .9\n",
    "\n",
    "list_of_symptoms = [\"red\", \"blue\", \"green\"]\n",
    "health_labels = [\"not loaded\", \"a little loaded\", \"overloaded\"]\n",
    "control_state = \"location\"\n",
    "\n"
   ]
  },
  {
   "cell_type": "markdown",
   "metadata": {
    "id": "QKJK4S5av4vA"
   },
   "source": [
    "Gets observations from Grid"
   ]
  },
  {
   "cell_type": "code",
   "execution_count": 5,
   "metadata": {
    "id": "nKb9xcspv8ir"
   },
   "outputs": [],
   "source": [
    "def get_space_colors_from_grid(labels=list_of_symptoms):\n",
    "    for i,e in enumerate(Grid):\n",
    "        observations[f\"space_colors_{i}\"] = labels\n",
    "\n",
    "    \n",
    "def get_location_from_grid():\n",
    "    observations[\"location\"] = list(range(len(Grid)))\n",
    "\n",
    "def get_symptom(labels=list_of_symptoms):\n",
    "    for i,label in enumerate(labels):\n",
    "        observations[f\"symptom_{label}\"] = [\"no\", \"yes\"]\n",
    "\n",
    "def get_biomarker(labels=list_of_symptoms):\n",
    "    for i,label in enumerate(labels):\n",
    "        observations[f\"b_m_{label}\"] = [\"no\", \"yes\"]\n",
    "\n",
    "# get_biomarker()\n",
    "# print(observations)"
   ]
  },
  {
   "cell_type": "markdown",
   "metadata": {
    "id": "GA6euFW0yLog"
   },
   "source": [
    "Test the observation from grid functions"
   ]
  },
  {
   "cell_type": "code",
   "execution_count": 11,
   "metadata": {
    "colab": {
     "base_uri": "https://localhost:8080/",
     "height": 200
    },
    "id": "Tf937eUJyKo6",
    "outputId": "045da1c9-87e0-47a5-8ed2-f7057db84038"
   },
   "outputs": [],
   "source": [
    "assert len(Grid) == len([key for key in observations.keys()  if \"space_colors\" in key] ), f\"There isn't the same number of observation for space colors as there are grid spaces. Grid spaces = {len(Grid)}  space_colors observations = {len([key for key in observations.keys()  if 'space_colors' in key])}\""
   ]
  },
  {
   "cell_type": "code",
   "execution_count": 12,
   "metadata": {
    "id": "hjn4emWK0Cv3"
   },
   "outputs": [],
   "source": [
    "assert len(Grid) == len(observations[\"location\"]), f\"there isn't the same number of location indices in observations: {len(observations.location)} as there are grid spaces: {len(Grid)}\""
   ]
  },
  {
   "cell_type": "code",
   "execution_count": 13,
   "metadata": {
    "id": "2M2509Xj3N9G"
   },
   "outputs": [],
   "source": [
    "assert len(list_of_symptoms) == len([observation for observation in observations.keys() if \"symptom\" in observation]), f\"There isn't the same number of sumptoms: {len(list_of_symptoms)} as there are observations about symptoms : {len([observation for observation in observations.keys() if 'symptom' in key]) }\""
   ]
  },
  {
   "cell_type": "code",
   "execution_count": 14,
   "metadata": {
    "id": "6riLI5pD3plT"
   },
   "outputs": [],
   "source": [
    "assert len(list_of_symptoms) == len([observation for observation in observations.keys() if \"b_m_\" in observation]), f\"There isn't the same number of sumptoms: {len(list_of_symptoms)} as there are observations about biomarker : {len([observation for observation in observations.keys() if 'b_m_' in key]) }\""
   ]
  },
  {
   "cell_type": "markdown",
   "metadata": {
    "id": "sY6fFS_40z96"
   },
   "source": [
    "Set the observations"
   ]
  },
  {
   "cell_type": "code",
   "execution_count": 6,
   "metadata": {
    "id": "wD1gon1uvK4A"
   },
   "outputs": [],
   "source": [
    "observations = {}\n",
    "get_space_colors_from_grid()\n",
    "get_location_from_grid()\n",
    "get_symptom()\n",
    "get_biomarker()\n",
    "\n",
    "# observations =  {\n",
    "#     \"space_colors_0\": [\"red\", \"blue\", \"green\"],\n",
    "#     \"space_colors_1\": [\"red\", \"blue\", \"green\"],\n",
    "#     \"space_colors_2\": [\"red\", \"blue\", \"green\"],\n",
    "#     \"space_colors_3\": [\"red\", \"blue\", \"green\"],\n",
    "#     \"space_colors_4\": [\"red\", \"blue\", \"green\"],\n",
    "#     \"space_colors_5\": [\"red\", \"blue\", \"green\"],\n",
    "#     \"space_colors_6\": [\"red\", \"blue\", \"green\"],\n",
    "#     \"space_colors_7\": [\"red\", \"blue\", \"green\"],\n",
    "#     \"space_colors_8\": [\"red\", \"blue\", \"green\"],\n",
    "#     \"location\" : [0,1,2,3,4,5,6,7,8],\n",
    "#     \"symptom_red\" : [\"no\", \"yes\"],\n",
    "#     \"symptom_blue\" : [\"no\", \"yes\"],\n",
    "#     \"symptom_green\" : [\"no\", \"yes\"],\n",
    "#     \"b_m_red\":[\"no\", \"yes\"],\n",
    "#     \"b_m_blue\":[\"no\", \"yes\"],\n",
    "#     \"b_m_green\":[\"no\", \"yes\"]\n",
    "# }\n",
    "\n"
   ]
  },
  {
   "cell_type": "markdown",
   "metadata": {
    "id": "JRKVvqD73vva"
   },
   "source": [
    "Get states from grid "
   ]
  },
  {
   "cell_type": "code",
   "execution_count": 16,
   "metadata": {
    "id": "eueXixbF30sp"
   },
   "outputs": [],
   "source": [
    "def get_space_colors_from_grid_states(labels=list_of_symptoms):\n",
    "  for i,e in enumerate(Grid):\n",
    "    states[f\"space_colors_{i}\"] = labels\n",
    "\n",
    "def get_location_from_grid_states():\n",
    "  states[\"location\"] = list(range(len(Grid)))\n",
    "\n",
    "def get_has_had_symp(labels=list_of_symptoms):\n",
    "  for i,label in enumerate(labels):\n",
    "    states[f\"has_had_symp_{label}\"] = [\"no\", \"yes\"]\n",
    "\n",
    "def get_health_load(labels=list_of_symptoms):\n",
    "  states[\"health_load\"] = list(range(len(labels) +1))\n",
    "\n",
    "\n"
   ]
  },
  {
   "cell_type": "markdown",
   "metadata": {
    "id": "FkNTWc4p345X"
   },
   "source": [
    "Test the functions"
   ]
  },
  {
   "cell_type": "code",
   "execution_count": null,
   "metadata": {
    "id": "2ytoM5e_34d7"
   },
   "outputs": [],
   "source": [
    "#TODO write test function for get_space_colors_from_grid_states\n",
    "assert len(Grid) == len([key for key in states.keys()  if \"space_colors\" in key] ), f\"There isn't the same number of states for space colors as there are grid spaces. Grid spaces = {len(Grid)}  space_colors states = {len([key for key in states.keys()  if 'space_colors' in key])}\""
   ]
  },
  {
   "cell_type": "code",
   "execution_count": null,
   "metadata": {
    "id": "O_nl9fWC4UOx"
   },
   "outputs": [],
   "source": [
    "#TODO write test function for get_location_from_grid_states\n",
    "assert len(Grid) == len(states[\"location\"]), f\"there isn't the same number of location indices in states: {len(states.location)} as there are grid spaces: {len(Grid)}\""
   ]
  },
  {
   "cell_type": "code",
   "execution_count": null,
   "metadata": {
    "id": "LXrk_UjG4kbD"
   },
   "outputs": [],
   "source": [
    "#TODO write test function for get_has_had_symp\n",
    "assert len(list_of_symptoms) == len([state for state in states.keys() if \"has_had_symp\" in state]), f\"There isn't the same number of sumptoms: {len(list_of_symptoms)} as there are states about symptoms : {len([state for state in states.keys() if 'symptom' in key]) }\""
   ]
  },
  {
   "cell_type": "code",
   "execution_count": null,
   "metadata": {
    "id": "PuUPL2YD6PuJ"
   },
   "outputs": [],
   "source": [
    "#TODO write test function for get_health_load\n",
    "assert len(list_of_symptoms)+1 == len(states[\"health_load\"]), f\"There isn't the same number of symptoms: {len(list_of_symptoms)+1} as there are Health_load states: {len(states['health_load'])}\""
   ]
  },
  {
   "cell_type": "markdown",
   "metadata": {
    "id": "yxMOpIrh31Hs"
   },
   "source": [
    "Set the states"
   ]
  },
  {
   "cell_type": "code",
   "execution_count": 11,
   "metadata": {
    "id": "jXRHMbuR3vgc"
   },
   "outputs": [],
   "source": [
    "states= {}\n",
    "get_space_colors_from_grid_states()\n",
    "get_location_from_grid_states()\n",
    "get_has_had_symp()\n",
    "get_health_load()\n",
    "\n",
    "# states = {\n",
    "#     \"space_colors_0\" : [\"red\", \"blue\", \"green\"],\n",
    "#     \"space_colors_1\" : [\"red\", \"blue\", \"green\"],\n",
    "#     \"space_colors_2\" : [\"red\", \"blue\", \"green\"],\n",
    "#     \"space_colors_3\" : [\"red\", \"blue\", \"green\"],\n",
    "#     \"space_colors_4\" : [\"red\", \"blue\", \"green\"],\n",
    "#     \"space_colors_5\" : [\"red\", \"blue\", \"green\"],\n",
    "#     \"space_colors_6\" : [\"red\", \"blue\", \"green\"],\n",
    "#     \"space_colors_7\" : [\"red\", \"blue\", \"green\"],\n",
    "#     \"space_colors_8\" : [\"red\", \"blue\", \"green\"],\n",
    "#     \"location\" : [0,1,2,3,4,5,6,7,8],\n",
    "#     \"has had symp_red\" : [\"no\", \"yes\"],\n",
    "#     \"has had symp_blue\" : [\"no\", \"yes\"],\n",
    "#     \"has had symp_green\" : [\"no\", \"yes\"],\n",
    "#     \"Health_load\" : [\"not loaded\", \"a little loaded\", \"overloaded\"],\n",
    "    \n",
    "# }\n"
   ]
  },
  {
   "cell_type": "markdown",
   "metadata": {
    "id": "Q_n6SkHC6yDi"
   },
   "source": [
    "Set the actions"
   ]
  },
  {
   "cell_type": "code",
   "execution_count": 8,
   "metadata": {
    "id": "096o1E6C6wRk"
   },
   "outputs": [],
   "source": [
    "actions = {\n",
    "    \"change_location\"  : [\"go up\", \"go down\", \"go right\", \"go left\", \"stay\" ]\n",
    "}"
   ]
  },
  {
   "cell_type": "markdown",
   "metadata": {
    "id": "126ngRy47WNC"
   },
   "source": [
    "Get num observations, states, controls and factors"
   ]
  },
  {
   "cell_type": "code",
   "execution_count": 12,
   "metadata": {
    "id": "SHMKDK6N7dBs"
   },
   "outputs": [],
   "source": [
    "def get_num_obs_per_modality(observations):\n",
    "  return [len(value) for value in observations.values()]\n",
    "def get_num_obs():\n",
    "  return len(observations)\n",
    "\n",
    "def get_num_states_per_factor(states):\n",
    "  return [len(value) for value in states.values()]\n",
    "\n",
    "def get_num_states():\n",
    "  return len(states)\n",
    "\n",
    "def get_num_controls():\n",
    "  # should have the same as the number of states\n",
    "  # should find the index of the control state\n",
    "  # should have the number of control actions for that index\n",
    "  control = [1]*len(states)\n",
    "  control[list(states.keys()).index(\"location\")] = len(actions[\"change_location\"])\n",
    "  return control\n",
    "\n",
    "def get_num_space_colors():\n",
    "    return len([key for key in states.keys()  if \"space_colors\" in key])\n",
    "\n"
   ]
  },
  {
   "cell_type": "markdown",
   "metadata": {
    "id": "hU5o786z8gvc"
   },
   "source": [
    "Test num observations, states, controls and factors functions"
   ]
  },
  {
   "cell_type": "code",
   "execution_count": 15,
   "metadata": {
    "colab": {
     "base_uri": "https://localhost:8080/"
    },
    "id": "NBpfBf1p8ktm",
    "outputId": "b9c7cddd-e2df-4336-aa46-88f39b10a465"
   },
   "outputs": [
    {
     "name": "stdout",
     "output_type": "stream",
     "text": [
      "[1, 1, 1, 1, 1, 1, 1, 1, 1, 5, 1, 1, 1, 1]\n",
      "9\n"
     ]
    }
   ],
   "source": [
    "get_num_obs()\n",
    "num_controls = get_num_controls()\n",
    "nsc = get_num_space_colors()\n",
    "\n",
    "print(num_controls)\n",
    "print(nsc)"
   ]
  },
  {
   "cell_type": "code",
   "execution_count": 20,
   "metadata": {
    "id": "EWx0G5dJ30n3"
   },
   "outputs": [],
   "source": [
    "assert len(get_num_obs_per_modality(observations)) == len(observations), f\"there isn't the same number of observations : {len(observations)} as there are observation modalities: {len(get_num_obs_per_modality(observations))} \""
   ]
  },
  {
   "cell_type": "code",
   "execution_count": 21,
   "metadata": {
    "id": "GQzKVZlz5gZg"
   },
   "outputs": [],
   "source": [
    "#TODO write the test for get num obs\n"
   ]
  },
  {
   "cell_type": "code",
   "execution_count": 22,
   "metadata": {
    "id": "Fb4OxiiV5lEN"
   },
   "outputs": [],
   "source": [
    "#TODO write test for get num_states_per_factor"
   ]
  },
  {
   "cell_type": "code",
   "execution_count": 23,
   "metadata": {
    "id": "o9UH4J-Y5qFh"
   },
   "outputs": [],
   "source": [
    "#TODO write test for get_num_states"
   ]
  },
  {
   "cell_type": "code",
   "execution_count": 24,
   "metadata": {
    "id": "QDDHD8Ys5uQJ"
   },
   "outputs": [],
   "source": [
    "#TODO write test for get num controls"
   ]
  },
  {
   "cell_type": "markdown",
   "metadata": {
    "id": "A0QTyb7Q7dtr"
   },
   "source": [
    "Set num observations, states, controls and factors"
   ]
  },
  {
   "cell_type": "code",
   "execution_count": 36,
   "metadata": {
    "id": "Mw0UoMaq7gWT"
   },
   "outputs": [],
   "source": [
    "# num_obs = [len(value) for value in observations.values()] # observation modality dimensions\n",
    "# num_states = [3,3,3,3,3,3,3,3,3,9,2,2,2,3] # hidden state factor dimensions\n",
    "# num_controls = [1,1,1,1,1,1,1,1,1,5,1,1,1,1] # control state factor dimensions\n",
    "# num_factors = len(num_states)\n",
    "\n",
    "\n",
    "num_obs = get_num_obs_per_modality(observations)\n",
    "num_modalities = get_num_obs()\n",
    "num_states = get_num_states_per_factor(states)\n",
    "num_factors = get_num_states()\n",
    "num_controls = get_num_controls()\n",
    "num_space_colors = get_num_space_colors()"
   ]
  },
  {
   "cell_type": "code",
   "execution_count": 37,
   "metadata": {
    "colab": {
     "base_uri": "https://localhost:8080/"
    },
    "id": "xR_F2yyO6Z9m",
    "outputId": "8a10b522-93da-45c4-fa9a-1242009a6a34"
   },
   "outputs": [
    {
     "data": {
      "text/plain": [
       "16"
      ]
     },
     "execution_count": 37,
     "metadata": {},
     "output_type": "execute_result"
    }
   ],
   "source": [
    "num_modalities"
   ]
  },
  {
   "cell_type": "code",
   "execution_count": 38,
   "metadata": {
    "colab": {
     "base_uri": "https://localhost:8080/"
    },
    "id": "7IM0Qu2LwKNo",
    "outputId": "db6ae1d4-2c2d-4107-ef0d-8633b5043363"
   },
   "outputs": [
    {
     "data": {
      "text/plain": [
       "[3, 3, 3, 3, 3, 3, 3, 3, 3, 9, 2, 2, 2, 4]"
      ]
     },
     "execution_count": 38,
     "metadata": {},
     "output_type": "execute_result"
    }
   ],
   "source": [
    "num_states"
   ]
  },
  {
   "cell_type": "code",
   "execution_count": 39,
   "metadata": {
    "colab": {
     "base_uri": "https://localhost:8080/"
    },
    "id": "BEm5Jnge6cKd",
    "outputId": "19bc67cf-72ad-474f-fcd2-6d12078b6733"
   },
   "outputs": [
    {
     "data": {
      "text/plain": [
       "[3, 3, 3, 3, 3, 3, 3, 3, 3, 9, 2, 2, 2, 2, 2, 2]"
      ]
     },
     "execution_count": 39,
     "metadata": {},
     "output_type": "execute_result"
    }
   ],
   "source": [
    "num_obs"
   ]
  },
  {
   "cell_type": "markdown",
   "metadata": {
    "id": "U1JFZ9gKofD1"
   },
   "source": [
    "Instantiating matrices"
   ]
  },
  {
   "cell_type": "code",
   "execution_count": 21,
   "metadata": {
    "id": "Ws165rv6orqr"
   },
   "outputs": [],
   "source": [
    "def inst_space_colors(num_states, list_of_symptoms):\n",
    "  tot_list = [len(list_of_symptoms)]+num_states\n",
    "  return np.zeros((tot_list))\n",
    "\n",
    "\n",
    "def inst_location(Grid, num_states):\n",
    "  tot_list = [len(Grid)]+num_states\n",
    "  return np.zeros((tot_list))\n",
    "\n",
    "def inst_symptoms(num_states):\n",
    "    tot_list = [2]+num_states\n",
    "    return np.zeros((tot_list))"
   ]
  },
  {
   "cell_type": "code",
   "execution_count": 22,
   "metadata": {},
   "outputs": [
    {
     "data": {
      "text/plain": [
       "{'space_colors_0': ['red', 'blue', 'green'],\n",
       " 'space_colors_1': ['red', 'blue', 'green'],\n",
       " 'space_colors_2': ['red', 'blue', 'green'],\n",
       " 'space_colors_3': ['red', 'blue', 'green'],\n",
       " 'space_colors_4': ['red', 'blue', 'green'],\n",
       " 'space_colors_5': ['red', 'blue', 'green'],\n",
       " 'space_colors_6': ['red', 'blue', 'green'],\n",
       " 'space_colors_7': ['red', 'blue', 'green'],\n",
       " 'space_colors_8': ['red', 'blue', 'green'],\n",
       " 'location': [0, 1, 2, 3, 4, 5, 6, 7, 8],\n",
       " 'has_had_symp_red': ['no', 'yes'],\n",
       " 'has_had_symp_blue': ['no', 'yes'],\n",
       " 'has_had_symp_green': ['no', 'yes'],\n",
       " 'health_load': [0, 1, 2, 3]}"
      ]
     },
     "execution_count": 22,
     "metadata": {},
     "output_type": "execute_result"
    }
   ],
   "source": [
    "states"
   ]
  },
  {
   "cell_type": "markdown",
   "metadata": {
    "id": "bnNN1XDoosVC"
   },
   "source": [
    "Testing functions to instantiate"
   ]
  },
  {
   "cell_type": "code",
   "execution_count": 42,
   "metadata": {
    "id": "TKugaH_Dwkn2"
   },
   "outputs": [
    {
     "data": {
      "text/plain": [
       "3"
      ]
     },
     "execution_count": 42,
     "metadata": {},
     "output_type": "execute_result"
    }
   ],
   "source": [
    "num_obs[0]"
   ]
  },
  {
   "cell_type": "markdown",
   "metadata": {
    "id": "ALIA7woVwk0w"
   },
   "source": [
    "Instantiate space colors"
   ]
  },
  {
   "cell_type": "code",
   "execution_count": 24,
   "metadata": {
    "id": "wohLvAcfwoJI"
   },
   "outputs": [],
   "source": [
    "A_space_colors = []\n",
    "for modality in range(num_space_colors):\n",
    "    A_space_colors.append(inst_space_colors(num_states, list_of_symptoms))\n",
    "\n",
    "# A_space_colors_0 = inst_space_colors(num_states, list_of_symptoms)\n",
    "# A_space_colors_1 = inst_space_colors(num_states, list_of_symptoms)\n",
    "# A_space_colors_2 = inst_space_colors(num_states, list_of_symptoms)\n",
    "# A_space_colors_3 = inst_space_colors(num_states, list_of_symptoms)\n",
    "# A_space_colors_4 = inst_space_colors(num_states, list_of_symptoms)\n",
    "# A_space_colors_5 = inst_space_colors(num_states, list_of_symptoms)\n",
    "# A_space_colors_6 = inst_space_colors(num_states, list_of_symptoms)\n",
    "# A_space_colors_7 = inst_space_colors(num_states, list_of_symptoms)\n",
    "# A_space_colors_8 = inst_space_colors(num_states, list_of_symptoms)\n",
    "\n"
   ]
  },
  {
   "cell_type": "markdown",
   "metadata": {
    "id": "Zrw1E3nKwk6v"
   },
   "source": [
    "Instantiate location\n"
   ]
  },
  {
   "cell_type": "code",
   "execution_count": 25,
   "metadata": {
    "id": "FF43Y40N0R70"
   },
   "outputs": [],
   "source": [
    "A_location = inst_location(Grid, num_states)"
   ]
  },
  {
   "cell_type": "markdown",
   "metadata": {
    "id": "UpkQzqdJ0_bK"
   },
   "source": [
    "Instantiate symptoms"
   ]
  },
  {
   "cell_type": "code",
   "execution_count": 28,
   "metadata": {
    "id": "Z3ikHEiI0-4p"
   },
   "outputs": [],
   "source": [
    "A_sym = []\n",
    "for symptom in list_of_symptoms:\n",
    "    A_sym.append(inst_symptoms(num_states))\n",
    "\n",
    "# A_sym_red = inst_symptoms(num_states)\n",
    "# A_sym_blue = inst_symptoms(num_states)\n",
    "# A_sym_green = inst_symptoms(num_states)\n"
   ]
  },
  {
   "cell_type": "markdown",
   "metadata": {
    "id": "Of5Tt4oQ3qhb"
   },
   "source": [
    "Instantiate biomarkers"
   ]
  },
  {
   "cell_type": "code",
   "execution_count": 29,
   "metadata": {
    "id": "Q3UVDykE3ths"
   },
   "outputs": [],
   "source": [
    "A_bm = []\n",
    "for bm in list_of_symptoms:\n",
    "    A_bm.append(inst_symptoms(num_states))\n",
    "    \n",
    "# A_bm_blue = inst_symptoms(num_states)\n",
    "# A_bm_green = inst_symptoms(num_states)"
   ]
  },
  {
   "cell_type": "markdown",
   "metadata": {},
   "source": [
    "## Fill in values"
   ]
  },
  {
   "cell_type": "markdown",
   "metadata": {},
   "source": [
    "Fill in space colors values"
   ]
  },
  {
   "cell_type": "code",
   "execution_count": 54,
   "metadata": {},
   "outputs": [],
   "source": [
    "for A_matrix in A_space_colors:\n",
    "    for i in range(num_obs[0]):\n",
    "        \n",
    "        \n",
    "        \n",
    "        \n",
    "        temp_arr = A_matrix[i]\n",
    "        for x in range(i):\n",
    "            temp_arr = temp_arr[:]\n",
    "        temp_arr[i,...] = 1\n",
    "        \n",
    "arr[i][:,i,:,:] == arr[i][:][i,:,:]"
   ]
  },
  {
   "cell_type": "code",
   "execution_count": 72,
   "metadata": {},
   "outputs": [
    {
     "name": "stdout",
     "output_type": "stream",
     "text": [
      "(3, 3, 3, 3, 9)\n"
     ]
    },
    {
     "data": {
      "text/plain": [
       "(2, 3, 3, 3, 9)"
      ]
     },
     "execution_count": 72,
     "metadata": {},
     "output_type": "execute_result"
    }
   ],
   "source": [
    "asc = np.zeros((3,3,3,3,9))\n",
    "\n",
    "print(asc.shape)\n",
    "asc[:2].shape\n"
   ]
  },
  {
   "cell_type": "code",
   "execution_count": 161,
   "metadata": {},
   "outputs": [
    {
     "name": "stdout",
     "output_type": "stream",
     "text": [
      "a [[[1.         1.         1.        ]\n",
      "  [0.71409811 0.7721671  0.95700171]\n",
      "  [0.03021893 0.38698417 0.73048547]]\n",
      "\n",
      " [[0.25738795 0.13501388 0.96362385]\n",
      "  [1.         1.         1.        ]\n",
      "  [2.         2.         2.        ]]\n",
      "\n",
      " [[0.77598051 0.82739523 0.63378   ]\n",
      "  [0.90694966 0.58561214 0.32197955]\n",
      "  [1.         1.         1.        ]]]\n",
      "slice1 shape (1,)\n",
      "slice2 shape (3,)\n",
      "slice1 [0.13501388]\n",
      "slice2 [2. 2. 2.]\n",
      "revised a [[[1.         1.         1.        ]\n",
      "  [0.71409811 0.7721671  0.95700171]\n",
      "  [0.03021893 0.38698417 0.73048547]]\n",
      "\n",
      " [[0.25738795 0.13501388 0.96362385]\n",
      "  [1.         1.         1.        ]\n",
      "  [2.         2.         2.        ]]\n",
      "\n",
      " [[0.77598051 0.82739523 0.63378   ]\n",
      "  [0.90694966 0.58561214 0.32197955]\n",
      "  [1.         1.         1.        ]]]\n"
     ]
    }
   ],
   "source": [
    "# HELL\n",
    "\n",
    "# We have an expression like `A_space_colors_0[i][i,:,:,:,:,:,:,:,:,:,:,:,:,:] = 1`\n",
    "# and we want to automate this for arrays of variable dimensions.\n",
    "# How do we span across all dimensions as with \":\" but without having to write out N :s? \n",
    "\n",
    "# Attempt so far: grab part of the overall array using slices (a[:i], etc) and then use ellipsis e.g. a[:i][...,]\n",
    "# no idea whether this will work\n",
    "\n",
    "i = 1\n",
    "j = 1\n",
    "#a = np.random.rand(3, 3, 3)\n",
    "#                   /\\ /\\ /\\\n",
    "#                  obs s1 s2\n",
    "\n",
    "# j = 0\n",
    "a[0][0,:] = 1\n",
    "a[1][1,:] = 1\n",
    "a[2][2,:] = 1\n",
    "\n",
    "# j = 1\n",
    "# a[0][:,0] = 1\n",
    "# a[1][:,1] = 1\n",
    "# a[2][:,2] = 1\n",
    "\n",
    "print(\"a\",a)\n",
    "\n",
    "a[i][i:][i, ...] = 2\n",
    "\n",
    "slice1 = a[i][:i][..., j]\n",
    "slice2 = a[i][i:][j, ...]\n",
    "\n",
    "slice1 = a[i][:i][..., j]\n",
    "\n",
    "print(\"slice1 shape\", slice1.shape)\n",
    "print(\"slice2 shape\", slice2.shape)\n",
    "\n",
    "print(\"slice1\", a[i][:i][..., j])\n",
    "print(\"slice2\", a[i][i:][j, ...])\n",
    "\n",
    "print(\"revised a\", a)\n",
    "#a[i][i:][0,...] = 1\n",
    "\n",
    "#M2[i][:,:,i] = 1\n",
    "\n",
    "#M2[i][:i,i] = 1\n",
    "#M2[i][i:,i] = 1\n",
    "\n",
    "\n",
    "# print(\"slice 1\", M2[i][:i,i])\n",
    "# print(\"slice 2\",M2[i][i:,i])\n",
    "# print(\"shape\",M2[i][i:].shape)\n",
    "# M2[i][:i][..., i] = 1\n",
    "# M2[i][i:][0,...] = 1\n",
    "# print(\"M2\",M2)\n",
    "\n"
   ]
  },
  {
   "cell_type": "code",
   "execution_count": 76,
   "metadata": {},
   "outputs": [
    {
     "name": "stdout",
     "output_type": "stream",
     "text": [
      "(3, 3, 3, 3, 3, 3, 3, 3, 3, 9, 2, 2, 2, 3)\n"
     ]
    },
    {
     "data": {
      "text/plain": [
       "(2, 3, 3, 3, 3, 3, 3, 3, 3, 9, 2, 2, 2, 3)"
      ]
     },
     "execution_count": 76,
     "metadata": {},
     "output_type": "execute_result"
    }
   ],
   "source": [
    "print(A_space_colors_0[i].shape)\n",
    "A_space_colors_0[i][:i].shape"
   ]
  },
  {
   "cell_type": "code",
   "execution_count": 48,
   "metadata": {},
   "outputs": [],
   "source": [
    "A_space_colors_0 = np.zeros((3,3,3,3,3,3,3,3,3,3,9,2,2,2,3))\n",
    "A_space_colors_1 = np.zeros((3,3,3,3,3,3,3,3,3,3,9,2,2,2,3))\n",
    "A_space_colors_2 = np.zeros((3,3,3,3,3,3,3,3,3,3,9,2,2,2,3))\n",
    "A_space_colors_3 = np.zeros((3,3,3,3,3,3,3,3,3,3,9,2,2,2,3))\n",
    "A_space_colors_4 = np.zeros((3,3,3,3,3,3,3,3,3,3,9,2,2,2,3))\n",
    "A_space_colors_5 = np.zeros((3,3,3,3,3,3,3,3,3,3,9,2,2,2,3))\n",
    "A_space_colors_6 = np.zeros((3,3,3,3,3,3,3,3,3,3,9,2,2,2,3))\n",
    "A_space_colors_7 = np.zeros((3,3,3,3,3,3,3,3,3,3,9,2,2,2,3))\n",
    "A_space_colors_8 = np.zeros((3,3,3,3,3,3,3,3,3,3,9,2,2,2,3))\n",
    "\n",
    "for i in range(num_obs[0]):\n",
    "  A_space_colors_0[i][i,:,:,:,:,:,:,:,:,:,:,:,:,:] = 1\n",
    "  A_space_colors_1[i][:,i,:,:,:,:,:,:,:,:,:,:,:,:] = 1\n",
    "  A_space_colors_2[i][:,:,i,:,:,:,:,:,:,:,:,:,:,:] = 1\n",
    "  A_space_colors_3[i][:,:,:,i,:,:,:,:,:,:,:,:,:,:] = 1\n",
    "  A_space_colors_4[i][:,:,:,:,i,:,:,:,:,:,:,:,:,:] = 1\n",
    "  A_space_colors_5[i][:,:,:,:,:,i,:,:,:,:,:,:,:,:] = 1\n",
    "  A_space_colors_6[i][:,:,:,:,:,:,i,:,:,:,:,:,:,:] = 1\n",
    "  A_space_colors_7[i][:,:,:,:,:,:,:,i,:,:,:,:,:,:] = 1\n",
    "  A_space_colors_8[i][:,:,:,:,:,:,:,:,i,:,:,:,:,:] = 1"
   ]
  },
  {
   "cell_type": "code",
   "execution_count": null,
   "metadata": {
    "colab": {
     "background_save": true,
     "base_uri": "https://localhost:8080/"
    },
    "id": "CHJQl2JH-6Qe",
    "outputId": "63d46ed4-56bb-4924-ebab-146d02f0f13e"
   },
   "outputs": [
    {
     "name": "stdout",
     "output_type": "stream",
     "text": [
      "A 16\n",
      "A[0].shape (3, 3, 3, 3, 3, 3, 3, 3, 3, 3, 9, 2, 2, 2, 3)\n",
      "A matrix normalization check:\n",
      "Total # of states 4251528\n",
      "modality space_colors_0\n",
      "4251528.0\n",
      "anomalies: []\n",
      "num_anomalies: 0\n",
      "modality space_colors_1\n",
      "4251528.0\n",
      "anomalies: []\n",
      "num_anomalies: 0\n",
      "modality space_colors_2\n",
      "4251528.0\n",
      "anomalies: []\n",
      "num_anomalies: 0\n",
      "modality space_colors_3\n",
      "4251528.0\n",
      "anomalies: []\n",
      "num_anomalies: 0\n",
      "modality space_colors_4\n",
      "4251528.0\n",
      "anomalies: []\n",
      "num_anomalies: 0\n",
      "modality space_colors_5\n",
      "4251528.0\n",
      "anomalies: []\n",
      "num_anomalies: 0\n",
      "modality space_colors_6\n",
      "4251528.0\n",
      "anomalies: []\n",
      "num_anomalies: 0\n",
      "modality space_colors_7\n",
      "4251528.0\n",
      "anomalies: []\n",
      "num_anomalies: 0\n",
      "modality space_colors_8\n",
      "4251528.0\n",
      "anomalies: []\n",
      "num_anomalies: 0\n",
      "modality location\n",
      "4251528.0\n",
      "anomalies: []\n",
      "num_anomalies: 0\n",
      "modality symptom_red\n",
      "4251528.0\n",
      "anomalies: []\n",
      "num_anomalies: 0\n",
      "modality symptom_blue\n",
      "4251528.000000007\n",
      "anomalies: []\n",
      "num_anomalies: 0\n",
      "modality symptom_green\n",
      "4251527.999999995\n",
      "anomalies: []\n",
      "num_anomalies: 0\n",
      "modality b_m_red\n",
      "4251528.0\n",
      "anomalies: []\n",
      "num_anomalies: 0\n",
      "modality b_m_blue\n",
      "4251528.0\n",
      "anomalies: []\n",
      "num_anomalies: 0\n",
      "modality b_m_green\n",
      "4251528.0\n",
      "anomalies: []\n",
      "num_anomalies: 0\n",
      "b location [[[0.5]\n",
      "  [0. ]]\n",
      "\n",
      " [[0.5]\n",
      "  [1. ]]]\n",
      "B (14,)\n",
      "B 14\n",
      "B[0].shape (3, 3, 1)\n",
      "B matrix normalization check:\n",
      "state space_colors_0\n",
      "3.0\n",
      "anomalies: []\n",
      "num_anomalies: 0\n",
      "state space_colors_1\n",
      "3.0\n",
      "anomalies: []\n",
      "num_anomalies: 0\n",
      "state space_colors_2\n",
      "3.0\n",
      "anomalies: []\n",
      "num_anomalies: 0\n",
      "state space_colors_3\n",
      "3.0\n",
      "anomalies: []\n",
      "num_anomalies: 0\n",
      "state space_colors_4\n",
      "3.0\n",
      "anomalies: []\n",
      "num_anomalies: 0\n",
      "state space_colors_5\n",
      "3.0\n",
      "anomalies: []\n",
      "num_anomalies: 0\n",
      "state space_colors_6\n",
      "3.0\n",
      "anomalies: []\n",
      "num_anomalies: 0\n",
      "state space_colors_7\n",
      "3.0\n",
      "anomalies: []\n",
      "num_anomalies: 0\n",
      "state space_colors_8\n",
      "3.0\n",
      "anomalies: []\n",
      "num_anomalies: 0\n",
      "state location\n",
      "45\n",
      "anomalies: []\n",
      "num_anomalies: 0\n",
      "state has had symp_red\n",
      "2.0\n",
      "anomalies: []\n",
      "num_anomalies: 0\n",
      "state has had symp_blue\n",
      "2.0\n",
      "anomalies: []\n",
      "num_anomalies: 0\n",
      "state has had symp_green\n",
      "2.0\n",
      "anomalies: []\n",
      "num_anomalies: 0\n",
      "state Health_load\n",
      "3.0\n",
      "anomalies: []\n",
      "num_anomalies: 0\n",
      "About to define agent...\n",
      "Agent defined!!\n",
      "Iteration 0\n"
     ]
    }
   ],
   "source": [
    "\n",
    "\n",
    "\n",
    "\n",
    "A_space_colors_0 = np.zeros((3,3,3,3,3,3,3,3,3,3,9,2,2,2,3))\n",
    "A_space_colors_1 = np.zeros((3,3,3,3,3,3,3,3,3,3,9,2,2,2,3))\n",
    "A_space_colors_2 = np.zeros((3,3,3,3,3,3,3,3,3,3,9,2,2,2,3))\n",
    "A_space_colors_3 = np.zeros((3,3,3,3,3,3,3,3,3,3,9,2,2,2,3))\n",
    "A_space_colors_4 = np.zeros((3,3,3,3,3,3,3,3,3,3,9,2,2,2,3))\n",
    "A_space_colors_5 = np.zeros((3,3,3,3,3,3,3,3,3,3,9,2,2,2,3))\n",
    "A_space_colors_6 = np.zeros((3,3,3,3,3,3,3,3,3,3,9,2,2,2,3))\n",
    "A_space_colors_7 = np.zeros((3,3,3,3,3,3,3,3,3,3,9,2,2,2,3))\n",
    "A_space_colors_8 = np.zeros((3,3,3,3,3,3,3,3,3,3,9,2,2,2,3))\n",
    "A_age = np.zeros((30,3,3,3,3,3,3,3,3,3,9,2,2,2,3))\n",
    "# A_location = np.zeros((9,3,3,3,3,3,3,3,3,3,9,2,2,2,3))\n",
    "# A_sym_red = np.zeros((2,3,3,3,3,3,3,3,3,3,9,2,2,2,3))\n",
    "# A_sym_blue = np.zeros((2,3,3,3,3,3,3,3,3,3,9,2,2,2,3))\n",
    "# A_sym_green = np.zeros((2,3,3,3,3,3,3,3,3,3,9,2,2,2,3))\n",
    "# A_bm_red = np.zeros((2,3,3,3,3,3,3,3,3,3,9,2,2,2,3))\n",
    "# A_bm_blue = np.zeros((2,3,3,3,3,3,3,3,3,3,9,2,2,2,3))\n",
    "# A_bm_green = np.zeros((2,3,3,3,3,3,3,3,3,3,9,2,2,2,3))\n",
    "\n",
    "for i in range(num_obs[0]):\n",
    "  A_space_colors_0[i][i,:,:,:,:,:,:,:,:,:,:,:,:,:] = 1\n",
    "  A_space_colors_1[i][:,i,:,:,:,:,:,:,:,:,:,:,:,:] = 1\n",
    "  A_space_colors_2[i][:,:,i,:,:,:,:,:,:,:,:,:,:,:] = 1\n",
    "  A_space_colors_3[i][:,:,:,i,:,:,:,:,:,:,:,:,:,:] = 1\n",
    "  A_space_colors_4[i][:,:,:,:,i,:,:,:,:,:,:,:,:,:] = 1\n",
    "  A_space_colors_5[i][:,:,:,:,:,i,:,:,:,:,:,:,:,:] = 1\n",
    "  A_space_colors_6[i][:,:,:,:,:,:,i,:,:,:,:,:,:,:] = 1\n",
    "  A_space_colors_7[i][:,:,:,:,:,:,:,i,:,:,:,:,:,:] = 1\n",
    "  A_space_colors_8[i][:,:,:,:,:,:,:,:,i,:,:,:,:,:] = 1\n",
    "\n",
    "\n",
    "for i in range(num_obs[9]):\n",
    "  A_location[i][:,:,:,:,:,:,:,:,:,i,:,:,:,:] = 1\n",
    "\n",
    "#baseline of A_sym_red[0] to remove to have the opposite factors\n",
    "A_sym_red[0][:,:,:,:,:,:,:,:,:,:,:,:,:,:] = 1\n",
    "\n",
    "# Likelihood of observing symptom not red given that your health load is not loaded\n",
    "A_sym_red[0][:,:,:,:,:,:,:,:,:,:,:,:,:,0] = 1\n",
    "\n",
    "\n",
    "# Likelihood of observing (or not observing!) symptom red given that your health load is a little loaded and that you are on a red square and hasn't had the red symptom\n",
    "\n",
    "A_sym_red[:,0,:,:,:,:,:,:,:,:,0,0,:,:,1] = .5\n",
    "A_sym_red[:,:,0,:,:,:,:,:,:,:,1,0,:,:,1] = .5\n",
    "A_sym_red[:,:,:,0,:,:,:,:,:,:,2,0,:,:,1] = .5\n",
    "A_sym_red[:,:,:,:,0,:,:,:,:,:,3,0,:,:,1] = .5\n",
    "A_sym_red[:,:,:,:,:,0,:,:,:,:,4,0,:,:,1] = .5\n",
    "A_sym_red[:,:,:,:,:,:,0,:,:,:,5,0,:,:,1] = .5\n",
    "A_sym_red[:,:,:,:,:,:,:,0,:,:,6,0,:,:,1] = .5\n",
    "A_sym_red[:,:,:,:,:,:,:,:,0,:,7,0,:,:,1] = .5\n",
    "A_sym_red[:,:,:,:,:,:,:,:,:,0,8,0,:,:,1] = .5\n",
    "\n",
    "#A_sym_red[0][:,:,:,:,:,:,:,:,:,:,:,:,:,0] = .5\n",
    "\n",
    "# Likelihood of observing symptom red given that your health load is overloaded and that you are on a red square and hasn't had the red symptom\n",
    "\n",
    "A_sym_red[1][0,:,:,:,:,:,:,:,:,0,0,:,:,2] = 1\n",
    "A_sym_red[1][:,0,:,:,:,:,:,:,:,1,0,:,:,2] = 1\n",
    "A_sym_red[1][:,:,0,:,:,:,:,:,:,2,0,:,:,2] = 1\n",
    "A_sym_red[1][:,:,:,0,:,:,:,:,:,3,0,:,:,2] = 1\n",
    "A_sym_red[1][:,:,:,:,0,:,:,:,:,4,0,:,:,2] = 1\n",
    "A_sym_red[1][:,:,:,:,:,0,:,:,:,5,0,:,:,2] = 1\n",
    "A_sym_red[1][:,:,:,:,:,:,0,:,:,6,0,:,:,2] = 1\n",
    "A_sym_red[1][:,:,:,:,:,:,:,0,:,7,0,:,:,2] = 1\n",
    "A_sym_red[1][:,:,:,:,:,:,:,:,0,8,0,:,:,2] = 1\n",
    "\n",
    "#the opposite\n",
    "A_sym_red[0][0,:,:,:,:,:,:,:,:,0,0,:,:,2] = 0\n",
    "A_sym_red[0][:,0,:,:,:,:,:,:,:,1,0,:,:,2] = 0\n",
    "A_sym_red[0][:,:,0,:,:,:,:,:,:,2,0,:,:,2] = 0\n",
    "A_sym_red[0][:,:,:,0,:,:,:,:,:,3,0,:,:,2] = 0\n",
    "A_sym_red[0][:,:,:,:,0,:,:,:,:,4,0,:,:,2] = 0\n",
    "A_sym_red[0][:,:,:,:,:,0,:,:,:,5,0,:,:,2] = 0\n",
    "A_sym_red[0][:,:,:,:,:,:,0,:,:,6,0,:,:,2] = 0\n",
    "A_sym_red[0][:,:,:,:,:,:,:,0,:,7,0,:,:,2] = 0\n",
    "A_sym_red[0][:,:,:,:,:,:,:,:,0,8,0,:,:,2] = 0\n",
    "\n",
    "# Likelihood of observing symptom red given that your health load is a little loaded and that you are not on a red square and has had the red symptom\n",
    "A_sym_red[1][:,:,:,:,:,:,:,:,:,:,1,:,:,1] = .1\n",
    "\n",
    "#the opposite:\n",
    "A_sym_red[0][:,:,:,:,:,:,:,:,:,:,1,:,:,1] = .9\n",
    "\n",
    "# Likelihood of observing symptom red given that your health load is a little loaded and that you are on a red square and has had the red symptom\n",
    "\n",
    "A_sym_red[1][0,:,:,:,:,:,:,:,:,0,1,:,:,1] = .32\n",
    "A_sym_red[1][:,0,:,:,:,:,:,:,:,1,1,:,:,1] = .32\n",
    "A_sym_red[1][:,:,0,:,:,:,:,:,:,2,1,:,:,1] = .32\n",
    "A_sym_red[1][:,:,:,0,:,:,:,:,:,3,1,:,:,1] = .32\n",
    "A_sym_red[1][:,:,:,:,0,:,:,:,:,4,1,:,:,1] = .32\n",
    "A_sym_red[1][:,:,:,:,:,0,:,:,:,5,1,:,:,1] = .32\n",
    "A_sym_red[1][:,:,:,:,:,:,0,:,:,6,1,:,:,1] = .32\n",
    "A_sym_red[1][:,:,:,:,:,:,:,0,:,7,1,:,:,1] = .32\n",
    "A_sym_red[1][:,:,:,:,:,:,:,:,0,8,1,:,:,1] = .32\n",
    "\n",
    "#the opposite:\n",
    "A_sym_red[0][0,:,:,:,:,:,:,:,:,0,1,:,:,1] = .68\n",
    "A_sym_red[0][:,0,:,:,:,:,:,:,:,1,1,:,:,1] = .68\n",
    "A_sym_red[0][:,:,0,:,:,:,:,:,:,2,1,:,:,1] = .68\n",
    "A_sym_red[0][:,:,:,0,:,:,:,:,:,3,1,:,:,1] = .68\n",
    "A_sym_red[0][:,:,:,:,0,:,:,:,:,4,1,:,:,1] = .68\n",
    "A_sym_red[0][:,:,:,:,:,0,:,:,:,5,1,:,:,1] = .68\n",
    "A_sym_red[0][:,:,:,:,:,:,0,:,:,6,1,:,:,1] = .68\n",
    "A_sym_red[0][:,:,:,:,:,:,:,0,:,7,1,:,:,1] = .68\n",
    "A_sym_red[0][:,:,:,:,:,:,:,:,0,8,1,:,:,1] = .68\n",
    "\n",
    "# A_sym_red[0][0,:,:,:,:,:,:,:,:,0,1,:,:,1] = .7\n",
    "# A_sym_red[0][:,0,:,:,:,:,:,:,:,1,1,:,:,1] = .7\n",
    "# A_sym_red[0][:,:,0,:,:,:,:,:,:,2,1,:,:,1] = .7\n",
    "# A_sym_red[0][:,:,:,0,:,:,:,:,:,3,1,:,:,1] = .7\n",
    "# A_sym_red[0][:,:,:,:,0,:,:,:,:,4,1,:,:,1] = .7\n",
    "# A_sym_red[0][:,:,:,:,:,0,:,:,:,5,1,:,:,1] = .7\n",
    "# A_sym_red[0][:,:,:,:,:,:,0,:,:,6,1,:,:,1] = .7\n",
    "# A_sym_red[0][:,:,:,:,:,:,:,0,:,7,1,:,:,1] = .7\n",
    "# A_sym_red[0][:,:,:,:,:,:,:,:,0,8,1,:,:,1] = .7\n",
    "\n",
    "# Likelihood of observing symptom red given that your health load is overloaded and that you are on a red square and has had the red symptom\n",
    "\n",
    "A_sym_red[1][0,:,:,:,:,:,:,:,:,0,1,:,:,2] = 1\n",
    "A_sym_red[1][:,0,:,:,:,:,:,:,:,1,1,:,:,2] = 1\n",
    "A_sym_red[1][:,:,0,:,:,:,:,:,:,2,1,:,:,2] = 1\n",
    "A_sym_red[1][:,:,:,0,:,:,:,:,:,3,1,:,:,2] = 1\n",
    "A_sym_red[1][:,:,:,:,0,:,:,:,:,4,1,:,:,2] = 1\n",
    "A_sym_red[1][:,:,:,:,:,0,:,:,:,5,1,:,:,2] = 1\n",
    "A_sym_red[1][:,:,:,:,:,:,0,:,:,6,1,:,:,2] = 1\n",
    "A_sym_red[1][:,:,:,:,:,:,:,0,:,7,1,:,:,2] = 1\n",
    "A_sym_red[1][:,:,:,:,:,:,:,:,0,8,1,:,:,2] = 1\n",
    "\n",
    "#the opposite:\n",
    "# A_sym_red[0] = 1 - A_sym_red[1]\n",
    "A_sym_red[0][0,:,:,:,:,:,:,:,:,0,1,:,:,2] = 0\n",
    "A_sym_red[0][:,0,:,:,:,:,:,:,:,1,1,:,:,2] = 0\n",
    "A_sym_red[0][:,:,0,:,:,:,:,:,:,2,1,:,:,2] = 0\n",
    "A_sym_red[0][:,:,:,0,:,:,:,:,:,3,1,:,:,2] = 0\n",
    "A_sym_red[0][:,:,:,:,0,:,:,:,:,4,1,:,:,2] = 0\n",
    "A_sym_red[0][:,:,:,:,:,0,:,:,:,5,1,:,:,2] = 0\n",
    "A_sym_red[0][:,:,:,:,:,:,0,:,:,6,1,:,:,2] = 0\n",
    "A_sym_red[0][:,:,:,:,:,:,:,0,:,7,1,:,:,2] = 0\n",
    "A_sym_red[0][:,:,:,:,:,:,:,:,0,8,1,:,:,2] = 0\n",
    "\n",
    "\n",
    "#BLUE\n",
    "#baseline of 1 in all the A_sym_blue[0], will be replaced by opposite values where necessary\n",
    "A_sym_blue[0][:,:,:,:,:,:,:,:,:,:,:,:,:,:] = 1\n",
    "\n",
    "# Likelihood of observing symptom not blue given that your health load is not loaded\n",
    "A_sym_blue[0][:,:,:,:,:,:,:,:,:,:,:,:,:,0] = 1\n",
    "\n",
    "# Likelihood of observing symptom blue given that your health load is a little loaded and that you are not on a blue square and has had the blue symptom\n",
    "A_sym_blue[1][:,:,:,:,:,:,:,:,:,:,:,1,:,1] = .1\n",
    "#the opposite\n",
    "A_sym_blue[0][:,:,:,:,:,:,:,:,:,:,:,1,:,1] = .9\n",
    "\n",
    "# Likelihood of observing symptom blue given that your health load is a little loaded and that you are on a blue square and that you haven't had the blue symptom\n",
    "\n",
    "A_sym_blue[:,1,:,:,:,:,:,:,:,:,0,:,0,:,1] = .5\n",
    "A_sym_blue[:,:,1,:,:,:,:,:,:,:,1,:,0,:,1] = .5\n",
    "A_sym_blue[:,:,:,1,:,:,:,:,:,:,2,:,0,:,1] = .5\n",
    "A_sym_blue[:,:,:,:,1,:,:,:,:,:,3,:,0,:,1] = .5\n",
    "A_sym_blue[:,:,:,:,:,1,:,:,:,:,4,:,0,:,1] = .5\n",
    "A_sym_blue[:,:,:,:,:,:,1,:,:,:,5,:,0,:,1] = .5\n",
    "A_sym_blue[:,:,:,:,:,:,:,1,:,:,6,:,0,:,1] = .5\n",
    "A_sym_blue[:,:,:,:,:,:,:,:,1,:,7,:,0,:,1] = .5\n",
    "A_sym_blue[:,:,:,:,:,:,:,:,:,1,8,:,0,:,1] = .5\n",
    "\n",
    "#the opposite\n",
    "##No need for opposite, here is .5 on both\n",
    "\n",
    "# Likelihood of observing symptom blue given that your health load is overloaded and that you are on a blue square an that you haven't had the blue symptom\n",
    "\n",
    "A_sym_blue[1][1,:,:,:,:,:,:,:,:,0,:,0,:,2] = 1\n",
    "A_sym_blue[1][:,1,:,:,:,:,:,:,:,1,:,0,:,2] = 1\n",
    "A_sym_blue[1][:,:,1,:,:,:,:,:,:,2,:,0,:,2] = 1\n",
    "A_sym_blue[1][:,:,:,1,:,:,:,:,:,3,:,0,:,2] = 1\n",
    "A_sym_blue[1][:,:,:,:,1,:,:,:,:,4,:,0,:,2] = 1\n",
    "A_sym_blue[1][:,:,:,:,:,1,:,:,:,5,:,0,:,2] = 1\n",
    "A_sym_blue[1][:,:,:,:,:,:,1,:,:,6,:,0,:,2] = 1\n",
    "A_sym_blue[1][:,:,:,:,:,:,:,1,:,7,:,0,:,2] = 1\n",
    "A_sym_blue[1][:,:,:,:,:,:,:,:,1,8,:,0,:,2] = 1\n",
    "\n",
    "#the opposite\n",
    "A_sym_blue[0][1,:,:,:,:,:,:,:,:,0,:,0,:,2] = 0\n",
    "A_sym_blue[0][:,1,:,:,:,:,:,:,:,1,:,0,:,2] = 0\n",
    "A_sym_blue[0][:,:,1,:,:,:,:,:,:,2,:,0,:,2] = 0\n",
    "A_sym_blue[0][:,:,:,1,:,:,:,:,:,3,:,0,:,2] = 0\n",
    "A_sym_blue[0][:,:,:,:,1,:,:,:,:,4,:,0,:,2] = 0\n",
    "A_sym_blue[0][:,:,:,:,:,1,:,:,:,5,:,0,:,2] = 0\n",
    "A_sym_blue[0][:,:,:,:,:,:,1,:,:,6,:,0,:,2] = 0\n",
    "A_sym_blue[0][:,:,:,:,:,:,:,1,:,7,:,0,:,2] = 0\n",
    "A_sym_blue[0][:,:,:,:,:,:,:,:,1,8,:,0,:,2] = 0\n",
    "\n",
    "# Likelihood of observing symptom blue given that your health load is a little loaded and that you are on a blue square and that you have had the blue symptom\n",
    "\n",
    "A_sym_blue[1][1,:,:,:,:,:,:,:,:,0,:,1,:,1] = .2\n",
    "A_sym_blue[1][:,1,:,:,:,:,:,:,:,1,:,1,:,1] = .2\n",
    "A_sym_blue[1][:,:,1,:,:,:,:,:,:,2,:,1,:,1] = .2\n",
    "A_sym_blue[1][:,:,:,1,:,:,:,:,:,3,:,1,:,1] = .2\n",
    "A_sym_blue[1][:,:,:,:,1,:,:,:,:,4,:,1,:,1] = .2\n",
    "A_sym_blue[1][:,:,:,:,:,1,:,:,:,5,:,1,:,1] = .2\n",
    "A_sym_blue[1][:,:,:,:,:,:,1,:,:,6,:,1,:,1] = .2\n",
    "A_sym_blue[1][:,:,:,:,:,:,:,1,:,7,:,1,:,1] = .2\n",
    "A_sym_blue[1][:,:,:,:,:,:,:,:,1,8,:,1,:,1] = .2\n",
    "\n",
    "#The opposite\n",
    "\n",
    "A_sym_blue[0][1,:,:,:,:,:,:,:,:,0,:,1,:,1] = .8\n",
    "A_sym_blue[0][:,1,:,:,:,:,:,:,:,1,:,1,:,1] = .8\n",
    "A_sym_blue[0][:,:,1,:,:,:,:,:,:,2,:,1,:,1] = .8\n",
    "A_sym_blue[0][:,:,:,1,:,:,:,:,:,3,:,1,:,1] = .8\n",
    "A_sym_blue[0][:,:,:,:,1,:,:,:,:,4,:,1,:,1] = .8\n",
    "A_sym_blue[0][:,:,:,:,:,1,:,:,:,5,:,1,:,1] = .8\n",
    "A_sym_blue[0][:,:,:,:,:,:,1,:,:,6,:,1,:,1] = .8\n",
    "A_sym_blue[0][:,:,:,:,:,:,:,1,:,7,:,1,:,1] = .8\n",
    "A_sym_blue[0][:,:,:,:,:,:,:,:,1,8,:,1,:,1] = .8\n",
    "\n",
    "# Likelihood of observing symptom blue given that your health load is overloaded and that you are on a blue square an that you have had the blue symptom\n",
    "\n",
    "A_sym_blue[1][1,:,:,:,:,:,:,:,:,0,:,1,:,2] = 1\n",
    "A_sym_blue[1][:,1,:,:,:,:,:,:,:,1,:,1,:,2] = 1\n",
    "A_sym_blue[1][:,:,1,:,:,:,:,:,:,2,:,1,:,2] = 1\n",
    "A_sym_blue[1][:,:,:,1,:,:,:,:,:,3,:,1,:,2] = 1\n",
    "A_sym_blue[1][:,:,:,:,1,:,:,:,:,4,:,1,:,2] = 1\n",
    "A_sym_blue[1][:,:,:,:,:,1,:,:,:,5,:,1,:,2] = 1\n",
    "A_sym_blue[1][:,:,:,:,:,:,1,:,:,6,:,1,:,2] = 1\n",
    "A_sym_blue[1][:,:,:,:,:,:,:,1,:,7,:,1,:,2] = 1\n",
    "A_sym_blue[1][:,:,:,:,:,:,:,:,1,8,:,1,:,2] = 1\n",
    "\n",
    "#The opposite\n",
    "# A_sym_blue[0] = 1 - A_sym_blue[1]\n",
    "A_sym_blue[0][1,:,:,:,:,:,:,:,:,0,:,1,:,2] = 0\n",
    "A_sym_blue[0][:,1,:,:,:,:,:,:,:,1,:,1,:,2] = 0\n",
    "A_sym_blue[0][:,:,1,:,:,:,:,:,:,2,:,1,:,2] = 0\n",
    "A_sym_blue[0][:,:,:,1,:,:,:,:,:,3,:,1,:,2] = 0\n",
    "A_sym_blue[0][:,:,:,:,1,:,:,:,:,4,:,1,:,2] = 0\n",
    "A_sym_blue[0][:,:,:,:,:,1,:,:,:,5,:,1,:,2] = 0\n",
    "A_sym_blue[0][:,:,:,:,:,:,1,:,:,6,:,1,:,2] = 0\n",
    "A_sym_blue[0][:,:,:,:,:,:,:,1,:,7,:,1,:,2] = 0\n",
    "A_sym_blue[0][:,:,:,:,:,:,:,:,1,8,:,1,:,2] = 0\n",
    "\n",
    "\n",
    "#GREEN\n",
    "#Baseline of A_sym_green[0] at 1, to be replaced by opposite value when necessary\n",
    "A_sym_green[0][:,:,:,:,:,:,:,:,:,:,:,:,:,:] = 1\n",
    "\n",
    "# Likelihood of observing symptom not green given that your health load is not loaded\n",
    "A_sym_green[0][:,:,:,:,:,:,:,:,:,:,:,:,:,0] = 1\n",
    "\n",
    "# Likelihood of observing symptom green given that your health load is a little loaded and that you are not on a green square and has had the green symptom\n",
    "A_sym_green[1][:,:,:,:,:,:,:,:,:,:,:,:,1,1] = .1\n",
    "#the opposite\n",
    "A_sym_green[0][:,:,:,:,:,:,:,:,:,:,:,:,1,1] = .9\n",
    "\n",
    "# Likelihood of observing symptom green given that your health load is a little loaded and that you are on a green square and that you haven't had the green symptom\n",
    "\n",
    "A_sym_green[1][2,:,:,:,:,:,:,:,:,0,:,:,0,1] = .5\n",
    "A_sym_green[1][:,2,:,:,:,:,:,:,:,1,:,:,0,1] = .5\n",
    "A_sym_green[1][:,:,2,:,:,:,:,:,:,2,:,:,0,1] = .5\n",
    "A_sym_green[1][:,:,:,2,:,:,:,:,:,3,:,:,0,1] = .5\n",
    "A_sym_green[1][:,:,:,:,2,:,:,:,:,4,:,:,0,1] = .5\n",
    "A_sym_green[1][:,:,:,:,:,2,:,:,:,5,:,:,0,1] = .5\n",
    "A_sym_green[1][:,:,:,:,:,:,2,:,:,6,:,:,0,1] = .5\n",
    "A_sym_green[1][:,:,:,:,:,:,:,2,:,7,:,:,0,1] = .5\n",
    "A_sym_green[1][:,:,:,:,:,:,:,:,2,8,:,:,0,1] = .5\n",
    "\n",
    "#The opposite\n",
    "A_sym_green[0][2,:,:,:,:,:,:,:,:,0,:,:,0,1] = .5\n",
    "A_sym_green[0][:,2,:,:,:,:,:,:,:,1,:,:,0,1] = .5\n",
    "A_sym_green[0][:,:,2,:,:,:,:,:,:,2,:,:,0,1] = .5\n",
    "A_sym_green[0][:,:,:,2,:,:,:,:,:,3,:,:,0,1] = .5\n",
    "A_sym_green[0][:,:,:,:,2,:,:,:,:,4,:,:,0,1] = .5\n",
    "A_sym_green[0][:,:,:,:,:,2,:,:,:,5,:,:,0,1] = .5\n",
    "A_sym_green[0][:,:,:,:,:,:,2,:,:,6,:,:,0,1] = .5\n",
    "A_sym_green[0][:,:,:,:,:,:,:,2,:,7,:,:,0,1] = .5\n",
    "A_sym_green[0][:,:,:,:,:,:,:,:,2,8,:,:,0,1] = .5\n",
    "\n",
    "\n",
    "# Likelihood of observing symptom green given that your health load is overloaded and that you are on a green square and that you haven't had the green symptom\n",
    "\n",
    "A_sym_green[1][2,:,:,:,:,:,:,:,:,0,:,:,0,2] = 1\n",
    "A_sym_green[1][:,2,:,:,:,:,:,:,:,1,:,:,0,2] = 1\n",
    "A_sym_green[1][:,:,2,:,:,:,:,:,:,2,:,:,0,2] = 1\n",
    "A_sym_green[1][:,:,:,2,:,:,:,:,:,3,:,:,0,2] = 1\n",
    "A_sym_green[1][:,:,:,:,2,:,:,:,:,4,:,:,0,2] = 1\n",
    "A_sym_green[1][:,:,:,:,:,2,:,:,:,5,:,:,0,2] = 1\n",
    "A_sym_green[1][:,:,:,:,:,:,2,:,:,6,:,:,0,2] = 1\n",
    "A_sym_green[1][:,:,:,:,:,:,:,2,:,7,:,:,0,2] = 1\n",
    "A_sym_green[1][:,:,:,:,:,:,:,:,2,8,:,:,0,2] = 1\n",
    "\n",
    "#The opposite\n",
    "A_sym_green[0][2,:,:,:,:,:,:,:,:,0,:,:,0,2] = 0\n",
    "A_sym_green[0][:,2,:,:,:,:,:,:,:,1,:,:,0,2] = 0\n",
    "A_sym_green[0][:,:,2,:,:,:,:,:,:,2,:,:,0,2] = 0\n",
    "A_sym_green[0][:,:,:,2,:,:,:,:,:,3,:,:,0,2] = 0\n",
    "A_sym_green[0][:,:,:,:,2,:,:,:,:,4,:,:,0,2] = 0\n",
    "A_sym_green[0][:,:,:,:,:,2,:,:,:,5,:,:,0,2] = 0\n",
    "A_sym_green[0][:,:,:,:,:,:,2,:,:,6,:,:,0,2] = 0\n",
    "A_sym_green[0][:,:,:,:,:,:,:,2,:,7,:,:,0,2] = 0\n",
    "A_sym_green[0][:,:,:,:,:,:,:,:,2,8,:,:,0,2] = 0\n",
    "\n",
    "# Likelihood of observing symptom green given that your health load is a little loaded and that you are on a green square and that you have had the green symptom\n",
    "\n",
    "A_sym_green[1][2,:,:,:,:,:,:,:,:,0,:,:,1,1] = .2\n",
    "A_sym_green[1][:,2,:,:,:,:,:,:,:,1,:,:,1,1] = .2\n",
    "A_sym_green[1][:,:,2,:,:,:,:,:,:,2,:,:,1,1] = .2\n",
    "A_sym_green[1][:,:,:,2,:,:,:,:,:,3,:,:,1,1] = .2\n",
    "A_sym_green[1][:,:,:,:,2,:,:,:,:,4,:,:,1,1] = .2\n",
    "A_sym_green[1][:,:,:,:,:,2,:,:,:,5,:,:,1,1] = .2\n",
    "A_sym_green[1][:,:,:,:,:,:,2,:,:,6,:,:,1,1] = .2\n",
    "A_sym_green[1][:,:,:,:,:,:,:,2,:,7,:,:,1,1] = .2\n",
    "A_sym_green[1][:,:,:,:,:,:,:,:,2,8,:,:,1,1] = .2\n",
    "\n",
    "#the opposite\n",
    "A_sym_green[0][2,:,:,:,:,:,:,:,:,0,:,:,1,1] = .8\n",
    "A_sym_green[0][:,2,:,:,:,:,:,:,:,1,:,:,1,1] = .8\n",
    "A_sym_green[0][:,:,2,:,:,:,:,:,:,2,:,:,1,1] = .8\n",
    "A_sym_green[0][:,:,:,2,:,:,:,:,:,3,:,:,1,1] = .8\n",
    "A_sym_green[0][:,:,:,:,2,:,:,:,:,4,:,:,1,1] = .8\n",
    "A_sym_green[0][:,:,:,:,:,2,:,:,:,5,:,:,1,1] = .8\n",
    "A_sym_green[0][:,:,:,:,:,:,2,:,:,6,:,:,1,1] = .8\n",
    "A_sym_green[0][:,:,:,:,:,:,:,2,:,7,:,:,1,1] = .8\n",
    "A_sym_green[0][:,:,:,:,:,:,:,:,2,8,:,:,1,1] = .8\n",
    "\n",
    "# Likelihood of observing symptom green given that your health load is overloaded and that you are on a green square and that you have had the green symptom\n",
    "\n",
    "A_sym_green[1][2,:,:,:,:,:,:,:,:,0,:,:,1,2] = 1\n",
    "A_sym_green[1][:,2,:,:,:,:,:,:,:,1,:,:,1,2] = 1\n",
    "A_sym_green[1][:,:,2,:,:,:,:,:,:,2,:,:,1,2] = 1\n",
    "A_sym_green[1][:,:,:,2,:,:,:,:,:,3,:,:,1,2] = 1\n",
    "A_sym_green[1][:,:,:,:,2,:,:,:,:,4,:,:,1,2] = 1\n",
    "A_sym_green[1][:,:,:,:,:,2,:,:,:,5,:,:,1,2] = 1\n",
    "A_sym_green[1][:,:,:,:,:,:,2,:,:,6,:,:,1,2] = 1\n",
    "A_sym_green[1][:,:,:,:,:,:,:,2,:,7,:,:,1,2] = 1\n",
    "A_sym_green[1][:,:,:,:,:,:,:,:,2,8,:,:,1,2] = 1\n",
    "\n",
    "#the opposite\n",
    "# A_sym_green[0] = 1 - A_sym_green[1]\n",
    "A_sym_green[0][2,:,:,:,:,:,:,:,:,0,:,:,1,2] = 0\n",
    "A_sym_green[0][:,2,:,:,:,:,:,:,:,1,:,:,1,2] = 0\n",
    "A_sym_green[0][:,:,2,:,:,:,:,:,:,2,:,:,1,2] = 0\n",
    "A_sym_green[0][:,:,:,2,:,:,:,:,:,3,:,:,1,2] = 0\n",
    "A_sym_green[0][:,:,:,:,2,:,:,:,:,4,:,:,1,2] = 0\n",
    "A_sym_green[0][:,:,:,:,:,2,:,:,:,5,:,:,1,2] = 0\n",
    "A_sym_green[0][:,:,:,:,:,:,2,:,:,6,:,:,1,2] = 0\n",
    "A_sym_green[0][:,:,:,:,:,:,:,2,:,7,:,:,1,2] = 0\n",
    "A_sym_green[0][:,:,:,:,:,:,:,:,2,8,:,:,1,2] = 0\n",
    "\n",
    "\n",
    "# BIOMARKERS  \n",
    "# Likelihood of red biomarker observation given that you've had the red symptom\n",
    "A_bm_red[1][:,:,:,:,:,:,:,:,:,:,1,:,:,:] = 1\n",
    "A_bm_red[0] = 1 - A_bm_red[1]\n",
    "\n",
    "# Likelihood of red biomarker observation given that you've had the red symptom\n",
    "A_bm_blue[1][:,:,:,:,:,:,:,:,:,:,:,1,:,:] = 1\n",
    "A_bm_blue[0] = 1 - A_bm_blue[1]\n",
    "\n",
    "# Likelihood of red biomarker observation given that you've had the red symptom\n",
    "A_bm_green[1][:,:,:,:,:,:,:,:,:,:,:,:,1,:] = 1\n",
    "A_bm_green[0] = 1 - A_bm_green[1]\n",
    "\n",
    "\n",
    "\n",
    "\n",
    "#TODO : Fill in A matrices for agent \n",
    "\n",
    "A = utils.obj_array_zeros([[num] + num_states for num in num_obs])\n",
    "A[0] = A_space_colors_0\n",
    "A[1] = A_space_colors_1\n",
    "A[2] = A_space_colors_2\n",
    "A[3] = A_space_colors_3\n",
    "A[4] = A_space_colors_4\n",
    "A[5] = A_space_colors_5\n",
    "A[6] = A_space_colors_6\n",
    "A[7] = A_space_colors_7\n",
    "A[8] = A_space_colors_8\n",
    "A[9] = A_location\n",
    "A[10] = A_sym_red\n",
    "A[11] = A_sym_blue\n",
    "A[12] = A_sym_green\n",
    "A[13] = A_bm_red\n",
    "A[14] = A_bm_blue\n",
    "A[15] = A_bm_green\n",
    "\n",
    "##PRINTING DIAGNOSTICS for A\n",
    "\n",
    "print(\"A\", A.shape[0])\n",
    "print(\"A[0].shape\", A[0].shape)\n",
    "\n",
    "print(\"A matrix normalization check:\")\n",
    "\n",
    "states_count = 3*3*3*3*3*3*3*3*3*9*2*2*2*3\n",
    "print(\"Total # of states\", states_count)\n",
    "\n",
    "for modality in range(A.shape[0]):\n",
    "    print(\"modality\", list(observations.keys())[modality])\n",
    "    sums = A[modality].sum(axis=0)\n",
    "    the_sum = np.sum(A[modality])\n",
    "    print(the_sum)\n",
    "    print(\"anomalies:\", sums[np.where(sums!=1)])\n",
    "    print(\"num_anomalies:\", len(sums[np.where(sums!=1)]))\n",
    "\n",
    "#A[:] = [A_space_colors, A_age, A_location, A_s1, A_s2,A_s3,A_bm1,A_bm2,A_bm1=3 ], dtype=object)  #TO TRY LATER\n",
    "\n",
    "##END PRINT DIAGNOSTICS for A\n",
    "\n",
    "B_space_colors = np.zeros((3,3,1))\n",
    "B_space_colors[:,:,:] = .05\n",
    "for i in range(3):\n",
    "  B_space_colors[i,i,:] = .9\n",
    "B_space_colors_0 = copy.deepcopy(B_space_colors)\n",
    "B_space_colors_1 = copy.deepcopy(B_space_colors)\n",
    "B_space_colors_2 = copy.deepcopy(B_space_colors)\n",
    "B_space_colors_3 = copy.deepcopy(B_space_colors)\n",
    "B_space_colors_4 = copy.deepcopy(B_space_colors)\n",
    "B_space_colors_5 = copy.deepcopy(B_space_colors)\n",
    "B_space_colors_6 = copy.deepcopy(B_space_colors)\n",
    "B_space_colors_7 = copy.deepcopy(B_space_colors)\n",
    "B_space_colors_8 = copy.deepcopy(B_space_colors)\n",
    "\n",
    "B_age = np.zeros((30,30,1))\n",
    "for i in range(29):\n",
    "  B_age[i+1,i,:] = 1\n",
    "\n",
    "\n",
    "B_symp_red = np.zeros((2,2,1))\n",
    "B_symp_red[1,0,:] = 0.5\n",
    "B_symp_red[0,0,:] = 0.5\n",
    "B_symp_red[1,1,:] = 1\n",
    "\n",
    "B_symp_blue = np.zeros((2,2,1))\n",
    "B_symp_blue[1,0,:] = 0.5\n",
    "B_symp_blue[0,0,:] = 0.5\n",
    "B_symp_blue[1,1,:] = 1\n",
    "\n",
    "B_symp_green = np.zeros((2,2,1))\n",
    "B_symp_green[1,0,:] = 0.5\n",
    "B_symp_green[0,0,:] = 0.5\n",
    "B_symp_green[1,1,:] = 1\n",
    "\n",
    "\n",
    "B_health_load = np.expand_dims(np.array([  [1 , .4,  0],\n",
    "                       [0 , .6,  .4],  \n",
    "                       [0 ,  0,  .6],\n",
    "                      ]), 2) \n",
    "\n",
    "\n",
    " ### All possible movements given the grid \n",
    "B_location = np.zeros((9,9,5))\n",
    "\n",
    "B_location[0,1,3] = 1\n",
    "B_location[0,3,0] = 1\n",
    "B_location[0,0,4] = 1\n",
    "# B_location[0,0,1] = 1\n",
    "# B_location[0,0,2] = 1\n",
    "\n",
    "B_location[1,0,2] = 1\n",
    "B_location[1,4,0] = 1\n",
    "B_location[1,2,3] = 1\n",
    "B_location[1,1,4] = 1\n",
    "# B_location[1,1,1] = .4\n",
    "\n",
    "B_location[2,1,2] = 1\n",
    "B_location[2,5,0] = 1\n",
    "B_location[2,2,4] = 1\n",
    "# B_location[2,2,3] = .3\n",
    "# B_location[2,2,1] = .3\n",
    "\n",
    "B_location[3,0,1] = 1\n",
    "B_location[3,4,3] = 1\n",
    "B_location[3,6,0] = 1\n",
    "B_location[3,3,4] = 1\n",
    "# B_location[3,3,2] = .4\n",
    "\n",
    "B_location[4,1,1] = 1\n",
    "B_location[4,5,3] = 1\n",
    "B_location[4,7,0] = 1\n",
    "B_location[4,3,2] = 1\n",
    "B_location[4,4,4] = 1\n",
    "\n",
    "B_location[5,2,1] = 1\n",
    "B_location[5,4,2] = 1\n",
    "B_location[5,8,0] = 1\n",
    "B_location[5,5,4] = 1\n",
    "# B_location[5,5,3] = .4\n",
    "\n",
    "B_location[6,3,1] = 1\n",
    "B_location[6,7,3] = 1\n",
    "B_location[6,6,4] = 1\n",
    "# B_location[6,6,2] = .3\n",
    "# B_location[6,6,0] = .3\n",
    "\n",
    "B_location[7,6,2] = 1\n",
    "B_location[7,4,1] = 1\n",
    "B_location[7,8,3] = 1\n",
    "B_location[7,7,4] = 1\n",
    "# B_location[7,7,0] = .6\n",
    "\n",
    "B_location[8,7,2] = 1\n",
    "B_location[8,5,1] = 1\n",
    "B_location[8,8,4] = 1\n",
    "# B_location[8,8,0] = .3\n",
    "# B_location[8,8,3] = .3\n",
    "\n",
    "print(\"b location\", B_symp_red)\n",
    "\n",
    "B = utils.obj_array_zeros([[ns, ns, num_controls[f]] for f, ns in enumerate(num_states)])\n",
    "B[0] = B_space_colors_0\n",
    "B[1] = B_space_colors_1\n",
    "B[2] = B_space_colors_2\n",
    "B[3] = B_space_colors_3\n",
    "B[4] = B_space_colors_4\n",
    "B[5] = B_space_colors_5\n",
    "B[6] = B_space_colors_6\n",
    "B[7] = B_space_colors_7\n",
    "B[8] = B_space_colors_8\n",
    "B[9] = get_B_location()\n",
    "B[10] = B_symp_red\n",
    "B[11] = B_symp_blue\n",
    "B[12] = B_symp_green\n",
    "B[13] = B_health_load\n",
    "\n",
    "\n",
    "##PRINTING DIAGNOSTICS for B\n",
    "\n",
    "print(\"B\", B.shape)\n",
    "print(\"B\", B.shape[0])\n",
    "print(\"B[0].shape\", B[0].shape)\n",
    "\n",
    "print(\"B matrix normalization check:\")\n",
    "\n",
    "# states_count = 3*3*3*3*3*3*3*3*3*9*2*2*2*3\n",
    "# print(\"Total # of states\", states_count)\n",
    "\n",
    "for state in range(14):\n",
    "    \n",
    "    print(\"state\", list(states.keys())[state])\n",
    "    sums = B[state].sum(axis=0)\n",
    "    the_sum = np.sum(B[state])\n",
    "    print(the_sum)\n",
    "    print(\"anomalies:\", sums[np.where(sums!=1)])\n",
    "    print(\"num_anomalies:\", len(sums[np.where(sums!=1)]))\n",
    "\n",
    "\n",
    "\n",
    "##END PRINT DIAGNOSTICS for B\n",
    "\n",
    "C_symp_red = np.zeros(2)\n",
    "C_symp_red[0] = 1\n",
    "\n",
    "C_symp_blue = np.zeros(2)\n",
    "C_symp_blue[0] = 1\n",
    "\n",
    "C_symp_green = np.zeros(2)\n",
    "C_symp_green[0] = 1\n",
    "\n",
    "C_bm_red = np.zeros(2)\n",
    "C_bm_red[1] = 1\n",
    "\n",
    "C_bm_blue = np.zeros(2)\n",
    "C_bm_blue[1] = 1\n",
    "\n",
    "C_bm_green = np.zeros(2)\n",
    "C_bm_green[1] = 1\n",
    "\n",
    "C = utils.obj_array_zeros([no for no in num_obs])\n",
    "C[10] = C_symp_red\n",
    "C[11] = C_symp_blue\n",
    "C[12] = C_symp_green\n",
    "C[13] = C_bm_red\n",
    "C[14] = C_bm_blue\n",
    "C[15] = C_bm_green\n",
    "\n",
    "\n",
    "# D_space_colors = np.zeros(3)\n",
    "# D_age = np.zeros(30)\n",
    "# D_location = np.zeros(9)\n",
    "# D_symp_red = np.zeros(2)\n",
    "# D_symp_blue = np.zeros(2)\n",
    "# D_symp_green = np.zeros(2)\n",
    "# D_health_load = np.zeros(3)\n",
    "\n",
    "D = utils.obj_array(len(num_states))\n",
    "# Flat priors over all states\n",
    "for factor_idx in range(num_factors):\n",
    "    D[factor_idx] = np.ones(num_states[factor_idx]) / num_states[factor_idx]\n",
    "\n",
    "#A_gen_process = A\n",
    "#B_gen_process = B\n",
    "# instantiate a quick agent using your A, B and C arrays\n",
    "print(\"About to define agent...\")\n",
    "my_agent = Agent( A = A, B = B, C = C, D = D)\n",
    "print(\"Agent defined!!\")\n",
    "my_agent.grid = Grid\n",
    "\n",
    "# give the agent a random observation and get the optimized posterior beliefs\n",
    "changed_grid = Grid\n",
    "observation = changed_grid + [0,0,0,0,0,1,0,0] # a list specifying the indices of the observation, for each observation modality\n",
    "state = changed_grid + [0,0,0,0,0,1,0,0]\n",
    "location_state = state[10]\n",
    "\n",
    "\n",
    "# p(symptom | color at current location, biomarker, health load)\n",
    "gen_A_symptoms_red = np.zeros((2,3,2,3))\n",
    "\n",
    "# Condition: observe red symptom | square is red, biomarker is absent, and health is not loaded\n",
    "gen_A_symptoms_red[1,0,0,0] = .8\n",
    "\n",
    "# Condition: observe red symptom | square is  red, biomarker is absent, and health is a little loaded\n",
    "gen_A_symptoms_red[1,0,0,1] = .9\n",
    "\n",
    "# Condition: observe red symptom | square is  red, biomarker is absent, and health is overloaded\n",
    "gen_A_symptoms_red[1,0,0,2] = 1.\n",
    "\n",
    "# Condition: observe red symptom | square is  red, biomarker is present, and health is not loaded\n",
    "gen_A_symptoms_red[1,0,1,0] = 0.1\n",
    "\n",
    "# Condition: observe red symptom | square is  red, biomarker is present, and health is a little loaded\n",
    "gen_A_symptoms_red[1,0,1,1] = 0.3\n",
    "\n",
    "# Condition: observe red symptom | square is  red, biomarker is present, and health is overloaded\n",
    "gen_A_symptoms_red[1,0,1,2] = 0.6\n",
    "\n",
    "# p(symptom | color at current location, biomarker, health load)\n",
    "gen_A_symptoms_green = np.zeros((2,3,2,3))\n",
    "\n",
    "# Condition: observe green symptom | square is green, biomarker is absent, and health is not loaded\n",
    "gen_A_symptoms_green[1,2,0,0] = .8\n",
    "\n",
    "# Condition: observe green symptom | square is  green, biomarker is absent, and health is a little loaded\n",
    "gen_A_symptoms_green[1,2,0,1] = .9\n",
    "\n",
    "# Condition: observe green symptom | square is  green, biomarker is absent, and health is overloaded\n",
    "gen_A_symptoms_green[1,2,0,2] = 1.\n",
    "\n",
    "# Condition: observe green symptom | square is green,  biomarker is present, and health is not loaded\n",
    "gen_A_symptoms_green[1,2,1,0] = 0.1\n",
    "\n",
    "# Condition: observe green symptom | square is  green, biomarker is present, and health is a little loaded\n",
    "gen_A_symptoms_green[1,2,1,1] = 0.3\n",
    "\n",
    "# Condition: observe green symptom | square is green, biomarker is present, and health is overloaded\n",
    "gen_A_symptoms_green[1,2,1,2] = 0.6\n",
    "\n",
    "# p(symptom | color at current location, biomarker, health load)\n",
    "gen_A_symptoms_blue = np.zeros((2,3,2,3))\n",
    "\n",
    "# Condition: observe blue symptom | square is blue, biomarker is absent, and health is not loaded\n",
    "gen_A_symptoms_blue[1,1,0,0] = .8\n",
    "\n",
    "# Condition: observe blue symptom | square is blue, biomarker is absent, and health is a little loaded\n",
    "gen_A_symptoms_blue[1,1,0,1] = .9\n",
    "\n",
    "# Condition: observe blue symptom | square is blue, biomarker is absent, and health is overloaded\n",
    "gen_A_symptoms_blue[1,1,0,2] = 1.\n",
    "\n",
    "# Condition: observe blue symptom | square is blue,  biomarker is present, and health is not loaded\n",
    "gen_A_symptoms_blue[1,1,1,0] = 0.1\n",
    "\n",
    "# Condition: observe blue symptom | square is blue, biomarker is present, and health is a little loaded\n",
    "gen_A_symptoms_blue[1,1,1,1] = 0.3\n",
    "\n",
    "# Condition: observe blue symptom | square is blue, biomarker is present, and health is overloaded\n",
    "gen_A_symptoms_blue[1,1,1,2] = 0.6\n",
    "\n",
    "\n",
    "### Health load depends on concurrent symptoms\n",
    "\n",
    "###gen process for Health load state\n",
    "# Transition dynamics (independent of other influences i.e. decay rates)\n",
    "                     #current state row / previous state column    \n",
    "gen_B_health_load = np.expand_dims(np.array([  [1 ,      .4,  0],\n",
    "                       [0 ,      .6,  .4],  \n",
    "                       [0 ,      0,  .6],\n",
    "                      ]), 2) \n",
    "\n",
    "\n",
    "# Here it's important to get the dependencies right -- need to sketch this out\n",
    "# Rough first attempt:\n",
    "\n",
    "# [pathogens in environment]    [immune system state (biomarkers)]\n",
    "#       |    __________________________________|\n",
    "#       V   V\n",
    "# [health load]\n",
    "#       |  ^ \n",
    "#       V  |\n",
    "#   [symptoms]\n",
    "# Note the circular dependency between health load and symptoms.\n",
    "# For this iteration, probably best to model only the symptom --> health load direction\n",
    "# This may be justified since we already have a pathogens --> symptoms link which induces a correlation\n",
    "\n",
    "# Thus we should model:\n",
    "# p(health_load | biomarker1,2,3, symptom1,2,3)\n",
    "\n",
    "# TODO : Figure in color of square?\n",
    "\n",
    "gen_A_health_load = np.zeros((3,2,2,2,2,2,2))\n",
    "\n",
    "#You are not loaded if you have no biomarkers and no symptoms\n",
    "gen_A_health_load[0,0,0,0,0,0,0] = 1\n",
    "\n",
    "#You are not loaded if you have red biomarker and no symptoms\n",
    "gen_A_health_load[0,1,0,0,0,0,0] = 1\n",
    "\n",
    "#You are not loaded if you have blue biomarker and no symptoms\n",
    "gen_A_health_load[0,0,1,0,0,0,0] = 1\n",
    "\n",
    "#You are not loaded if you have green biomarker and no symptoms\n",
    "gen_A_health_load[0,0,0,1,0,0,0] = 1\n",
    "\n",
    "#You are not loaded if you have red and blue biomarker and no symptoms\n",
    "gen_A_health_load[0,1,1,0,0,0,0] = 1\n",
    "\n",
    "#You are not loaded if you have red and green biomarker and no symptoms\n",
    "gen_A_health_load[0,1,0,1,0,0,0] = 1\n",
    "\n",
    "#You are not loaded if you have green and blue biomarker and no symptoms\n",
    "gen_A_health_load[0,0,1,1,0,0,0] = 1\n",
    "\n",
    "#You are not loaded if you have red, green and blue biomarker and no symptoms\n",
    "gen_A_health_load[0,1,1,1,0,0,0] = 1\n",
    "\n",
    "\n",
    "#You are a little loaded if you have no biomarker and red symptoms\n",
    "gen_A_health_load[1,0,0,0,1,0,0] = .5\n",
    "\n",
    "#You are a little loaded if you have no biomarker and blue symptoms\n",
    "gen_A_health_load[1,0,0,0,0,1,0] = .5\n",
    "\n",
    "#You are a little loaded if you have no biomarker and green symptoms\n",
    "gen_A_health_load[1,0,0,0,0,0,1] = .5\n",
    "\n",
    "#You are a little loaded if you have the red biomarker and red symptoms\n",
    "gen_A_health_load[1,1,:,:,1,0,0] = .2\n",
    "\n",
    "#You are a little loaded if you have the blue biomarker and red symptoms\n",
    "gen_A_health_load[1,0,1,0,1,0,0] = .5\n",
    "\n",
    "#You are a little loaded if you have the green biomarker and red symptoms\n",
    "gen_A_health_load[1,0,0,1,1,0,0] = .5\n",
    "\n",
    "#You are a little loaded if you have the red biomarker and blue symptoms\n",
    "gen_A_health_load[1,1,0,0,0,1,0] = .5\n",
    "\n",
    "#You are a little loaded if you have the blue biomarker and blue symptoms\n",
    "gen_A_health_load[1,:,1,:,0,1,0] = .2\n",
    "\n",
    "#You are a little loaded if you have the green biomarker and blue symptoms\n",
    "gen_A_health_load[1,0,0,1,0,1,0] = .5\n",
    "\n",
    "#You are a little loaded if you have the red biomarker and green symptoms\n",
    "gen_A_health_load[1,1,0,0,0,0,1] = .5\n",
    "\n",
    "#You are a little loaded if you have the blue biomarker and green symptoms\n",
    "gen_A_health_load[1,0,1,0,0,0,1] = .5\n",
    "\n",
    "#You are a little loaded if you have the green biomarker and green symptoms\n",
    "gen_A_health_load[1,:,:,1,0,0,1] = .2\n",
    "\n",
    "#You are a little loaded if you have  any biomarker but the red biomarker and red symptoms\n",
    "gen_A_health_load[1,0,:,:,1,0,0] = .5\n",
    "\n",
    "#You are a little loaded if you have any biomarker but the blue biomarker and blue symptoms\n",
    "gen_A_health_load[1,:,0,:,0,1,0] = .5\n",
    "\n",
    "#You are a little loaded if you have any biomarker but the green biomarker and green symptoms\n",
    "gen_A_health_load[1,:,:,0, 0,0,1] = .5\n",
    "\n",
    "#You are a little loaded if you have no biomarker and red and blue symptoms\n",
    "gen_A_health_load[1,0,0,0,1,1,0] = 1\n",
    "\n",
    "#You are a little loaded if you have no biomarker and red and green symptoms\n",
    "gen_A_health_load[1,0,0,0,1,0,1] = 1\n",
    "\n",
    "#You are a little loaded if you have no biomarker and blue and green symptoms\n",
    "gen_A_health_load[1,0,0,0,0,1,1] = 1\n",
    "\n",
    "#You are a little loaded if you have any biomarker and red and blue and red and blue symptoms\n",
    "gen_A_health_load[1,1,1,:,1,1,0] = .6\n",
    "\n",
    "#You are a little loaded if you have any biomarker and red and green and red and green symptoms\n",
    "gen_A_health_load[1,1,:,1,1,0,1] = .6\n",
    "\n",
    "#You are a little loaded if you have any biomarker and blue and green and blue and green symptoms\n",
    "gen_A_health_load[1,:,1,1,0,1,1] = .6\n",
    "\n",
    "\n",
    "#You are a overloaded if you have any biomarker all symptoms\n",
    "gen_A_health_load[1,:,:,:,1,1,1] = .6\n",
    "\n",
    "#You are a overloaded if you have no biomarker all symptoms\n",
    "gen_A_health_load[1,0,0,0,1,1,1] = 1\n",
    "\n",
    "\n",
    "\n",
    "T = 10\n",
    "\n",
    "for t in range(T):\n",
    "  print(f\"Iteration {t}\")\n",
    "\n",
    "  qs = my_agent.infer_states(observation) # get posterior over hidden states (a multi-factor belief)\n",
    "\n",
    "  # Do active inference\n",
    "\n",
    "  q_pi, neg_efe = my_agent.infer_policies() # return the policy posterior and return (negative) expected free energies of each policy as well\n",
    "\n",
    "  action = my_agent.sample_action() # sample an action from the posterior over policies\n",
    "\n",
    "\n",
    "  \n",
    "\n",
    "  ####generative process\n",
    "\n",
    "  ###next states = the B matrix * previous state\n",
    "  ### next grid observations \n",
    "  location_state = np.where(B_location[:,location_state,action])[0][0]\n",
    "  for idx, el in enumerate(changed_grid):\n",
    "    changed_grid[idx]= np.random.choice(3,1,p=Grid_B[:,changed_grid[idx]])\n",
    "  my_agent.grid = changed_grid\n",
    "\n",
    "  \n",
    "  gen_health_load =  np.random.choice(3,1,\n",
    "      p=gen_A_health_load[:,observation[13], observation[14], observation[15], observation[10], observation[11], observation[12]])\n",
    "\n",
    "  # sym_red_obs = p(sym|color[location], bm_red)\n",
    "  #Observed red symptom\n",
    "  sym_red_obs = gen_A_symptoms_red[:,changed_grid[location_state],observation[13],gen_health_load ]\n",
    "\n",
    "  #Observed blue symptom\n",
    "  sym_blue_obs = gen_A_symptoms_blue[:,changed_grid[location_state],observation[14],gen_health_load ]\n",
    "\n",
    "  #Observed blue symptom\n",
    "  sym_green_obs = gen_A_symptoms_green[:,changed_grid[location_state],observation[15],gen_health_load ]\n",
    "\n",
    "  #Observed biomarker red\n",
    "  biomarker_red = observation[13] or observation[10]\n",
    "\n",
    "  #Observed biomarker blue\n",
    "  biomarker_blue = observation[14] or observation[11]\n",
    "\n",
    "  #Observed biomarker green\n",
    "  biomarker_green = observation[15] or observation[12]\n",
    "\n",
    "  \n",
    "  age = t # TODO : Incorporate (use as a coefficient on some B matrix)\n",
    "  observation = changed_grid + [location_state,sym_red_obs,sym_blue_obs, sym_green_obs,biomarker_red, biomarker_blue, biomarker_green ]  \n"
   ]
  },
  {
   "cell_type": "code",
   "execution_count": null,
   "metadata": {
    "id": "KkrLp8kZ6dr8"
   },
   "outputs": [],
   "source": []
  },
  {
   "cell_type": "code",
   "execution_count": null,
   "metadata": {
    "id": "15wYmKsnYEND"
   },
   "outputs": [],
   "source": []
  },
  {
   "cell_type": "markdown",
   "metadata": {
    "id": "AU3IMPuuYFOJ"
   },
   "source": [
    "K-means over policies"
   ]
  },
  {
   "cell_type": "code",
   "execution_count": null,
   "metadata": {
    "colab": {
     "base_uri": "https://localhost:8080/"
    },
    "id": "2JQQUablYHrr",
    "outputId": "f3261e04-f9c6-4856-c54d-238b4e0ce47d"
   },
   "outputs": [
    {
     "name": "stdout",
     "output_type": "stream",
     "text": [
      "Collecting install\n",
      "  Downloading install-1.3.5-py3-none-any.whl (3.2 kB)\n",
      "Requirement already satisfied: matplotlib in /usr/local/lib/python3.7/dist-packages (3.2.2)\n",
      "Requirement already satisfied: numpy in /usr/local/lib/python3.7/dist-packages (1.21.6)\n",
      "Requirement already satisfied: pandas in /usr/local/lib/python3.7/dist-packages (1.3.5)\n",
      "Requirement already satisfied: seaborn in /usr/local/lib/python3.7/dist-packages (0.11.2)\n",
      "Requirement already satisfied: scikit-learn in /usr/local/lib/python3.7/dist-packages (1.0.2)\n",
      "Collecting kneed\n",
      "  Downloading kneed-0.7.0-py2.py3-none-any.whl (9.4 kB)\n",
      "Requirement already satisfied: python-dateutil>=2.1 in /usr/local/lib/python3.7/dist-packages (from matplotlib) (2.8.2)\n",
      "Requirement already satisfied: kiwisolver>=1.0.1 in /usr/local/lib/python3.7/dist-packages (from matplotlib) (1.4.2)\n",
      "Requirement already satisfied: pyparsing!=2.0.4,!=2.1.2,!=2.1.6,>=2.0.1 in /usr/local/lib/python3.7/dist-packages (from matplotlib) (3.0.8)\n",
      "Requirement already satisfied: cycler>=0.10 in /usr/local/lib/python3.7/dist-packages (from matplotlib) (0.11.0)\n",
      "Requirement already satisfied: typing-extensions in /usr/local/lib/python3.7/dist-packages (from kiwisolver>=1.0.1->matplotlib) (4.1.1)\n",
      "Requirement already satisfied: six>=1.5 in /usr/local/lib/python3.7/dist-packages (from python-dateutil>=2.1->matplotlib) (1.15.0)\n",
      "Requirement already satisfied: pytz>=2017.3 in /usr/local/lib/python3.7/dist-packages (from pandas) (2022.1)\n",
      "Requirement already satisfied: scipy>=1.0 in /usr/local/lib/python3.7/dist-packages (from seaborn) (1.7.3)\n",
      "Requirement already satisfied: joblib>=0.11 in /usr/local/lib/python3.7/dist-packages (from scikit-learn) (1.1.0)\n",
      "Requirement already satisfied: threadpoolctl>=2.0.0 in /usr/local/lib/python3.7/dist-packages (from scikit-learn) (3.1.0)\n",
      "Installing collected packages: kneed, install\n",
      "Successfully installed install-1.3.5 kneed-0.7.0\n"
     ]
    }
   ],
   "source": [
    "!pip install install matplotlib numpy pandas seaborn scikit-learn kneed\n"
   ]
  },
  {
   "cell_type": "code",
   "execution_count": null,
   "metadata": {
    "id": "1M77uEXoYIJv"
   },
   "outputs": [],
   "source": [
    "import matplotlib.pyplot as plt\n",
    "from kneed import KneeLocator\n",
    "from sklearn.datasets import make_blobs\n",
    "from sklearn.cluster import KMeans\n",
    "from sklearn.metrics import silhouette_score\n",
    "from sklearn.preprocessing import StandardScaler"
   ]
  },
  {
   "cell_type": "code",
   "execution_count": null,
   "metadata": {
    "id": "nqRUTgsaZRlg"
   },
   "outputs": [],
   "source": []
  },
  {
   "cell_type": "markdown",
   "metadata": {
    "id": "qKyJ2syRZWcv"
   },
   "source": [
    "generate fake data for testing purposes"
   ]
  },
  {
   "cell_type": "code",
   "execution_count": null,
   "metadata": {
    "id": "LXpRAcoXZY5_"
   },
   "outputs": [],
   "source": [
    "features, true_labels = make_blobs(\n",
    "     n_samples=200,\n",
    "     centers=3,\n",
    "     cluster_std=2.75,\n",
    "     random_state=42\n",
    " )"
   ]
  },
  {
   "cell_type": "code",
   "execution_count": null,
   "metadata": {
    "colab": {
     "base_uri": "https://localhost:8080/"
    },
    "id": "quATUcxkZf-C",
    "outputId": "88afb279-1fd1-4634-fe41-8912faf3f7d7"
   },
   "outputs": [
    {
     "data": {
      "text/plain": [
       "array([[  9.77075874,   3.27621022],\n",
       "       [ -9.71349666,  11.27451802],\n",
       "       [ -6.91330582,  -9.34755911],\n",
       "       [-10.86185913, -10.75063497],\n",
       "       [ -8.50038027,  -4.54370383]])"
      ]
     },
     "execution_count": 6,
     "metadata": {},
     "output_type": "execute_result"
    }
   ],
   "source": [
    "features[:5]"
   ]
  },
  {
   "cell_type": "code",
   "execution_count": null,
   "metadata": {
    "colab": {
     "base_uri": "https://localhost:8080/"
    },
    "id": "NF5jktQOZi0S",
    "outputId": "7c352f55-5a2a-470a-ef99-f69672d6983d"
   },
   "outputs": [
    {
     "data": {
      "text/plain": [
       "array([1, 0, 2, 2, 2])"
      ]
     },
     "execution_count": 7,
     "metadata": {},
     "output_type": "execute_result"
    }
   ],
   "source": [
    "true_labels[:5]"
   ]
  },
  {
   "cell_type": "markdown",
   "metadata": {
    "id": "FeDPFhmMZwBq"
   },
   "source": [
    "Standardize data - means of 0 and standard dev of 1"
   ]
  },
  {
   "cell_type": "code",
   "execution_count": null,
   "metadata": {
    "colab": {
     "base_uri": "https://localhost:8080/"
    },
    "id": "9R7baSeXZleW",
    "outputId": "0ec6b154-507e-48d4-c2c4-9948955e44b3"
   },
   "outputs": [
    {
     "data": {
      "text/plain": [
       "array([[ 2.13082109,  0.25604351],\n",
       "       [-1.52698523,  1.41036744],\n",
       "       [-1.00130152, -1.56583175],\n",
       "       [-1.74256891, -1.76832509],\n",
       "       [-1.29924521, -0.87253446]])"
      ]
     },
     "execution_count": 8,
     "metadata": {},
     "output_type": "execute_result"
    }
   ],
   "source": [
    "\n",
    "scaler = StandardScaler()\n",
    "scaled_features = scaler.fit_transform(features)\n",
    "scaled_features[:5]"
   ]
  },
  {
   "cell_type": "code",
   "execution_count": null,
   "metadata": {
    "id": "WVoZpm21Z3wv"
   },
   "outputs": [],
   "source": [
    "kmeans = KMeans(\n",
    "   init=\"random\",\n",
    "   n_clusters=3,\n",
    "   n_init=10,\n",
    "   max_iter=300,\n",
    "   random_state=42\n",
    "    )\n"
   ]
  },
  {
   "cell_type": "code",
   "execution_count": null,
   "metadata": {
    "colab": {
     "base_uri": "https://localhost:8080/"
    },
    "id": "mVv6UiLsa2I-",
    "outputId": "7aa8620c-6414-4cec-cea5-3e4513bf096b"
   },
   "outputs": [
    {
     "data": {
      "text/plain": [
       "KMeans(init='random', n_clusters=3, random_state=42)"
      ]
     },
     "execution_count": 10,
     "metadata": {},
     "output_type": "execute_result"
    }
   ],
   "source": [
    "kmeans.fit(scaled_features)"
   ]
  },
  {
   "cell_type": "code",
   "execution_count": null,
   "metadata": {
    "colab": {
     "base_uri": "https://localhost:8080/"
    },
    "id": "i16GGRGCa82h",
    "outputId": "e5261bc5-12e3-4893-d655-6daa51a2d9ef"
   },
   "outputs": [
    {
     "data": {
      "text/plain": [
       "74.57960106819854"
      ]
     },
     "execution_count": 11,
     "metadata": {},
     "output_type": "execute_result"
    }
   ],
   "source": [
    "kmeans.inertia_"
   ]
  },
  {
   "cell_type": "code",
   "execution_count": null,
   "metadata": {
    "colab": {
     "base_uri": "https://localhost:8080/"
    },
    "id": "BGSo8i4cbFpE",
    "outputId": "5c48b244-569a-4e9b-c7da-fcce5a0c8073"
   },
   "outputs": [
    {
     "data": {
      "text/plain": [
       "array([[-0.25813925,  1.05589975],\n",
       "       [-0.91941183, -1.18551732],\n",
       "       [ 1.19539276,  0.13158148]])"
      ]
     },
     "execution_count": 12,
     "metadata": {},
     "output_type": "execute_result"
    }
   ],
   "source": [
    "kmeans.cluster_centers_"
   ]
  },
  {
   "cell_type": "code",
   "execution_count": null,
   "metadata": {
    "colab": {
     "base_uri": "https://localhost:8080/"
    },
    "id": "AMNmxsYmbHaQ",
    "outputId": "5f1a1f5e-f43e-4a57-f907-e4984245ebf8"
   },
   "outputs": [
    {
     "data": {
      "text/plain": [
       "2"
      ]
     },
     "execution_count": 13,
     "metadata": {},
     "output_type": "execute_result"
    }
   ],
   "source": [
    "kmeans.n_iter_"
   ]
  },
  {
   "cell_type": "code",
   "execution_count": null,
   "metadata": {
    "colab": {
     "base_uri": "https://localhost:8080/"
    },
    "id": "H3FYShO-bKaN",
    "outputId": "490ff2be-a2cd-48db-ca40-2e6109ddbf74"
   },
   "outputs": [
    {
     "data": {
      "text/plain": [
       "array([2, 0, 1, 1, 1], dtype=int32)"
      ]
     },
     "execution_count": 14,
     "metadata": {},
     "output_type": "execute_result"
    }
   ],
   "source": [
    "kmeans.labels_[:5]"
   ]
  },
  {
   "cell_type": "code",
   "execution_count": null,
   "metadata": {
    "id": "lanmsTCEbOc0"
   },
   "outputs": [],
   "source": [
    "kmeans_silhouette = silhouette_score(\n",
    "   scaled_features, kmeans.labels_\n",
    "    ).round(2)\n"
   ]
  },
  {
   "cell_type": "code",
   "execution_count": null,
   "metadata": {
    "colab": {
     "base_uri": "https://localhost:8080/"
    },
    "id": "Sd8ZZ_xAbvKB",
    "outputId": "14ef8e7a-2c0d-46be-88a9-c3edda8efb69"
   },
   "outputs": [
    {
     "data": {
      "text/plain": [
       "0.59"
      ]
     },
     "execution_count": 16,
     "metadata": {},
     "output_type": "execute_result"
    }
   ],
   "source": [
    "kmeans_silhouette"
   ]
  },
  {
   "cell_type": "code",
   "execution_count": null,
   "metadata": {
    "colab": {
     "base_uri": "https://localhost:8080/",
     "height": 282
    },
    "id": "fPiw9rfbbxCC",
    "outputId": "4cfefb53-a6da-4420-e9a8-65a30bb80c4c"
   },
   "outputs": [
    {
     "data": {
      "text/plain": [
       "<matplotlib.collections.PathCollection at 0x7f5701dc0290>"
      ]
     },
     "execution_count": 24,
     "metadata": {},
     "output_type": "execute_result"
    },
    {
     "data": {
      "image/png": "[encoded data removed]",
      "text/plain": [
       "<Figure size 432x288 with 1 Axes>"
      ]
     },
     "metadata": {
      "needs_background": "light"
     },
     "output_type": "display_data"
    }
   ],
   "source": [
    "scat = plt.scatter(\n",
    "    scaled_features[:,0],\n",
    "    scaled_features[:,1]\n",
    "    # kmeans.cluster_centers,\n",
    ")\n",
    "plt.scatter(\n",
    "    kmeans.cluster_centers_[:,0],\n",
    "    kmeans.cluster_centers_[:,1]\n",
    ")"
   ]
  },
  {
   "cell_type": "code",
   "execution_count": null,
   "metadata": {
    "id": "iCWvOZ-rck-S"
   },
   "outputs": [],
   "source": []
  }
 ],
 "metadata": {
  "colab": {
   "collapsed_sections": [],
   "include_colab_link": true,
   "machine_shape": "hm",
   "name": "sickboi",
   "provenance": []
  },
  "kernelspec": {
   "display_name": "Python 3",
   "language": "python",
   "name": "python3"
  },
  "language_info": {
   "codemirror_mode": {
    "name": "ipython",
    "version": 3
   },
   "file_extension": ".py",
   "mimetype": "text/x-python",
   "name": "python",
   "nbconvert_exporter": "python",
   "pygments_lexer": "ipython3",
   "version": "3.8.3"
  }
 },
 "nbformat": 4,
 "nbformat_minor": 4
}
