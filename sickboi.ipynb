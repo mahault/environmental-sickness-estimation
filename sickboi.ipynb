{
  "cells": [
    {
      "cell_type": "markdown",
      "metadata": {
        "id": "view-in-github",
        "colab_type": "text"
      },
      "source": [
        "<a href=\"https://colab.research.google.com/github/mahault/environmental-sickness-estimation/blob/main/sickboi.ipynb\" target=\"_parent\"><img src=\"https://colab.research.google.com/assets/colab-badge.svg\" alt=\"Open In Colab\"/></a>"
      ]
    },
    {
      "cell_type": "markdown",
      "metadata": {
        "id": "6Xm2H3_XBiM4"
      },
      "source": [
        "Tutorials with useful elements"
      ]
    },
    {
      "cell_type": "markdown",
      "metadata": {
        "id": "WgtWps0ONo0N"
      },
      "source": [
        "Source of code: https://colab.research.google.com/drive/16p4YT75ShrW5dD0d2DUL9ayUx98sdPgM "
      ]
    },
    {
      "cell_type": "code",
      "execution_count": 1,
      "metadata": {
        "colab": {
          "base_uri": "https://localhost:8080/"
        },
        "id": "Gnl7YpTU7Q9p",
        "outputId": "185836f5-113b-4d4b-e869-1b7b97c3400e"
      },
      "outputs": [
        {
          "output_type": "stream",
          "name": "stdout",
          "text": [
            "Requirement already satisfied: inferactively-pymdp in /usr/local/lib/python3.7/dist-packages (0.0.4)\n",
            "Requirement already satisfied: cycler>=0.10.0 in /usr/local/lib/python3.7/dist-packages (from inferactively-pymdp) (0.11.0)\n",
            "Requirement already satisfied: pytz>=2020.5 in /usr/local/lib/python3.7/dist-packages (from inferactively-pymdp) (2022.1)\n",
            "Requirement already satisfied: typing-extensions>=3.7.4.3 in /usr/local/lib/python3.7/dist-packages (from inferactively-pymdp) (4.1.1)\n",
            "Requirement already satisfied: Pillow>=8.2.0pluggy>=0.13.1 in /usr/local/lib/python3.7/dist-packages (from inferactively-pymdp) (9.1.0)\n",
            "Requirement already satisfied: openpyxl>=3.0.7 in /usr/local/lib/python3.7/dist-packages (from inferactively-pymdp) (3.0.9)\n",
            "Requirement already satisfied: nose>=1.3.7 in /usr/local/lib/python3.7/dist-packages (from inferactively-pymdp) (1.3.7)\n",
            "Requirement already satisfied: xlsxwriter>=1.4.3 in /usr/local/lib/python3.7/dist-packages (from inferactively-pymdp) (3.0.3)\n",
            "Requirement already satisfied: python-dateutil>=2.8.1 in /usr/local/lib/python3.7/dist-packages (from inferactively-pymdp) (2.8.2)\n",
            "Requirement already satisfied: packaging>=20.8 in /usr/local/lib/python3.7/dist-packages (from inferactively-pymdp) (21.3)\n",
            "Requirement already satisfied: six>=1.15.0 in /usr/local/lib/python3.7/dist-packages (from inferactively-pymdp) (1.15.0)\n",
            "Requirement already satisfied: seaborn>=0.11.1 in /usr/local/lib/python3.7/dist-packages (from inferactively-pymdp) (0.11.2)\n",
            "Requirement already satisfied: py>=1.10.0 in /usr/local/lib/python3.7/dist-packages (from inferactively-pymdp) (1.11.0)\n",
            "Requirement already satisfied: sphinx-rtd-theme>=0.4 in /usr/local/lib/python3.7/dist-packages (from inferactively-pymdp) (1.0.0)\n",
            "Requirement already satisfied: attrs>=20.3.0 in /usr/local/lib/python3.7/dist-packages (from inferactively-pymdp) (21.4.0)\n",
            "Requirement already satisfied: kiwisolver>=1.3.1 in /usr/local/lib/python3.7/dist-packages (from inferactively-pymdp) (1.4.2)\n",
            "Requirement already satisfied: pytest>=6.2.1 in /usr/local/lib/python3.7/dist-packages (from inferactively-pymdp) (7.1.2)\n",
            "Requirement already satisfied: pandas>=1.2.4 in /usr/local/lib/python3.7/dist-packages (from inferactively-pymdp) (1.3.5)\n",
            "Requirement already satisfied: matplotlib>=3.1.3 in /usr/local/lib/python3.7/dist-packages (from inferactively-pymdp) (3.2.2)\n",
            "Requirement already satisfied: pyparsing>=2.4.7 in /usr/local/lib/python3.7/dist-packages (from inferactively-pymdp) (3.0.8)\n",
            "Requirement already satisfied: toml>=0.10.2 in /usr/local/lib/python3.7/dist-packages (from inferactively-pymdp) (0.10.2)\n",
            "Requirement already satisfied: numpy>=1.19.5 in /usr/local/lib/python3.7/dist-packages (from inferactively-pymdp) (1.21.6)\n",
            "Requirement already satisfied: scipy>=1.6.0 in /usr/local/lib/python3.7/dist-packages (from inferactively-pymdp) (1.7.3)\n",
            "Requirement already satisfied: myst-nb>=0.13.1 in /usr/local/lib/python3.7/dist-packages (from inferactively-pymdp) (0.13.2)\n",
            "Requirement already satisfied: iniconfig>=1.1.1 in /usr/local/lib/python3.7/dist-packages (from inferactively-pymdp) (1.1.1)\n",
            "Requirement already satisfied: importlib-metadata in /usr/local/lib/python3.7/dist-packages (from myst-nb>=0.13.1->inferactively-pymdp) (4.11.3)\n",
            "Requirement already satisfied: jupyter-cache~=0.4.1 in /usr/local/lib/python3.7/dist-packages (from myst-nb>=0.13.1->inferactively-pymdp) (0.4.3)\n",
            "Requirement already satisfied: nbconvert<7,>=5.6 in /usr/local/lib/python3.7/dist-packages (from myst-nb>=0.13.1->inferactively-pymdp) (6.5.0)\n",
            "Requirement already satisfied: sphinx<5,>=3.1 in /usr/local/lib/python3.7/dist-packages (from myst-nb>=0.13.1->inferactively-pymdp) (4.5.0)\n",
            "Requirement already satisfied: ipython in /usr/local/lib/python3.7/dist-packages (from myst-nb>=0.13.1->inferactively-pymdp) (5.5.0)\n",
            "Requirement already satisfied: ipywidgets<8,>=7.0.0 in /usr/local/lib/python3.7/dist-packages (from myst-nb>=0.13.1->inferactively-pymdp) (7.7.0)\n",
            "Requirement already satisfied: docutils<0.18,>=0.15 in /usr/local/lib/python3.7/dist-packages (from myst-nb>=0.13.1->inferactively-pymdp) (0.17.1)\n",
            "Requirement already satisfied: myst-parser~=0.15.2 in /usr/local/lib/python3.7/dist-packages (from myst-nb>=0.13.1->inferactively-pymdp) (0.15.2)\n",
            "Requirement already satisfied: pyyaml in /usr/local/lib/python3.7/dist-packages (from myst-nb>=0.13.1->inferactively-pymdp) (3.13)\n",
            "Requirement already satisfied: jupyter-sphinx~=0.3.2 in /usr/local/lib/python3.7/dist-packages (from myst-nb>=0.13.1->inferactively-pymdp) (0.3.2)\n",
            "Requirement already satisfied: sphinx-togglebutton~=0.3.0 in /usr/local/lib/python3.7/dist-packages (from myst-nb>=0.13.1->inferactively-pymdp) (0.3.1)\n",
            "Requirement already satisfied: nbformat~=5.0 in /usr/local/lib/python3.7/dist-packages (from myst-nb>=0.13.1->inferactively-pymdp) (5.3.0)\n",
            "Requirement already satisfied: ipykernel>=4.5.1 in /usr/local/lib/python3.7/dist-packages (from ipywidgets<8,>=7.0.0->myst-nb>=0.13.1->inferactively-pymdp) (4.10.1)\n",
            "Requirement already satisfied: ipython-genutils~=0.2.0 in /usr/local/lib/python3.7/dist-packages (from ipywidgets<8,>=7.0.0->myst-nb>=0.13.1->inferactively-pymdp) (0.2.0)\n",
            "Requirement already satisfied: widgetsnbextension~=3.6.0 in /usr/local/lib/python3.7/dist-packages (from ipywidgets<8,>=7.0.0->myst-nb>=0.13.1->inferactively-pymdp) (3.6.0)\n",
            "Requirement already satisfied: jupyterlab-widgets>=1.0.0 in /usr/local/lib/python3.7/dist-packages (from ipywidgets<8,>=7.0.0->myst-nb>=0.13.1->inferactively-pymdp) (1.1.0)\n",
            "Requirement already satisfied: traitlets>=4.3.1 in /usr/local/lib/python3.7/dist-packages (from ipywidgets<8,>=7.0.0->myst-nb>=0.13.1->inferactively-pymdp) (5.1.1)\n",
            "Requirement already satisfied: tornado>=4.0 in /usr/local/lib/python3.7/dist-packages (from ipykernel>=4.5.1->ipywidgets<8,>=7.0.0->myst-nb>=0.13.1->inferactively-pymdp) (6.1)\n",
            "Requirement already satisfied: jupyter-client in /usr/local/lib/python3.7/dist-packages (from ipykernel>=4.5.1->ipywidgets<8,>=7.0.0->myst-nb>=0.13.1->inferactively-pymdp) (7.2.2)\n",
            "Requirement already satisfied: setuptools>=18.5 in /usr/local/lib/python3.7/dist-packages (from ipython->myst-nb>=0.13.1->inferactively-pymdp) (57.4.0)\n",
            "Requirement already satisfied: decorator in /usr/local/lib/python3.7/dist-packages (from ipython->myst-nb>=0.13.1->inferactively-pymdp) (4.4.2)\n",
            "Requirement already satisfied: pexpect in /usr/local/lib/python3.7/dist-packages (from ipython->myst-nb>=0.13.1->inferactively-pymdp) (4.8.0)\n",
            "Requirement already satisfied: prompt-toolkit<2.0.0,>=1.0.4 in /usr/local/lib/python3.7/dist-packages (from ipython->myst-nb>=0.13.1->inferactively-pymdp) (1.0.18)\n",
            "Requirement already satisfied: pygments in /usr/local/lib/python3.7/dist-packages (from ipython->myst-nb>=0.13.1->inferactively-pymdp) (2.6.1)\n",
            "Requirement already satisfied: pickleshare in /usr/local/lib/python3.7/dist-packages (from ipython->myst-nb>=0.13.1->inferactively-pymdp) (0.7.5)\n",
            "Requirement already satisfied: simplegeneric>0.8 in /usr/local/lib/python3.7/dist-packages (from ipython->myst-nb>=0.13.1->inferactively-pymdp) (0.8.1)\n",
            "Requirement already satisfied: nbclient<0.6,>=0.2 in /usr/local/lib/python3.7/dist-packages (from jupyter-cache~=0.4.1->myst-nb>=0.13.1->inferactively-pymdp) (0.5.13)\n",
            "Requirement already satisfied: sqlalchemy<1.5,>=1.3.12 in /usr/local/lib/python3.7/dist-packages (from jupyter-cache~=0.4.1->myst-nb>=0.13.1->inferactively-pymdp) (1.4.35)\n",
            "Requirement already satisfied: nbdime in /usr/local/lib/python3.7/dist-packages (from jupyter-cache~=0.4.1->myst-nb>=0.13.1->inferactively-pymdp) (3.1.1)\n",
            "Requirement already satisfied: mdit-py-plugins~=0.2.8 in /usr/local/lib/python3.7/dist-packages (from myst-parser~=0.15.2->myst-nb>=0.13.1->inferactively-pymdp) (0.2.8)\n",
            "Requirement already satisfied: markdown-it-py<2.0.0,>=1.0.0 in /usr/local/lib/python3.7/dist-packages (from myst-parser~=0.15.2->myst-nb>=0.13.1->inferactively-pymdp) (1.1.0)\n",
            "Requirement already satisfied: jinja2 in /usr/local/lib/python3.7/dist-packages (from myst-parser~=0.15.2->myst-nb>=0.13.1->inferactively-pymdp) (3.1.1)\n",
            "Requirement already satisfied: nest-asyncio in /usr/local/lib/python3.7/dist-packages (from nbclient<0.6,>=0.2->jupyter-cache~=0.4.1->myst-nb>=0.13.1->inferactively-pymdp) (1.5.5)\n",
            "Requirement already satisfied: pyzmq>=22.3 in /usr/local/lib/python3.7/dist-packages (from jupyter-client->ipykernel>=4.5.1->ipywidgets<8,>=7.0.0->myst-nb>=0.13.1->inferactively-pymdp) (22.3.0)\n",
            "Requirement already satisfied: jupyter-core>=4.9.2 in /usr/local/lib/python3.7/dist-packages (from jupyter-client->ipykernel>=4.5.1->ipywidgets<8,>=7.0.0->myst-nb>=0.13.1->inferactively-pymdp) (4.9.2)\n",
            "Requirement already satisfied: entrypoints in /usr/local/lib/python3.7/dist-packages (from jupyter-client->ipykernel>=4.5.1->ipywidgets<8,>=7.0.0->myst-nb>=0.13.1->inferactively-pymdp) (0.4)\n",
            "Requirement already satisfied: bleach in /usr/local/lib/python3.7/dist-packages (from nbconvert<7,>=5.6->myst-nb>=0.13.1->inferactively-pymdp) (5.0.0)\n",
            "Requirement already satisfied: beautifulsoup4 in /usr/local/lib/python3.7/dist-packages (from nbconvert<7,>=5.6->myst-nb>=0.13.1->inferactively-pymdp) (4.6.3)\n",
            "Requirement already satisfied: defusedxml in /usr/local/lib/python3.7/dist-packages (from nbconvert<7,>=5.6->myst-nb>=0.13.1->inferactively-pymdp) (0.7.1)\n",
            "Requirement already satisfied: jupyterlab-pygments in /usr/local/lib/python3.7/dist-packages (from nbconvert<7,>=5.6->myst-nb>=0.13.1->inferactively-pymdp) (0.2.2)\n",
            "Requirement already satisfied: mistune<2,>=0.8.1 in /usr/local/lib/python3.7/dist-packages (from nbconvert<7,>=5.6->myst-nb>=0.13.1->inferactively-pymdp) (0.8.4)\n",
            "Requirement already satisfied: pandocfilters>=1.4.1 in /usr/local/lib/python3.7/dist-packages (from nbconvert<7,>=5.6->myst-nb>=0.13.1->inferactively-pymdp) (1.5.0)\n",
            "Requirement already satisfied: tinycss2 in /usr/local/lib/python3.7/dist-packages (from nbconvert<7,>=5.6->myst-nb>=0.13.1->inferactively-pymdp) (1.1.1)\n",
            "Requirement already satisfied: MarkupSafe>=2.0 in /usr/local/lib/python3.7/dist-packages (from nbconvert<7,>=5.6->myst-nb>=0.13.1->inferactively-pymdp) (2.0.1)\n",
            "Requirement already satisfied: jsonschema>=2.6 in /usr/local/lib/python3.7/dist-packages (from nbformat~=5.0->myst-nb>=0.13.1->inferactively-pymdp) (4.3.3)\n",
            "Requirement already satisfied: fastjsonschema in /usr/local/lib/python3.7/dist-packages (from nbformat~=5.0->myst-nb>=0.13.1->inferactively-pymdp) (2.15.3)\n",
            "Requirement already satisfied: pyrsistent!=0.17.0,!=0.17.1,!=0.17.2,>=0.14.0 in /usr/local/lib/python3.7/dist-packages (from jsonschema>=2.6->nbformat~=5.0->myst-nb>=0.13.1->inferactively-pymdp) (0.18.1)\n",
            "Requirement already satisfied: importlib-resources>=1.4.0 in /usr/local/lib/python3.7/dist-packages (from jsonschema>=2.6->nbformat~=5.0->myst-nb>=0.13.1->inferactively-pymdp) (5.7.0)\n",
            "Requirement already satisfied: zipp>=3.1.0 in /usr/local/lib/python3.7/dist-packages (from importlib-resources>=1.4.0->jsonschema>=2.6->nbformat~=5.0->myst-nb>=0.13.1->inferactively-pymdp) (3.8.0)\n",
            "Requirement already satisfied: et-xmlfile in /usr/local/lib/python3.7/dist-packages (from openpyxl>=3.0.7->inferactively-pymdp) (1.1.0)\n",
            "Requirement already satisfied: wcwidth in /usr/local/lib/python3.7/dist-packages (from prompt-toolkit<2.0.0,>=1.0.4->ipython->myst-nb>=0.13.1->inferactively-pymdp) (0.2.5)\n",
            "Requirement already satisfied: pluggy<2.0,>=0.12 in /usr/local/lib/python3.7/dist-packages (from pytest>=6.2.1->inferactively-pymdp) (1.0.0)\n",
            "Requirement already satisfied: tomli>=1.0.0 in /usr/local/lib/python3.7/dist-packages (from pytest>=6.2.1->inferactively-pymdp) (2.0.1)\n",
            "Requirement already satisfied: sphinxcontrib-applehelp in /usr/local/lib/python3.7/dist-packages (from sphinx<5,>=3.1->myst-nb>=0.13.1->inferactively-pymdp) (1.0.2)\n",
            "Requirement already satisfied: snowballstemmer>=1.1 in /usr/local/lib/python3.7/dist-packages (from sphinx<5,>=3.1->myst-nb>=0.13.1->inferactively-pymdp) (2.2.0)\n",
            "Requirement already satisfied: alabaster<0.8,>=0.7 in /usr/local/lib/python3.7/dist-packages (from sphinx<5,>=3.1->myst-nb>=0.13.1->inferactively-pymdp) (0.7.12)\n",
            "Requirement already satisfied: babel>=1.3 in /usr/local/lib/python3.7/dist-packages (from sphinx<5,>=3.1->myst-nb>=0.13.1->inferactively-pymdp) (2.9.1)\n",
            "Requirement already satisfied: sphinxcontrib-htmlhelp>=2.0.0 in /usr/local/lib/python3.7/dist-packages (from sphinx<5,>=3.1->myst-nb>=0.13.1->inferactively-pymdp) (2.0.0)\n",
            "Requirement already satisfied: requests>=2.5.0 in /usr/local/lib/python3.7/dist-packages (from sphinx<5,>=3.1->myst-nb>=0.13.1->inferactively-pymdp) (2.23.0)\n",
            "Requirement already satisfied: sphinxcontrib-qthelp in /usr/local/lib/python3.7/dist-packages (from sphinx<5,>=3.1->myst-nb>=0.13.1->inferactively-pymdp) (1.0.3)\n",
            "Requirement already satisfied: imagesize in /usr/local/lib/python3.7/dist-packages (from sphinx<5,>=3.1->myst-nb>=0.13.1->inferactively-pymdp) (1.3.0)\n",
            "Requirement already satisfied: sphinxcontrib-jsmath in /usr/local/lib/python3.7/dist-packages (from sphinx<5,>=3.1->myst-nb>=0.13.1->inferactively-pymdp) (1.0.1)\n",
            "Requirement already satisfied: sphinxcontrib-devhelp in /usr/local/lib/python3.7/dist-packages (from sphinx<5,>=3.1->myst-nb>=0.13.1->inferactively-pymdp) (1.0.2)\n",
            "Requirement already satisfied: sphinxcontrib-serializinghtml>=1.1.5 in /usr/local/lib/python3.7/dist-packages (from sphinx<5,>=3.1->myst-nb>=0.13.1->inferactively-pymdp) (1.1.5)\n",
            "Requirement already satisfied: chardet<4,>=3.0.2 in /usr/local/lib/python3.7/dist-packages (from requests>=2.5.0->sphinx<5,>=3.1->myst-nb>=0.13.1->inferactively-pymdp) (3.0.4)\n",
            "Requirement already satisfied: urllib3!=1.25.0,!=1.25.1,<1.26,>=1.21.1 in /usr/local/lib/python3.7/dist-packages (from requests>=2.5.0->sphinx<5,>=3.1->myst-nb>=0.13.1->inferactively-pymdp) (1.24.3)\n",
            "Requirement already satisfied: idna<3,>=2.5 in /usr/local/lib/python3.7/dist-packages (from requests>=2.5.0->sphinx<5,>=3.1->myst-nb>=0.13.1->inferactively-pymdp) (2.10)\n",
            "Requirement already satisfied: certifi>=2017.4.17 in /usr/local/lib/python3.7/dist-packages (from requests>=2.5.0->sphinx<5,>=3.1->myst-nb>=0.13.1->inferactively-pymdp) (2021.10.8)\n",
            "Requirement already satisfied: wheel in /usr/local/lib/python3.7/dist-packages (from sphinx-togglebutton~=0.3.0->myst-nb>=0.13.1->inferactively-pymdp) (0.37.1)\n",
            "Requirement already satisfied: greenlet!=0.4.17 in /usr/local/lib/python3.7/dist-packages (from sqlalchemy<1.5,>=1.3.12->jupyter-cache~=0.4.1->myst-nb>=0.13.1->inferactively-pymdp) (1.1.2)\n",
            "Requirement already satisfied: notebook>=4.4.1 in /usr/local/lib/python3.7/dist-packages (from widgetsnbextension~=3.6.0->ipywidgets<8,>=7.0.0->myst-nb>=0.13.1->inferactively-pymdp) (5.3.1)\n",
            "Requirement already satisfied: terminado>=0.8.1 in /usr/local/lib/python3.7/dist-packages (from notebook>=4.4.1->widgetsnbextension~=3.6.0->ipywidgets<8,>=7.0.0->myst-nb>=0.13.1->inferactively-pymdp) (0.13.3)\n",
            "Requirement already satisfied: Send2Trash in /usr/local/lib/python3.7/dist-packages (from notebook>=4.4.1->widgetsnbextension~=3.6.0->ipywidgets<8,>=7.0.0->myst-nb>=0.13.1->inferactively-pymdp) (1.8.0)\n",
            "Requirement already satisfied: ptyprocess in /usr/local/lib/python3.7/dist-packages (from terminado>=0.8.1->notebook>=4.4.1->widgetsnbextension~=3.6.0->ipywidgets<8,>=7.0.0->myst-nb>=0.13.1->inferactively-pymdp) (0.7.0)\n",
            "Requirement already satisfied: webencodings in /usr/local/lib/python3.7/dist-packages (from bleach->nbconvert<7,>=5.6->myst-nb>=0.13.1->inferactively-pymdp) (0.5.1)\n",
            "Requirement already satisfied: jupyter-server in /usr/local/lib/python3.7/dist-packages (from nbdime->jupyter-cache~=0.4.1->myst-nb>=0.13.1->inferactively-pymdp) (1.16.0)\n",
            "Requirement already satisfied: colorama in /usr/local/lib/python3.7/dist-packages (from nbdime->jupyter-cache~=0.4.1->myst-nb>=0.13.1->inferactively-pymdp) (0.4.4)\n",
            "Requirement already satisfied: jupyter-server-mathjax>=0.2.2 in /usr/local/lib/python3.7/dist-packages (from nbdime->jupyter-cache~=0.4.1->myst-nb>=0.13.1->inferactively-pymdp) (0.2.5)\n",
            "Requirement already satisfied: GitPython!=2.1.4,!=2.1.5,!=2.1.6 in /usr/local/lib/python3.7/dist-packages (from nbdime->jupyter-cache~=0.4.1->myst-nb>=0.13.1->inferactively-pymdp) (3.1.27)\n",
            "Requirement already satisfied: gitdb<5,>=4.0.1 in /usr/local/lib/python3.7/dist-packages (from GitPython!=2.1.4,!=2.1.5,!=2.1.6->nbdime->jupyter-cache~=0.4.1->myst-nb>=0.13.1->inferactively-pymdp) (4.0.9)\n",
            "Requirement already satisfied: smmap<6,>=3.0.1 in /usr/local/lib/python3.7/dist-packages (from gitdb<5,>=4.0.1->GitPython!=2.1.4,!=2.1.5,!=2.1.6->nbdime->jupyter-cache~=0.4.1->myst-nb>=0.13.1->inferactively-pymdp) (5.0.0)\n",
            "Requirement already satisfied: websocket-client in /usr/local/lib/python3.7/dist-packages (from jupyter-server->nbdime->jupyter-cache~=0.4.1->myst-nb>=0.13.1->inferactively-pymdp) (1.3.2)\n",
            "Requirement already satisfied: prometheus-client in /usr/local/lib/python3.7/dist-packages (from jupyter-server->nbdime->jupyter-cache~=0.4.1->myst-nb>=0.13.1->inferactively-pymdp) (0.14.1)\n",
            "Requirement already satisfied: argon2-cffi in /usr/local/lib/python3.7/dist-packages (from jupyter-server->nbdime->jupyter-cache~=0.4.1->myst-nb>=0.13.1->inferactively-pymdp) (21.3.0)\n",
            "Requirement already satisfied: anyio>=3.1.0 in /usr/local/lib/python3.7/dist-packages (from jupyter-server->nbdime->jupyter-cache~=0.4.1->myst-nb>=0.13.1->inferactively-pymdp) (3.5.0)\n",
            "Requirement already satisfied: sniffio>=1.1 in /usr/local/lib/python3.7/dist-packages (from anyio>=3.1.0->jupyter-server->nbdime->jupyter-cache~=0.4.1->myst-nb>=0.13.1->inferactively-pymdp) (1.2.0)\n",
            "Requirement already satisfied: argon2-cffi-bindings in /usr/local/lib/python3.7/dist-packages (from argon2-cffi->jupyter-server->nbdime->jupyter-cache~=0.4.1->myst-nb>=0.13.1->inferactively-pymdp) (21.2.0)\n",
            "Requirement already satisfied: cffi>=1.0.1 in /usr/local/lib/python3.7/dist-packages (from argon2-cffi-bindings->argon2-cffi->jupyter-server->nbdime->jupyter-cache~=0.4.1->myst-nb>=0.13.1->inferactively-pymdp) (1.15.0)\n",
            "Requirement already satisfied: pycparser in /usr/local/lib/python3.7/dist-packages (from cffi>=1.0.1->argon2-cffi-bindings->argon2-cffi->jupyter-server->nbdime->jupyter-cache~=0.4.1->myst-nb>=0.13.1->inferactively-pymdp) (2.21)\n"
          ]
        }
      ],
      "source": [
        "!pip install inferactively-pymdp\n",
        "\n"
      ]
    },
    {
      "cell_type": "code",
      "execution_count": 2,
      "metadata": {
        "id": "Ofbrub7WkeCf"
      },
      "outputs": [],
      "source": [
        "import pymdp\n",
        "from pymdp import utils\n",
        "from pymdp.agent import Agent\n",
        "import numpy as np\n",
        "import copy\n",
        "\n",
        "from scipy.special import softmax"
      ]
    },
    {
      "cell_type": "markdown",
      "metadata": {
        "id": "OXpuK8_A--L7"
      },
      "source": [
        "AGELESS VERSION"
      ]
    },
    {
      "cell_type": "markdown",
      "metadata": {
        "id": "M_2ka_7TkLQc"
      },
      "source": [
        "#Observations\n",
        "space colors (microbiome and environmental constraint) : red, blue, green for each square\n",
        "age : 0-30\n",
        "location : 0,1,2,3,4,5,6,7,8\n",
        "symptom1 : yes, no\n",
        "symptom2 : yes, no\n",
        "symptom3 : yes, no\n",
        "\"b_m_1\":[\"yes\", \"no\"],\n",
        "\"b_m_2\":[\"yes\", \"no\"],\n",
        "\"b_m_3\":[\"yes\", \"no\"]\n",
        "\n",
        "#States\n",
        "Health load : not loaded, a little loaded, overloaded\n",
        "location:  0,1,2,3,4,5,6,7,8\n",
        "space color : red, blue, green for each square\n",
        "age: 0- 30\n",
        "has had sym1 :yes, no\n",
        "has had symp2 : yes, no\n",
        "has had symp3 : yes, no\n",
        "\n",
        "#things that are related\n",
        "space color and location\n",
        "Generate a grid with those properties\n",
        "symptom and bm are related\n",
        "add a property to the agent of the biomarker\n",
        "age is defined by the Time t"
      ]
    },
    {
      "cell_type": "code",
      "execution_count": 3,
      "metadata": {
        "id": "G3OBfqrv1EuV"
      },
      "outputs": [],
      "source": [
        "def get_B_location(n: int=3):\n",
        "    \"\"\"Automatically fill out B matrix for (up, down, left, right, stay) movement on a (n x n) grid\"\"\"\n",
        "\n",
        "    #     1\n",
        "    #     ^\n",
        "    #     |\n",
        "    #3<---4---->2\n",
        "    #     |\n",
        "    #     v\n",
        "    #     0\n",
        "    \n",
        "    squares = n**2\n",
        "    B = np.zeros((squares, squares, 5),dtype='int')\n",
        "\n",
        "    for x in range(squares):\n",
        "        B[x,x,4] = 1  # Stay at location\n",
        "        B[x,x-1,2] = 1  # Move right\n",
        "        B[x-1,x,3] = 1  # Move left\n",
        "    \n",
        "    for x in range(squares-n):\n",
        "        B[x+n, x, 0] = 1 # Move down\n",
        "      \n",
        "    for x in range(n, squares):\n",
        "        B[x-n, x, 1] = 1 # Move up\n",
        "          \n",
        "    for x in range(squares):\n",
        "      if x < n:  # Restrict top row movement\n",
        "          B[x,x,1] = 1\n",
        "      if x%n == 0:  # Restrict left column movement\n",
        "          B[:,x,3] = 0\n",
        "          B[x,x,3] = 1\n",
        "      if x >= squares - n:  # Restrict bottom row movement\n",
        "          B[x,x,0] = 1\n",
        "      if (x-(n-1))%n == 0:  # Restrict right column movement\n",
        "          B[:,x,2] = 0\n",
        "          B[x,x,2] = 1\n",
        "    \n",
        "    return B"
      ]
    },
    {
      "cell_type": "markdown",
      "source": [
        "The Basic components of the model\n"
      ],
      "metadata": {
        "id": "TY_NbciAvOVV"
      }
    },
    {
      "cell_type": "markdown",
      "source": [
        "The Grid"
      ],
      "metadata": {
        "id": "LB4sNCPJvYh9"
      }
    },
    {
      "cell_type": "code",
      "source": [
        "# TODO : Use `age` state to influence epistemic value (via influencing preference strength for health)\n",
        "# TODO : Build in differences between pathogens; different squares could have different volatilities (both \"good\" and \"bad\" - some pathogens should be avoided period)\n",
        "\n",
        "\n",
        "### Actual world grid\n",
        "Grid  = [0,1,2,0,1,2,0,1,2]\n",
        "\n",
        "###b matrix of the grid changing to another color in the generative process\n",
        "##0-0, 0-1, 0-2, 1-0,1-1, 1-2, 2-0, 2-1, 2-2\n",
        "Grid_B = np.zeros((3,3))\n",
        "Grid_B[:,:] = .05\n",
        "Grid_B[0,0] = .9\n",
        "Grid_B[1,1] = .9\n",
        "Grid_B[2,2] = .9\n",
        "\n",
        "list_of_symptoms = [\"red\", \"blue\", \"green\"]\n",
        "health_labels = [\"not loaded\", \"a little loaded\", \"overloaded\"]\n",
        "control_state = \"location\"\n",
        "\n"
      ],
      "metadata": {
        "id": "U3uKzyBZvXkr"
      },
      "execution_count": 4,
      "outputs": []
    },
    {
      "cell_type": "markdown",
      "source": [
        "Gets observations from Grid"
      ],
      "metadata": {
        "id": "QKJK4S5av4vA"
      }
    },
    {
      "cell_type": "code",
      "source": [
        "def get_space_colors_from_grid(labels=list_of_symptoms):\n",
        "  for i,e in enumerate(Grid):\n",
        "    observations[f\"space_colors_{i}\"] = labels\n",
        "\n",
        "\n",
        "def get_location_from_grid():\n",
        "  observations[\"location\"] = list(range(len(Grid)))\n",
        "\n",
        "def get_symptom(labels=list_of_symptoms):\n",
        "  for i,label in enumerate(labels):\n",
        "    observations[f\"symptom_{label}\"] = [\"no\", \"yes\"]\n",
        "\n",
        "def get_biomarker(labels=list_of_symptoms):\n",
        "  for i,label in enumerate(labels):\n",
        "    observations[f\"b_m_{label}\"] = [\"no\", \"yes\"]\n",
        "\n",
        "# get_biomarker()\n",
        "# print(observations)"
      ],
      "metadata": {
        "id": "nKb9xcspv8ir"
      },
      "execution_count": 5,
      "outputs": []
    },
    {
      "cell_type": "markdown",
      "source": [
        "Test the observation from grid functions"
      ],
      "metadata": {
        "id": "GA6euFW0yLog"
      }
    },
    {
      "cell_type": "code",
      "source": [
        "assert len(Grid) == len([key for key in observations.keys()  if \"space_colors\" in key] ), f\"There isn't the same number of observation for space colors as there are grid spaces. Grid spaces = {len(Grid)}  space_colors observations = {len([key for key in observations.keys()  if 'space_colors' in key])}\""
      ],
      "metadata": {
        "id": "Tf937eUJyKo6",
        "colab": {
          "base_uri": "https://localhost:8080/",
          "height": 200
        },
        "outputId": "045da1c9-87e0-47a5-8ed2-f7057db84038"
      },
      "execution_count": 6,
      "outputs": [
        {
          "output_type": "error",
          "ename": "NameError",
          "evalue": "ignored",
          "traceback": [
            "\u001b[0;31m---------------------------------------------------------------------------\u001b[0m",
            "\u001b[0;31mNameError\u001b[0m                                 Traceback (most recent call last)",
            "\u001b[0;32m<ipython-input-6-8dec05953df6>\u001b[0m in \u001b[0;36m<module>\u001b[0;34m()\u001b[0m\n\u001b[0;32m----> 1\u001b[0;31m \u001b[0;32massert\u001b[0m \u001b[0mlen\u001b[0m\u001b[0;34m(\u001b[0m\u001b[0mGrid\u001b[0m\u001b[0;34m)\u001b[0m \u001b[0;34m==\u001b[0m \u001b[0mlen\u001b[0m\u001b[0;34m(\u001b[0m\u001b[0;34m[\u001b[0m\u001b[0mkey\u001b[0m \u001b[0;32mfor\u001b[0m \u001b[0mkey\u001b[0m \u001b[0;32min\u001b[0m \u001b[0mobservations\u001b[0m\u001b[0;34m.\u001b[0m\u001b[0mkeys\u001b[0m\u001b[0;34m(\u001b[0m\u001b[0;34m)\u001b[0m  \u001b[0;32mif\u001b[0m \u001b[0;34m\"space_colors\"\u001b[0m \u001b[0;32min\u001b[0m \u001b[0mkey\u001b[0m\u001b[0;34m]\u001b[0m \u001b[0;34m)\u001b[0m\u001b[0;34m,\u001b[0m \u001b[0;34mf\"There isn't the same number of observation for space colors as there are grid spaces. Grid spaces = {len(Grid)}  space_colors observations = {len([key for key in observations.keys()  if 'space_colors' in key])}\"\u001b[0m\u001b[0;34m\u001b[0m\u001b[0;34m\u001b[0m\u001b[0m\n\u001b[0m",
            "\u001b[0;31mNameError\u001b[0m: name 'observations' is not defined"
          ]
        }
      ]
    },
    {
      "cell_type": "code",
      "source": [
        "assert len(Grid) == len(observations[\"location\"]), f\"there isn't the same number of location indices in observations: {len(observations.location)} as there are grid spaces: {len(Grid)}\""
      ],
      "metadata": {
        "id": "hjn4emWK0Cv3"
      },
      "execution_count": null,
      "outputs": []
    },
    {
      "cell_type": "code",
      "source": [
        "assert len(list_of_symptoms) == len([observation for observation in observations.keys() if \"symptom\" in observation]), f\"There isn't the same number of sumptoms: {len(list_of_symptoms)} as there are observations about symptoms : {len([observation for observation in observations.keys() if 'symptom' in key]) }\""
      ],
      "metadata": {
        "id": "2M2509Xj3N9G"
      },
      "execution_count": null,
      "outputs": []
    },
    {
      "cell_type": "code",
      "source": [
        "assert len(list_of_symptoms) == len([observation for observation in observations.keys() if \"b_m_\" in observation]), f\"There isn't the same number of sumptoms: {len(list_of_symptoms)} as there are observations about biomarker : {len([observation for observation in observations.keys() if 'b_m_' in key]) }\""
      ],
      "metadata": {
        "id": "6riLI5pD3plT"
      },
      "execution_count": null,
      "outputs": []
    },
    {
      "cell_type": "markdown",
      "source": [
        "Set the observations"
      ],
      "metadata": {
        "id": "sY6fFS_40z96"
      }
    },
    {
      "cell_type": "code",
      "source": [
        "observations = {}\n",
        "get_space_colors_from_grid()\n",
        "get_location_from_grid()\n",
        "get_symptom()\n",
        "get_biomarker()\n",
        "\n",
        "# observations =  {\n",
        "#     \"space_colors_0\": [\"red\", \"blue\", \"green\"],\n",
        "#     \"space_colors_1\": [\"red\", \"blue\", \"green\"],\n",
        "#     \"space_colors_2\": [\"red\", \"blue\", \"green\"],\n",
        "#     \"space_colors_3\": [\"red\", \"blue\", \"green\"],\n",
        "#     \"space_colors_4\": [\"red\", \"blue\", \"green\"],\n",
        "#     \"space_colors_5\": [\"red\", \"blue\", \"green\"],\n",
        "#     \"space_colors_6\": [\"red\", \"blue\", \"green\"],\n",
        "#     \"space_colors_7\": [\"red\", \"blue\", \"green\"],\n",
        "#     \"space_colors_8\": [\"red\", \"blue\", \"green\"],\n",
        "#     \"location\" : [0,1,2,3,4,5,6,7,8],\n",
        "#     \"symptom_red\" : [\"no\", \"yes\"],\n",
        "#     \"symptom_blue\" : [\"no\", \"yes\"],\n",
        "#     \"symptom_green\" : [\"no\", \"yes\"],\n",
        "#     \"b_m_red\":[\"no\", \"yes\"],\n",
        "#     \"b_m_blue\":[\"no\", \"yes\"],\n",
        "#     \"b_m_green\":[\"no\", \"yes\"]\n",
        "# }\n",
        "\n"
      ],
      "metadata": {
        "id": "wD1gon1uvK4A"
      },
      "execution_count": 7,
      "outputs": []
    },
    {
      "cell_type": "markdown",
      "source": [
        "Get states from grid "
      ],
      "metadata": {
        "id": "JRKVvqD73vva"
      }
    },
    {
      "cell_type": "code",
      "source": [
        "def get_space_colors_from_grid_states(labels=list_of_symptoms):\n",
        "  for i,e in enumerate(Grid):\n",
        "    states[f\"space_colors_{i}\"] = labels\n",
        "\n",
        "def get_location_from_grid_states():\n",
        "  states[\"location\"] = list(range(len(Grid)))\n",
        "\n",
        "def get_has_had_symp(labels=list_of_symptoms):\n",
        "  for i,label in enumerate(labels):\n",
        "    states[f\"has_had_symp_{label}\"] = [\"no\", \"yes\"]\n",
        "\n",
        "def get_health_load(labels=list_of_symptoms):\n",
        "  states[\"health_load\"] = list(range(len(labels) +1))\n",
        "\n",
        "\n"
      ],
      "metadata": {
        "id": "eueXixbF30sp"
      },
      "execution_count": 8,
      "outputs": []
    },
    {
      "cell_type": "markdown",
      "source": [
        "Test the functions"
      ],
      "metadata": {
        "id": "FkNTWc4p345X"
      }
    },
    {
      "cell_type": "code",
      "source": [
        "#TODO write test function for get_space_colors_from_grid_states\n",
        "assert len(Grid) == len([key for key in states.keys()  if \"space_colors\" in key] ), f\"There isn't the same number of states for space colors as there are grid spaces. Grid spaces = {len(Grid)}  space_colors states = {len([key for key in states.keys()  if 'space_colors' in key])}\""
      ],
      "metadata": {
        "id": "2ytoM5e_34d7"
      },
      "execution_count": null,
      "outputs": []
    },
    {
      "cell_type": "code",
      "source": [
        "#TODO write test function for get_location_from_grid_states\n",
        "assert len(Grid) == len(states[\"location\"]), f\"there isn't the same number of location indices in states: {len(states.location)} as there are grid spaces: {len(Grid)}\""
      ],
      "metadata": {
        "id": "O_nl9fWC4UOx"
      },
      "execution_count": null,
      "outputs": []
    },
    {
      "cell_type": "code",
      "source": [
        "#TODO write test function for get_has_had_symp\n",
        "assert len(list_of_symptoms) == len([state for state in states.keys() if \"has_had_symp\" in state]), f\"There isn't the same number of sumptoms: {len(list_of_symptoms)} as there are states about symptoms : {len([state for state in states.keys() if 'symptom' in key]) }\""
      ],
      "metadata": {
        "id": "LXrk_UjG4kbD"
      },
      "execution_count": null,
      "outputs": []
    },
    {
      "cell_type": "code",
      "source": [
        "#TODO write test function for get_health_load\n",
        "assert len(list_of_symptoms)+1 == len(states[\"health_load\"]), f\"There isn't the same number of symptoms: {len(list_of_symptoms)+1} as there are Health_load states: {len(states['health_load'])}\""
      ],
      "metadata": {
        "id": "PuUPL2YD6PuJ"
      },
      "execution_count": null,
      "outputs": []
    },
    {
      "cell_type": "markdown",
      "source": [
        "Set the states"
      ],
      "metadata": {
        "id": "yxMOpIrh31Hs"
      }
    },
    {
      "cell_type": "code",
      "source": [
        "states= {}\n",
        "get_space_colors_from_grid_states()\n",
        "get_location_from_grid_states()\n",
        "get_has_had_symp()\n",
        "get_health_load()\n",
        "\n",
        "# states = {\n",
        "#     \"space_colors_0\" : [\"red\", \"blue\", \"green\"],\n",
        "#     \"space_colors_1\" : [\"red\", \"blue\", \"green\"],\n",
        "#     \"space_colors_2\" : [\"red\", \"blue\", \"green\"],\n",
        "#     \"space_colors_3\" : [\"red\", \"blue\", \"green\"],\n",
        "#     \"space_colors_4\" : [\"red\", \"blue\", \"green\"],\n",
        "#     \"space_colors_5\" : [\"red\", \"blue\", \"green\"],\n",
        "#     \"space_colors_6\" : [\"red\", \"blue\", \"green\"],\n",
        "#     \"space_colors_7\" : [\"red\", \"blue\", \"green\"],\n",
        "#     \"space_colors_8\" : [\"red\", \"blue\", \"green\"],\n",
        "#     \"location\" : [0,1,2,3,4,5,6,7,8],\n",
        "#     \"has had symp_red\" : [\"no\", \"yes\"],\n",
        "#     \"has had symp_blue\" : [\"no\", \"yes\"],\n",
        "#     \"has had symp_green\" : [\"no\", \"yes\"],\n",
        "#     \"Health_load\" : [\"not loaded\", \"a little loaded\", \"overloaded\"],\n",
        "    \n",
        "# }\n",
        "\n",
        "\n"
      ],
      "metadata": {
        "id": "jXRHMbuR3vgc"
      },
      "execution_count": 9,
      "outputs": []
    },
    {
      "cell_type": "markdown",
      "source": [
        "Set the actions"
      ],
      "metadata": {
        "id": "Q_n6SkHC6yDi"
      }
    },
    {
      "cell_type": "code",
      "source": [
        "actions = {\n",
        "    \"change_location\"  : [\"go up\", \"go down\", \"go right\", \"go left\", \"stay\" ]\n",
        "}"
      ],
      "metadata": {
        "id": "096o1E6C6wRk"
      },
      "execution_count": 10,
      "outputs": []
    },
    {
      "cell_type": "markdown",
      "source": [
        "Get num observations, states, controls and factors"
      ],
      "metadata": {
        "id": "126ngRy47WNC"
      }
    },
    {
      "cell_type": "code",
      "source": [
        "def get_num_obs_per_modality(observations):\n",
        "  return [len(value) for value in observations.values()]\n",
        "def get_num_obs():\n",
        "  return len(observations)\n",
        "\n",
        "def get_num_states_per_factor(states):\n",
        "  return [len(value) for value in states.values()]\n",
        "\n",
        "def get_num_states():\n",
        "  return len(states)\n",
        "\n",
        "def get_num_controls():\n",
        "  # should have the same as the number of states\n",
        "  # should find the index of the control state\n",
        "  # should have the number of control actions for that index\n",
        "  control = [1]*len(states)\n",
        "  control[list(states.keys()).index(\"location\")] = len(actions[\"change_location\"])\n",
        "  return control\n",
        "\n"
      ],
      "metadata": {
        "id": "SHMKDK6N7dBs"
      },
      "execution_count": 11,
      "outputs": []
    },
    {
      "cell_type": "markdown",
      "source": [
        "Test num observations, states, controls and factors functions"
      ],
      "metadata": {
        "id": "hU5o786z8gvc"
      }
    },
    {
      "cell_type": "code",
      "source": [
        "get_num_obs()\n",
        "num_controls = get_num_controls()\n",
        "\n",
        "print(num_controls)"
      ],
      "metadata": {
        "colab": {
          "base_uri": "https://localhost:8080/"
        },
        "id": "NBpfBf1p8ktm",
        "outputId": "b9c7cddd-e2df-4336-aa46-88f39b10a465"
      },
      "execution_count": 12,
      "outputs": [
        {
          "output_type": "stream",
          "name": "stdout",
          "text": [
            "[1, 1, 1, 1, 1, 1, 1, 1, 1, 5, 1, 1, 1, 1]\n"
          ]
        }
      ]
    },
    {
      "cell_type": "code",
      "source": [
        "assert len(get_num_obs_per_modality(observations)) == len(observations), f\"there isn't the same number of observations : {len(observations)} as there are observation modalities: {len(get_num_obs_per_modality(observations))} \""
      ],
      "metadata": {
        "id": "EWx0G5dJ30n3"
      },
      "execution_count": 14,
      "outputs": []
    },
    {
      "cell_type": "code",
      "source": [
        "#TODO write the test for get num obs\n"
      ],
      "metadata": {
        "id": "GQzKVZlz5gZg"
      },
      "execution_count": null,
      "outputs": []
    },
    {
      "cell_type": "code",
      "source": [
        "#TODO write test for get num_states_per_factor"
      ],
      "metadata": {
        "id": "Fb4OxiiV5lEN"
      },
      "execution_count": null,
      "outputs": []
    },
    {
      "cell_type": "code",
      "source": [
        "#TODO write test for get_num_states"
      ],
      "metadata": {
        "id": "o9UH4J-Y5qFh"
      },
      "execution_count": null,
      "outputs": []
    },
    {
      "cell_type": "code",
      "source": [
        "#TODO write test for get num controls"
      ],
      "metadata": {
        "id": "QDDHD8Ys5uQJ"
      },
      "execution_count": null,
      "outputs": []
    },
    {
      "cell_type": "markdown",
      "source": [
        "Set num observations, states, controls and factors"
      ],
      "metadata": {
        "id": "A0QTyb7Q7dtr"
      }
    },
    {
      "cell_type": "code",
      "source": [
        "# num_obs = [len(value) for value in observations.values()] # observation modality dimensions\n",
        "# num_states = [3,3,3,3,3,3,3,3,3,9,2,2,2,3] # hidden state factor dimensions\n",
        "# num_controls = [1,1,1,1,1,1,1,1,1,5,1,1,1,1] # control state factor dimensions\n",
        "# num_factors = len(num_states)\n",
        "\n",
        "\n",
        "num_modalities = get_num_obs_per_modality(observations)\n",
        "num_obs = get_num_obs()\n",
        "num_states = get_num_states_per_factor(states)\n",
        "num_factors = get_num_states()\n",
        "num_controls = get_num_controls()"
      ],
      "metadata": {
        "id": "Mw0UoMaq7gWT"
      },
      "execution_count": 13,
      "outputs": []
    },
    {
      "cell_type": "code",
      "source": [
        "num_modalities"
      ],
      "metadata": {
        "id": "xR_F2yyO6Z9m",
        "outputId": "8a10b522-93da-45c4-fa9a-1242009a6a34",
        "colab": {
          "base_uri": "https://localhost:8080/"
        }
      },
      "execution_count": 14,
      "outputs": [
        {
          "output_type": "execute_result",
          "data": {
            "text/plain": [
              "[3, 3, 3, 3, 3, 3, 3, 3, 3, 9, 2, 2, 2, 2, 2, 2]"
            ]
          },
          "metadata": {},
          "execution_count": 14
        }
      ]
    },
    {
      "cell_type": "code",
      "source": [
        "num_states"
      ],
      "metadata": {
        "colab": {
          "base_uri": "https://localhost:8080/"
        },
        "id": "7IM0Qu2LwKNo",
        "outputId": "db6ae1d4-2c2d-4107-ef0d-8633b5043363"
      },
      "execution_count": 15,
      "outputs": [
        {
          "output_type": "execute_result",
          "data": {
            "text/plain": [
              "[3, 3, 3, 3, 3, 3, 3, 3, 3, 9, 2, 2, 2, 4]"
            ]
          },
          "metadata": {},
          "execution_count": 15
        }
      ]
    },
    {
      "cell_type": "code",
      "source": [
        "num_obs"
      ],
      "metadata": {
        "id": "BEm5Jnge6cKd",
        "outputId": "19bc67cf-72ad-474f-fcd2-6d12078b6733",
        "colab": {
          "base_uri": "https://localhost:8080/"
        }
      },
      "execution_count": 17,
      "outputs": [
        {
          "output_type": "execute_result",
          "data": {
            "text/plain": [
              "16"
            ]
          },
          "metadata": {},
          "execution_count": 17
        }
      ]
    },
    {
      "cell_type": "markdown",
      "source": [
        "Instantiating matrices"
      ],
      "metadata": {
        "id": "U1JFZ9gKofD1"
      }
    },
    {
      "cell_type": "code",
      "source": [
        "def inst_space_colors(num_states, list_of_symptoms):\n",
        "  tot_list = [len(list_of_symptoms)]+num_states\n",
        "  return np.zeros((tot_list))\n",
        "\n",
        "\n",
        "def inst_location(Grid, num_states):\n",
        "  tot_list = [len(Grid)]+num_states\n",
        "  return np.zeros((tot_list))\n",
        "\n",
        "def inst_symptoms(num_states):\n",
        "    tot_list = [2]+num_states\n",
        "    return np.zeros((tot_list))"
      ],
      "metadata": {
        "id": "Ws165rv6orqr"
      },
      "execution_count": 31,
      "outputs": []
    },
    {
      "cell_type": "markdown",
      "source": [
        "Testing functions to instantiate"
      ],
      "metadata": {
        "id": "bnNN1XDoosVC"
      }
    },
    {
      "cell_type": "code",
      "source": [
        ""
      ],
      "metadata": {
        "id": "TKugaH_Dwkn2"
      },
      "execution_count": null,
      "outputs": []
    },
    {
      "cell_type": "markdown",
      "source": [
        "Instantiate space colors"
      ],
      "metadata": {
        "id": "ALIA7woVwk0w"
      }
    },
    {
      "cell_type": "code",
      "source": [
        "\n",
        "A_space_colors_0 = inst_space_colors(num_states, list_of_symptoms)\n",
        "A_space_colors_1 = inst_space_colors(num_states, list_of_symptoms)\n",
        "A_space_colors_2 = inst_space_colors(num_states, list_of_symptoms)\n",
        "A_space_colors_3 = inst_space_colors(num_states, list_of_symptoms)\n",
        "A_space_colors_4 = inst_space_colors(num_states, list_of_symptoms)\n",
        "A_space_colors_5 = inst_space_colors(num_states, list_of_symptoms)\n",
        "A_space_colors_6 = inst_space_colors(num_states, list_of_symptoms)\n",
        "A_space_colors_7 = inst_space_colors(num_states, list_of_symptoms)\n",
        "A_space_colors_8 = inst_space_colors(num_states, list_of_symptoms)\n",
        "\n"
      ],
      "metadata": {
        "id": "wohLvAcfwoJI"
      },
      "execution_count": 28,
      "outputs": []
    },
    {
      "cell_type": "markdown",
      "source": [
        "Instantiate location\n"
      ],
      "metadata": {
        "id": "Zrw1E3nKwk6v"
      }
    },
    {
      "cell_type": "code",
      "source": [
        "A_location = inst_location(Grid, num_states)"
      ],
      "metadata": {
        "id": "FF43Y40N0R70"
      },
      "execution_count": 29,
      "outputs": []
    },
    {
      "cell_type": "markdown",
      "source": [
        "Instantiate symptoms"
      ],
      "metadata": {
        "id": "UpkQzqdJ0_bK"
      }
    },
    {
      "cell_type": "code",
      "source": [
        "A_sym_red = inst_symptoms(num_states)\n",
        "A_sym_blue = inst_symptoms(num_states)\n",
        "A_sym_green = inst_symptoms(num_states)\n"
      ],
      "metadata": {
        "id": "Z3ikHEiI0-4p"
      },
      "execution_count": 32,
      "outputs": []
    },
    {
      "cell_type": "markdown",
      "source": [
        "Instantiate biomarkers"
      ],
      "metadata": {
        "id": "Of5Tt4oQ3qhb"
      }
    },
    {
      "cell_type": "code",
      "source": [
        "A_bm_red = inst_symptoms(num_states)\n",
        "A_bm_blue = inst_symptoms(num_states)\n",
        "A_bm_green = inst_symptoms(num_states)"
      ],
      "metadata": {
        "id": "Q3UVDykE3ths"
      },
      "execution_count": 33,
      "outputs": []
    },
    {
      "cell_type": "code",
      "execution_count": null,
      "metadata": {
        "colab": {
          "background_save": true,
          "base_uri": "https://localhost:8080/"
        },
        "id": "CHJQl2JH-6Qe",
        "outputId": "63d46ed4-56bb-4924-ebab-146d02f0f13e"
      },
      "outputs": [
        {
          "name": "stdout",
          "output_type": "stream",
          "text": [
            "A 16\n",
            "A[0].shape (3, 3, 3, 3, 3, 3, 3, 3, 3, 3, 9, 2, 2, 2, 3)\n",
            "A matrix normalization check:\n",
            "Total # of states 4251528\n",
            "modality space_colors_0\n",
            "4251528.0\n",
            "anomalies: []\n",
            "num_anomalies: 0\n",
            "modality space_colors_1\n",
            "4251528.0\n",
            "anomalies: []\n",
            "num_anomalies: 0\n",
            "modality space_colors_2\n",
            "4251528.0\n",
            "anomalies: []\n",
            "num_anomalies: 0\n",
            "modality space_colors_3\n",
            "4251528.0\n",
            "anomalies: []\n",
            "num_anomalies: 0\n",
            "modality space_colors_4\n",
            "4251528.0\n",
            "anomalies: []\n",
            "num_anomalies: 0\n",
            "modality space_colors_5\n",
            "4251528.0\n",
            "anomalies: []\n",
            "num_anomalies: 0\n",
            "modality space_colors_6\n",
            "4251528.0\n",
            "anomalies: []\n",
            "num_anomalies: 0\n",
            "modality space_colors_7\n",
            "4251528.0\n",
            "anomalies: []\n",
            "num_anomalies: 0\n",
            "modality space_colors_8\n",
            "4251528.0\n",
            "anomalies: []\n",
            "num_anomalies: 0\n",
            "modality location\n",
            "4251528.0\n",
            "anomalies: []\n",
            "num_anomalies: 0\n",
            "modality symptom_red\n",
            "4251528.0\n",
            "anomalies: []\n",
            "num_anomalies: 0\n",
            "modality symptom_blue\n",
            "4251528.000000007\n",
            "anomalies: []\n",
            "num_anomalies: 0\n",
            "modality symptom_green\n",
            "4251527.999999995\n",
            "anomalies: []\n",
            "num_anomalies: 0\n",
            "modality b_m_red\n",
            "4251528.0\n",
            "anomalies: []\n",
            "num_anomalies: 0\n",
            "modality b_m_blue\n",
            "4251528.0\n",
            "anomalies: []\n",
            "num_anomalies: 0\n",
            "modality b_m_green\n",
            "4251528.0\n",
            "anomalies: []\n",
            "num_anomalies: 0\n",
            "b location [[[0.5]\n",
            "  [0. ]]\n",
            "\n",
            " [[0.5]\n",
            "  [1. ]]]\n",
            "B (14,)\n",
            "B 14\n",
            "B[0].shape (3, 3, 1)\n",
            "B matrix normalization check:\n",
            "state space_colors_0\n",
            "3.0\n",
            "anomalies: []\n",
            "num_anomalies: 0\n",
            "state space_colors_1\n",
            "3.0\n",
            "anomalies: []\n",
            "num_anomalies: 0\n",
            "state space_colors_2\n",
            "3.0\n",
            "anomalies: []\n",
            "num_anomalies: 0\n",
            "state space_colors_3\n",
            "3.0\n",
            "anomalies: []\n",
            "num_anomalies: 0\n",
            "state space_colors_4\n",
            "3.0\n",
            "anomalies: []\n",
            "num_anomalies: 0\n",
            "state space_colors_5\n",
            "3.0\n",
            "anomalies: []\n",
            "num_anomalies: 0\n",
            "state space_colors_6\n",
            "3.0\n",
            "anomalies: []\n",
            "num_anomalies: 0\n",
            "state space_colors_7\n",
            "3.0\n",
            "anomalies: []\n",
            "num_anomalies: 0\n",
            "state space_colors_8\n",
            "3.0\n",
            "anomalies: []\n",
            "num_anomalies: 0\n",
            "state location\n",
            "45\n",
            "anomalies: []\n",
            "num_anomalies: 0\n",
            "state has had symp_red\n",
            "2.0\n",
            "anomalies: []\n",
            "num_anomalies: 0\n",
            "state has had symp_blue\n",
            "2.0\n",
            "anomalies: []\n",
            "num_anomalies: 0\n",
            "state has had symp_green\n",
            "2.0\n",
            "anomalies: []\n",
            "num_anomalies: 0\n",
            "state Health_load\n",
            "3.0\n",
            "anomalies: []\n",
            "num_anomalies: 0\n",
            "About to define agent...\n",
            "Agent defined!!\n",
            "Iteration 0\n"
          ]
        }
      ],
      "source": [
        "\n",
        "\n",
        "\n",
        "\n",
        "# A_space_colors_0 = np.zeros((3,3,3,3,3,3,3,3,3,3,9,2,2,2,3))\n",
        "# A_space_colors_1 = np.zeros((3,3,3,3,3,3,3,3,3,3,9,2,2,2,3))\n",
        "# A_space_colors_2 = np.zeros((3,3,3,3,3,3,3,3,3,3,9,2,2,2,3))\n",
        "# A_space_colors_3 = np.zeros((3,3,3,3,3,3,3,3,3,3,9,2,2,2,3))\n",
        "# A_space_colors_4 = np.zeros((3,3,3,3,3,3,3,3,3,3,9,2,2,2,3))\n",
        "# A_space_colors_5 = np.zeros((3,3,3,3,3,3,3,3,3,3,9,2,2,2,3))\n",
        "# A_space_colors_6 = np.zeros((3,3,3,3,3,3,3,3,3,3,9,2,2,2,3))\n",
        "# A_space_colors_7 = np.zeros((3,3,3,3,3,3,3,3,3,3,9,2,2,2,3))\n",
        "# A_space_colors_8 = np.zeros((3,3,3,3,3,3,3,3,3,3,9,2,2,2,3))\n",
        "A_age = np.zeros((30,3,3,3,3,3,3,3,3,3,9,2,2,2,3))\n",
        "# A_location = np.zeros((9,3,3,3,3,3,3,3,3,3,9,2,2,2,3))\n",
        "# A_sym_red = np.zeros((2,3,3,3,3,3,3,3,3,3,9,2,2,2,3))\n",
        "# A_sym_blue = np.zeros((2,3,3,3,3,3,3,3,3,3,9,2,2,2,3))\n",
        "# A_sym_green = np.zeros((2,3,3,3,3,3,3,3,3,3,9,2,2,2,3))\n",
        "# A_bm_red = np.zeros((2,3,3,3,3,3,3,3,3,3,9,2,2,2,3))\n",
        "# A_bm_blue = np.zeros((2,3,3,3,3,3,3,3,3,3,9,2,2,2,3))\n",
        "# A_bm_green = np.zeros((2,3,3,3,3,3,3,3,3,3,9,2,2,2,3))\n",
        "\n",
        "for i in range(num_obs[0]):\n",
        "  A_space_colors_0[i][i,:,:,:,:,:,:,:,:,:,:,:,:,:] = 1\n",
        "  A_space_colors_1[i][:,i,:,:,:,:,:,:,:,:,:,:,:,:] = 1\n",
        "  A_space_colors_2[i][:,:,i,:,:,:,:,:,:,:,:,:,:,:] = 1\n",
        "  A_space_colors_3[i][:,:,:,i,:,:,:,:,:,:,:,:,:,:] = 1\n",
        "  A_space_colors_4[i][:,:,:,:,i,:,:,:,:,:,:,:,:,:] = 1\n",
        "  A_space_colors_5[i][:,:,:,:,:,i,:,:,:,:,:,:,:,:] = 1\n",
        "  A_space_colors_6[i][:,:,:,:,:,:,i,:,:,:,:,:,:,:] = 1\n",
        "  A_space_colors_7[i][:,:,:,:,:,:,:,i,:,:,:,:,:,:] = 1\n",
        "  A_space_colors_8[i][:,:,:,:,:,:,:,:,i,:,:,:,:,:] = 1\n",
        "\n",
        "\n",
        "for i in range(num_obs[9]):\n",
        "  A_location[i][:,:,:,:,:,:,:,:,:,i,:,:,:,:] = 1\n",
        "\n",
        "#baseline of A_sym_red[0] to remove to have the opposite factors\n",
        "A_sym_red[0][:,:,:,:,:,:,:,:,:,:,:,:,:,:] = 1\n",
        "\n",
        "# Likelihood of observing symptom not red given that your health load is not loaded\n",
        "A_sym_red[0][:,:,:,:,:,:,:,:,:,:,:,:,:,0] = 1\n",
        "\n",
        "\n",
        "# Likelihood of observing (or not observing!) symptom red given that your health load is a little loaded and that you are on a red square and hasn't had the red symptom\n",
        "\n",
        "A_sym_red[:,0,:,:,:,:,:,:,:,:,0,0,:,:,1] = .5\n",
        "A_sym_red[:,:,0,:,:,:,:,:,:,:,1,0,:,:,1] = .5\n",
        "A_sym_red[:,:,:,0,:,:,:,:,:,:,2,0,:,:,1] = .5\n",
        "A_sym_red[:,:,:,:,0,:,:,:,:,:,3,0,:,:,1] = .5\n",
        "A_sym_red[:,:,:,:,:,0,:,:,:,:,4,0,:,:,1] = .5\n",
        "A_sym_red[:,:,:,:,:,:,0,:,:,:,5,0,:,:,1] = .5\n",
        "A_sym_red[:,:,:,:,:,:,:,0,:,:,6,0,:,:,1] = .5\n",
        "A_sym_red[:,:,:,:,:,:,:,:,0,:,7,0,:,:,1] = .5\n",
        "A_sym_red[:,:,:,:,:,:,:,:,:,0,8,0,:,:,1] = .5\n",
        "\n",
        "#A_sym_red[0][:,:,:,:,:,:,:,:,:,:,:,:,:,0] = .5\n",
        "\n",
        "# Likelihood of observing symptom red given that your health load is overloaded and that you are on a red square and hasn't had the red symptom\n",
        "\n",
        "A_sym_red[1][0,:,:,:,:,:,:,:,:,0,0,:,:,2] = 1\n",
        "A_sym_red[1][:,0,:,:,:,:,:,:,:,1,0,:,:,2] = 1\n",
        "A_sym_red[1][:,:,0,:,:,:,:,:,:,2,0,:,:,2] = 1\n",
        "A_sym_red[1][:,:,:,0,:,:,:,:,:,3,0,:,:,2] = 1\n",
        "A_sym_red[1][:,:,:,:,0,:,:,:,:,4,0,:,:,2] = 1\n",
        "A_sym_red[1][:,:,:,:,:,0,:,:,:,5,0,:,:,2] = 1\n",
        "A_sym_red[1][:,:,:,:,:,:,0,:,:,6,0,:,:,2] = 1\n",
        "A_sym_red[1][:,:,:,:,:,:,:,0,:,7,0,:,:,2] = 1\n",
        "A_sym_red[1][:,:,:,:,:,:,:,:,0,8,0,:,:,2] = 1\n",
        "\n",
        "#the opposite\n",
        "A_sym_red[0][0,:,:,:,:,:,:,:,:,0,0,:,:,2] = 0\n",
        "A_sym_red[0][:,0,:,:,:,:,:,:,:,1,0,:,:,2] = 0\n",
        "A_sym_red[0][:,:,0,:,:,:,:,:,:,2,0,:,:,2] = 0\n",
        "A_sym_red[0][:,:,:,0,:,:,:,:,:,3,0,:,:,2] = 0\n",
        "A_sym_red[0][:,:,:,:,0,:,:,:,:,4,0,:,:,2] = 0\n",
        "A_sym_red[0][:,:,:,:,:,0,:,:,:,5,0,:,:,2] = 0\n",
        "A_sym_red[0][:,:,:,:,:,:,0,:,:,6,0,:,:,2] = 0\n",
        "A_sym_red[0][:,:,:,:,:,:,:,0,:,7,0,:,:,2] = 0\n",
        "A_sym_red[0][:,:,:,:,:,:,:,:,0,8,0,:,:,2] = 0\n",
        "\n",
        "# Likelihood of observing symptom red given that your health load is a little loaded and that you are not on a red square and has had the red symptom\n",
        "A_sym_red[1][:,:,:,:,:,:,:,:,:,:,1,:,:,1] = .1\n",
        "\n",
        "#the opposite:\n",
        "A_sym_red[0][:,:,:,:,:,:,:,:,:,:,1,:,:,1] = .9\n",
        "\n",
        "# Likelihood of observing symptom red given that your health load is a little loaded and that you are on a red square and has had the red symptom\n",
        "\n",
        "A_sym_red[1][0,:,:,:,:,:,:,:,:,0,1,:,:,1] = .32\n",
        "A_sym_red[1][:,0,:,:,:,:,:,:,:,1,1,:,:,1] = .32\n",
        "A_sym_red[1][:,:,0,:,:,:,:,:,:,2,1,:,:,1] = .32\n",
        "A_sym_red[1][:,:,:,0,:,:,:,:,:,3,1,:,:,1] = .32\n",
        "A_sym_red[1][:,:,:,:,0,:,:,:,:,4,1,:,:,1] = .32\n",
        "A_sym_red[1][:,:,:,:,:,0,:,:,:,5,1,:,:,1] = .32\n",
        "A_sym_red[1][:,:,:,:,:,:,0,:,:,6,1,:,:,1] = .32\n",
        "A_sym_red[1][:,:,:,:,:,:,:,0,:,7,1,:,:,1] = .32\n",
        "A_sym_red[1][:,:,:,:,:,:,:,:,0,8,1,:,:,1] = .32\n",
        "\n",
        "#the opposite:\n",
        "A_sym_red[0][0,:,:,:,:,:,:,:,:,0,1,:,:,1] = .68\n",
        "A_sym_red[0][:,0,:,:,:,:,:,:,:,1,1,:,:,1] = .68\n",
        "A_sym_red[0][:,:,0,:,:,:,:,:,:,2,1,:,:,1] = .68\n",
        "A_sym_red[0][:,:,:,0,:,:,:,:,:,3,1,:,:,1] = .68\n",
        "A_sym_red[0][:,:,:,:,0,:,:,:,:,4,1,:,:,1] = .68\n",
        "A_sym_red[0][:,:,:,:,:,0,:,:,:,5,1,:,:,1] = .68\n",
        "A_sym_red[0][:,:,:,:,:,:,0,:,:,6,1,:,:,1] = .68\n",
        "A_sym_red[0][:,:,:,:,:,:,:,0,:,7,1,:,:,1] = .68\n",
        "A_sym_red[0][:,:,:,:,:,:,:,:,0,8,1,:,:,1] = .68\n",
        "\n",
        "# A_sym_red[0][0,:,:,:,:,:,:,:,:,0,1,:,:,1] = .7\n",
        "# A_sym_red[0][:,0,:,:,:,:,:,:,:,1,1,:,:,1] = .7\n",
        "# A_sym_red[0][:,:,0,:,:,:,:,:,:,2,1,:,:,1] = .7\n",
        "# A_sym_red[0][:,:,:,0,:,:,:,:,:,3,1,:,:,1] = .7\n",
        "# A_sym_red[0][:,:,:,:,0,:,:,:,:,4,1,:,:,1] = .7\n",
        "# A_sym_red[0][:,:,:,:,:,0,:,:,:,5,1,:,:,1] = .7\n",
        "# A_sym_red[0][:,:,:,:,:,:,0,:,:,6,1,:,:,1] = .7\n",
        "# A_sym_red[0][:,:,:,:,:,:,:,0,:,7,1,:,:,1] = .7\n",
        "# A_sym_red[0][:,:,:,:,:,:,:,:,0,8,1,:,:,1] = .7\n",
        "\n",
        "# Likelihood of observing symptom red given that your health load is overloaded and that you are on a red square and has had the red symptom\n",
        "\n",
        "A_sym_red[1][0,:,:,:,:,:,:,:,:,0,1,:,:,2] = 1\n",
        "A_sym_red[1][:,0,:,:,:,:,:,:,:,1,1,:,:,2] = 1\n",
        "A_sym_red[1][:,:,0,:,:,:,:,:,:,2,1,:,:,2] = 1\n",
        "A_sym_red[1][:,:,:,0,:,:,:,:,:,3,1,:,:,2] = 1\n",
        "A_sym_red[1][:,:,:,:,0,:,:,:,:,4,1,:,:,2] = 1\n",
        "A_sym_red[1][:,:,:,:,:,0,:,:,:,5,1,:,:,2] = 1\n",
        "A_sym_red[1][:,:,:,:,:,:,0,:,:,6,1,:,:,2] = 1\n",
        "A_sym_red[1][:,:,:,:,:,:,:,0,:,7,1,:,:,2] = 1\n",
        "A_sym_red[1][:,:,:,:,:,:,:,:,0,8,1,:,:,2] = 1\n",
        "\n",
        "#the opposite:\n",
        "# A_sym_red[0] = 1 - A_sym_red[1]\n",
        "A_sym_red[0][0,:,:,:,:,:,:,:,:,0,1,:,:,2] = 0\n",
        "A_sym_red[0][:,0,:,:,:,:,:,:,:,1,1,:,:,2] = 0\n",
        "A_sym_red[0][:,:,0,:,:,:,:,:,:,2,1,:,:,2] = 0\n",
        "A_sym_red[0][:,:,:,0,:,:,:,:,:,3,1,:,:,2] = 0\n",
        "A_sym_red[0][:,:,:,:,0,:,:,:,:,4,1,:,:,2] = 0\n",
        "A_sym_red[0][:,:,:,:,:,0,:,:,:,5,1,:,:,2] = 0\n",
        "A_sym_red[0][:,:,:,:,:,:,0,:,:,6,1,:,:,2] = 0\n",
        "A_sym_red[0][:,:,:,:,:,:,:,0,:,7,1,:,:,2] = 0\n",
        "A_sym_red[0][:,:,:,:,:,:,:,:,0,8,1,:,:,2] = 0\n",
        "\n",
        "\n",
        "#BLUE\n",
        "#baseline of 1 in all the A_sym_blue[0], will be replaced by opposite values where necessary\n",
        "A_sym_blue[0][:,:,:,:,:,:,:,:,:,:,:,:,:,:] = 1\n",
        "\n",
        "# Likelihood of observing symptom not blue given that your health load is not loaded\n",
        "A_sym_blue[0][:,:,:,:,:,:,:,:,:,:,:,:,:,0] = 1\n",
        "\n",
        "# Likelihood of observing symptom blue given that your health load is a little loaded and that you are not on a blue square and has had the blue symptom\n",
        "A_sym_blue[1][:,:,:,:,:,:,:,:,:,:,:,1,:,1] = .1\n",
        "#the opposite\n",
        "A_sym_blue[0][:,:,:,:,:,:,:,:,:,:,:,1,:,1] = .9\n",
        "\n",
        "# Likelihood of observing symptom blue given that your health load is a little loaded and that you are on a blue square and that you haven't had the blue symptom\n",
        "\n",
        "A_sym_blue[:,1,:,:,:,:,:,:,:,:,0,:,0,:,1] = .5\n",
        "A_sym_blue[:,:,1,:,:,:,:,:,:,:,1,:,0,:,1] = .5\n",
        "A_sym_blue[:,:,:,1,:,:,:,:,:,:,2,:,0,:,1] = .5\n",
        "A_sym_blue[:,:,:,:,1,:,:,:,:,:,3,:,0,:,1] = .5\n",
        "A_sym_blue[:,:,:,:,:,1,:,:,:,:,4,:,0,:,1] = .5\n",
        "A_sym_blue[:,:,:,:,:,:,1,:,:,:,5,:,0,:,1] = .5\n",
        "A_sym_blue[:,:,:,:,:,:,:,1,:,:,6,:,0,:,1] = .5\n",
        "A_sym_blue[:,:,:,:,:,:,:,:,1,:,7,:,0,:,1] = .5\n",
        "A_sym_blue[:,:,:,:,:,:,:,:,:,1,8,:,0,:,1] = .5\n",
        "\n",
        "#the opposite\n",
        "##No need for opposite, here is .5 on both\n",
        "\n",
        "# Likelihood of observing symptom blue given that your health load is overloaded and that you are on a blue square an that you haven't had the blue symptom\n",
        "\n",
        "A_sym_blue[1][1,:,:,:,:,:,:,:,:,0,:,0,:,2] = 1\n",
        "A_sym_blue[1][:,1,:,:,:,:,:,:,:,1,:,0,:,2] = 1\n",
        "A_sym_blue[1][:,:,1,:,:,:,:,:,:,2,:,0,:,2] = 1\n",
        "A_sym_blue[1][:,:,:,1,:,:,:,:,:,3,:,0,:,2] = 1\n",
        "A_sym_blue[1][:,:,:,:,1,:,:,:,:,4,:,0,:,2] = 1\n",
        "A_sym_blue[1][:,:,:,:,:,1,:,:,:,5,:,0,:,2] = 1\n",
        "A_sym_blue[1][:,:,:,:,:,:,1,:,:,6,:,0,:,2] = 1\n",
        "A_sym_blue[1][:,:,:,:,:,:,:,1,:,7,:,0,:,2] = 1\n",
        "A_sym_blue[1][:,:,:,:,:,:,:,:,1,8,:,0,:,2] = 1\n",
        "\n",
        "#the opposite\n",
        "A_sym_blue[0][1,:,:,:,:,:,:,:,:,0,:,0,:,2] = 0\n",
        "A_sym_blue[0][:,1,:,:,:,:,:,:,:,1,:,0,:,2] = 0\n",
        "A_sym_blue[0][:,:,1,:,:,:,:,:,:,2,:,0,:,2] = 0\n",
        "A_sym_blue[0][:,:,:,1,:,:,:,:,:,3,:,0,:,2] = 0\n",
        "A_sym_blue[0][:,:,:,:,1,:,:,:,:,4,:,0,:,2] = 0\n",
        "A_sym_blue[0][:,:,:,:,:,1,:,:,:,5,:,0,:,2] = 0\n",
        "A_sym_blue[0][:,:,:,:,:,:,1,:,:,6,:,0,:,2] = 0\n",
        "A_sym_blue[0][:,:,:,:,:,:,:,1,:,7,:,0,:,2] = 0\n",
        "A_sym_blue[0][:,:,:,:,:,:,:,:,1,8,:,0,:,2] = 0\n",
        "\n",
        "# Likelihood of observing symptom blue given that your health load is a little loaded and that you are on a blue square and that you have had the blue symptom\n",
        "\n",
        "A_sym_blue[1][1,:,:,:,:,:,:,:,:,0,:,1,:,1] = .2\n",
        "A_sym_blue[1][:,1,:,:,:,:,:,:,:,1,:,1,:,1] = .2\n",
        "A_sym_blue[1][:,:,1,:,:,:,:,:,:,2,:,1,:,1] = .2\n",
        "A_sym_blue[1][:,:,:,1,:,:,:,:,:,3,:,1,:,1] = .2\n",
        "A_sym_blue[1][:,:,:,:,1,:,:,:,:,4,:,1,:,1] = .2\n",
        "A_sym_blue[1][:,:,:,:,:,1,:,:,:,5,:,1,:,1] = .2\n",
        "A_sym_blue[1][:,:,:,:,:,:,1,:,:,6,:,1,:,1] = .2\n",
        "A_sym_blue[1][:,:,:,:,:,:,:,1,:,7,:,1,:,1] = .2\n",
        "A_sym_blue[1][:,:,:,:,:,:,:,:,1,8,:,1,:,1] = .2\n",
        "\n",
        "#The opposite\n",
        "\n",
        "A_sym_blue[0][1,:,:,:,:,:,:,:,:,0,:,1,:,1] = .8\n",
        "A_sym_blue[0][:,1,:,:,:,:,:,:,:,1,:,1,:,1] = .8\n",
        "A_sym_blue[0][:,:,1,:,:,:,:,:,:,2,:,1,:,1] = .8\n",
        "A_sym_blue[0][:,:,:,1,:,:,:,:,:,3,:,1,:,1] = .8\n",
        "A_sym_blue[0][:,:,:,:,1,:,:,:,:,4,:,1,:,1] = .8\n",
        "A_sym_blue[0][:,:,:,:,:,1,:,:,:,5,:,1,:,1] = .8\n",
        "A_sym_blue[0][:,:,:,:,:,:,1,:,:,6,:,1,:,1] = .8\n",
        "A_sym_blue[0][:,:,:,:,:,:,:,1,:,7,:,1,:,1] = .8\n",
        "A_sym_blue[0][:,:,:,:,:,:,:,:,1,8,:,1,:,1] = .8\n",
        "\n",
        "# Likelihood of observing symptom blue given that your health load is overloaded and that you are on a blue square an that you have had the blue symptom\n",
        "\n",
        "A_sym_blue[1][1,:,:,:,:,:,:,:,:,0,:,1,:,2] = 1\n",
        "A_sym_blue[1][:,1,:,:,:,:,:,:,:,1,:,1,:,2] = 1\n",
        "A_sym_blue[1][:,:,1,:,:,:,:,:,:,2,:,1,:,2] = 1\n",
        "A_sym_blue[1][:,:,:,1,:,:,:,:,:,3,:,1,:,2] = 1\n",
        "A_sym_blue[1][:,:,:,:,1,:,:,:,:,4,:,1,:,2] = 1\n",
        "A_sym_blue[1][:,:,:,:,:,1,:,:,:,5,:,1,:,2] = 1\n",
        "A_sym_blue[1][:,:,:,:,:,:,1,:,:,6,:,1,:,2] = 1\n",
        "A_sym_blue[1][:,:,:,:,:,:,:,1,:,7,:,1,:,2] = 1\n",
        "A_sym_blue[1][:,:,:,:,:,:,:,:,1,8,:,1,:,2] = 1\n",
        "\n",
        "#The opposite\n",
        "# A_sym_blue[0] = 1 - A_sym_blue[1]\n",
        "A_sym_blue[0][1,:,:,:,:,:,:,:,:,0,:,1,:,2] = 0\n",
        "A_sym_blue[0][:,1,:,:,:,:,:,:,:,1,:,1,:,2] = 0\n",
        "A_sym_blue[0][:,:,1,:,:,:,:,:,:,2,:,1,:,2] = 0\n",
        "A_sym_blue[0][:,:,:,1,:,:,:,:,:,3,:,1,:,2] = 0\n",
        "A_sym_blue[0][:,:,:,:,1,:,:,:,:,4,:,1,:,2] = 0\n",
        "A_sym_blue[0][:,:,:,:,:,1,:,:,:,5,:,1,:,2] = 0\n",
        "A_sym_blue[0][:,:,:,:,:,:,1,:,:,6,:,1,:,2] = 0\n",
        "A_sym_blue[0][:,:,:,:,:,:,:,1,:,7,:,1,:,2] = 0\n",
        "A_sym_blue[0][:,:,:,:,:,:,:,:,1,8,:,1,:,2] = 0\n",
        "\n",
        "\n",
        "#GREEN\n",
        "#Baseline of A_sym_green[0] at 1, to be replaced by opposite value when necessary\n",
        "A_sym_green[0][:,:,:,:,:,:,:,:,:,:,:,:,:,:] = 1\n",
        "\n",
        "# Likelihood of observing symptom not green given that your health load is not loaded\n",
        "A_sym_green[0][:,:,:,:,:,:,:,:,:,:,:,:,:,0] = 1\n",
        "\n",
        "# Likelihood of observing symptom green given that your health load is a little loaded and that you are not on a green square and has had the green symptom\n",
        "A_sym_green[1][:,:,:,:,:,:,:,:,:,:,:,:,1,1] = .1\n",
        "#the opposite\n",
        "A_sym_green[0][:,:,:,:,:,:,:,:,:,:,:,:,1,1] = .9\n",
        "\n",
        "# Likelihood of observing symptom green given that your health load is a little loaded and that you are on a green square and that you haven't had the green symptom\n",
        "\n",
        "A_sym_green[1][2,:,:,:,:,:,:,:,:,0,:,:,0,1] = .5\n",
        "A_sym_green[1][:,2,:,:,:,:,:,:,:,1,:,:,0,1] = .5\n",
        "A_sym_green[1][:,:,2,:,:,:,:,:,:,2,:,:,0,1] = .5\n",
        "A_sym_green[1][:,:,:,2,:,:,:,:,:,3,:,:,0,1] = .5\n",
        "A_sym_green[1][:,:,:,:,2,:,:,:,:,4,:,:,0,1] = .5\n",
        "A_sym_green[1][:,:,:,:,:,2,:,:,:,5,:,:,0,1] = .5\n",
        "A_sym_green[1][:,:,:,:,:,:,2,:,:,6,:,:,0,1] = .5\n",
        "A_sym_green[1][:,:,:,:,:,:,:,2,:,7,:,:,0,1] = .5\n",
        "A_sym_green[1][:,:,:,:,:,:,:,:,2,8,:,:,0,1] = .5\n",
        "\n",
        "#The opposite\n",
        "A_sym_green[0][2,:,:,:,:,:,:,:,:,0,:,:,0,1] = .5\n",
        "A_sym_green[0][:,2,:,:,:,:,:,:,:,1,:,:,0,1] = .5\n",
        "A_sym_green[0][:,:,2,:,:,:,:,:,:,2,:,:,0,1] = .5\n",
        "A_sym_green[0][:,:,:,2,:,:,:,:,:,3,:,:,0,1] = .5\n",
        "A_sym_green[0][:,:,:,:,2,:,:,:,:,4,:,:,0,1] = .5\n",
        "A_sym_green[0][:,:,:,:,:,2,:,:,:,5,:,:,0,1] = .5\n",
        "A_sym_green[0][:,:,:,:,:,:,2,:,:,6,:,:,0,1] = .5\n",
        "A_sym_green[0][:,:,:,:,:,:,:,2,:,7,:,:,0,1] = .5\n",
        "A_sym_green[0][:,:,:,:,:,:,:,:,2,8,:,:,0,1] = .5\n",
        "\n",
        "\n",
        "# Likelihood of observing symptom green given that your health load is overloaded and that you are on a green square and that you haven't had the green symptom\n",
        "\n",
        "A_sym_green[1][2,:,:,:,:,:,:,:,:,0,:,:,0,2] = 1\n",
        "A_sym_green[1][:,2,:,:,:,:,:,:,:,1,:,:,0,2] = 1\n",
        "A_sym_green[1][:,:,2,:,:,:,:,:,:,2,:,:,0,2] = 1\n",
        "A_sym_green[1][:,:,:,2,:,:,:,:,:,3,:,:,0,2] = 1\n",
        "A_sym_green[1][:,:,:,:,2,:,:,:,:,4,:,:,0,2] = 1\n",
        "A_sym_green[1][:,:,:,:,:,2,:,:,:,5,:,:,0,2] = 1\n",
        "A_sym_green[1][:,:,:,:,:,:,2,:,:,6,:,:,0,2] = 1\n",
        "A_sym_green[1][:,:,:,:,:,:,:,2,:,7,:,:,0,2] = 1\n",
        "A_sym_green[1][:,:,:,:,:,:,:,:,2,8,:,:,0,2] = 1\n",
        "\n",
        "#The opposite\n",
        "A_sym_green[0][2,:,:,:,:,:,:,:,:,0,:,:,0,2] = 0\n",
        "A_sym_green[0][:,2,:,:,:,:,:,:,:,1,:,:,0,2] = 0\n",
        "A_sym_green[0][:,:,2,:,:,:,:,:,:,2,:,:,0,2] = 0\n",
        "A_sym_green[0][:,:,:,2,:,:,:,:,:,3,:,:,0,2] = 0\n",
        "A_sym_green[0][:,:,:,:,2,:,:,:,:,4,:,:,0,2] = 0\n",
        "A_sym_green[0][:,:,:,:,:,2,:,:,:,5,:,:,0,2] = 0\n",
        "A_sym_green[0][:,:,:,:,:,:,2,:,:,6,:,:,0,2] = 0\n",
        "A_sym_green[0][:,:,:,:,:,:,:,2,:,7,:,:,0,2] = 0\n",
        "A_sym_green[0][:,:,:,:,:,:,:,:,2,8,:,:,0,2] = 0\n",
        "\n",
        "# Likelihood of observing symptom green given that your health load is a little loaded and that you are on a green square and that you have had the green symptom\n",
        "\n",
        "A_sym_green[1][2,:,:,:,:,:,:,:,:,0,:,:,1,1] = .2\n",
        "A_sym_green[1][:,2,:,:,:,:,:,:,:,1,:,:,1,1] = .2\n",
        "A_sym_green[1][:,:,2,:,:,:,:,:,:,2,:,:,1,1] = .2\n",
        "A_sym_green[1][:,:,:,2,:,:,:,:,:,3,:,:,1,1] = .2\n",
        "A_sym_green[1][:,:,:,:,2,:,:,:,:,4,:,:,1,1] = .2\n",
        "A_sym_green[1][:,:,:,:,:,2,:,:,:,5,:,:,1,1] = .2\n",
        "A_sym_green[1][:,:,:,:,:,:,2,:,:,6,:,:,1,1] = .2\n",
        "A_sym_green[1][:,:,:,:,:,:,:,2,:,7,:,:,1,1] = .2\n",
        "A_sym_green[1][:,:,:,:,:,:,:,:,2,8,:,:,1,1] = .2\n",
        "\n",
        "#the opposite\n",
        "A_sym_green[0][2,:,:,:,:,:,:,:,:,0,:,:,1,1] = .8\n",
        "A_sym_green[0][:,2,:,:,:,:,:,:,:,1,:,:,1,1] = .8\n",
        "A_sym_green[0][:,:,2,:,:,:,:,:,:,2,:,:,1,1] = .8\n",
        "A_sym_green[0][:,:,:,2,:,:,:,:,:,3,:,:,1,1] = .8\n",
        "A_sym_green[0][:,:,:,:,2,:,:,:,:,4,:,:,1,1] = .8\n",
        "A_sym_green[0][:,:,:,:,:,2,:,:,:,5,:,:,1,1] = .8\n",
        "A_sym_green[0][:,:,:,:,:,:,2,:,:,6,:,:,1,1] = .8\n",
        "A_sym_green[0][:,:,:,:,:,:,:,2,:,7,:,:,1,1] = .8\n",
        "A_sym_green[0][:,:,:,:,:,:,:,:,2,8,:,:,1,1] = .8\n",
        "\n",
        "# Likelihood of observing symptom green given that your health load is overloaded and that you are on a green square and that you have had the green symptom\n",
        "\n",
        "A_sym_green[1][2,:,:,:,:,:,:,:,:,0,:,:,1,2] = 1\n",
        "A_sym_green[1][:,2,:,:,:,:,:,:,:,1,:,:,1,2] = 1\n",
        "A_sym_green[1][:,:,2,:,:,:,:,:,:,2,:,:,1,2] = 1\n",
        "A_sym_green[1][:,:,:,2,:,:,:,:,:,3,:,:,1,2] = 1\n",
        "A_sym_green[1][:,:,:,:,2,:,:,:,:,4,:,:,1,2] = 1\n",
        "A_sym_green[1][:,:,:,:,:,2,:,:,:,5,:,:,1,2] = 1\n",
        "A_sym_green[1][:,:,:,:,:,:,2,:,:,6,:,:,1,2] = 1\n",
        "A_sym_green[1][:,:,:,:,:,:,:,2,:,7,:,:,1,2] = 1\n",
        "A_sym_green[1][:,:,:,:,:,:,:,:,2,8,:,:,1,2] = 1\n",
        "\n",
        "#the opposite\n",
        "# A_sym_green[0] = 1 - A_sym_green[1]\n",
        "A_sym_green[0][2,:,:,:,:,:,:,:,:,0,:,:,1,2] = 0\n",
        "A_sym_green[0][:,2,:,:,:,:,:,:,:,1,:,:,1,2] = 0\n",
        "A_sym_green[0][:,:,2,:,:,:,:,:,:,2,:,:,1,2] = 0\n",
        "A_sym_green[0][:,:,:,2,:,:,:,:,:,3,:,:,1,2] = 0\n",
        "A_sym_green[0][:,:,:,:,2,:,:,:,:,4,:,:,1,2] = 0\n",
        "A_sym_green[0][:,:,:,:,:,2,:,:,:,5,:,:,1,2] = 0\n",
        "A_sym_green[0][:,:,:,:,:,:,2,:,:,6,:,:,1,2] = 0\n",
        "A_sym_green[0][:,:,:,:,:,:,:,2,:,7,:,:,1,2] = 0\n",
        "A_sym_green[0][:,:,:,:,:,:,:,:,2,8,:,:,1,2] = 0\n",
        "\n",
        "\n",
        "# BIOMARKERS  \n",
        "# Likelihood of red biomarker observation given that you've had the red symptom\n",
        "A_bm_red[1][:,:,:,:,:,:,:,:,:,:,1,:,:,:] = 1\n",
        "A_bm_red[0] = 1 - A_bm_red[1]\n",
        "\n",
        "# Likelihood of red biomarker observation given that you've had the red symptom\n",
        "A_bm_blue[1][:,:,:,:,:,:,:,:,:,:,:,1,:,:] = 1\n",
        "A_bm_blue[0] = 1 - A_bm_blue[1]\n",
        "\n",
        "# Likelihood of red biomarker observation given that you've had the red symptom\n",
        "A_bm_green[1][:,:,:,:,:,:,:,:,:,:,:,:,1,:] = 1\n",
        "A_bm_green[0] = 1 - A_bm_green[1]\n",
        "\n",
        "\n",
        "\n",
        "\n",
        "#TODO : Fill in A matrices for agent \n",
        "\n",
        "A = utils.obj_array_zeros([[num] + num_states for num in num_obs])\n",
        "A[0] = A_space_colors_0\n",
        "A[1] = A_space_colors_1\n",
        "A[2] = A_space_colors_2\n",
        "A[3] = A_space_colors_3\n",
        "A[4] = A_space_colors_4\n",
        "A[5] = A_space_colors_5\n",
        "A[6] = A_space_colors_6\n",
        "A[7] = A_space_colors_7\n",
        "A[8] = A_space_colors_8\n",
        "A[9] = A_location\n",
        "A[10] = A_sym_red\n",
        "A[11] = A_sym_blue\n",
        "A[12] = A_sym_green\n",
        "A[13] = A_bm_red\n",
        "A[14] = A_bm_blue\n",
        "A[15] = A_bm_green\n",
        "\n",
        "##PRINTING DIAGNOSTICS for A\n",
        "\n",
        "print(\"A\", A.shape[0])\n",
        "print(\"A[0].shape\", A[0].shape)\n",
        "\n",
        "print(\"A matrix normalization check:\")\n",
        "\n",
        "states_count = 3*3*3*3*3*3*3*3*3*9*2*2*2*3\n",
        "print(\"Total # of states\", states_count)\n",
        "\n",
        "for modality in range(A.shape[0]):\n",
        "    print(\"modality\", list(observations.keys())[modality])\n",
        "    sums = A[modality].sum(axis=0)\n",
        "    the_sum = np.sum(A[modality])\n",
        "    print(the_sum)\n",
        "    print(\"anomalies:\", sums[np.where(sums!=1)])\n",
        "    print(\"num_anomalies:\", len(sums[np.where(sums!=1)]))\n",
        "\n",
        "#A[:] = [A_space_colors, A_age, A_location, A_s1, A_s2,A_s3,A_bm1,A_bm2,A_bm1=3 ], dtype=object)  #TO TRY LATER\n",
        "\n",
        "##END PRINT DIAGNOSTICS for A\n",
        "\n",
        "B_space_colors = np.zeros((3,3,1))\n",
        "B_space_colors[:,:,:] = .05\n",
        "for i in range(3):\n",
        "  B_space_colors[i,i,:] = .9\n",
        "B_space_colors_0 = copy.deepcopy(B_space_colors)\n",
        "B_space_colors_1 = copy.deepcopy(B_space_colors)\n",
        "B_space_colors_2 = copy.deepcopy(B_space_colors)\n",
        "B_space_colors_3 = copy.deepcopy(B_space_colors)\n",
        "B_space_colors_4 = copy.deepcopy(B_space_colors)\n",
        "B_space_colors_5 = copy.deepcopy(B_space_colors)\n",
        "B_space_colors_6 = copy.deepcopy(B_space_colors)\n",
        "B_space_colors_7 = copy.deepcopy(B_space_colors)\n",
        "B_space_colors_8 = copy.deepcopy(B_space_colors)\n",
        "\n",
        "B_age = np.zeros((30,30,1))\n",
        "for i in range(29):\n",
        "  B_age[i+1,i,:] = 1\n",
        "\n",
        "\n",
        "B_symp_red = np.zeros((2,2,1))\n",
        "B_symp_red[1,0,:] = 0.5\n",
        "B_symp_red[0,0,:] = 0.5\n",
        "B_symp_red[1,1,:] = 1\n",
        "\n",
        "B_symp_blue = np.zeros((2,2,1))\n",
        "B_symp_blue[1,0,:] = 0.5\n",
        "B_symp_blue[0,0,:] = 0.5\n",
        "B_symp_blue[1,1,:] = 1\n",
        "\n",
        "B_symp_green = np.zeros((2,2,1))\n",
        "B_symp_green[1,0,:] = 0.5\n",
        "B_symp_green[0,0,:] = 0.5\n",
        "B_symp_green[1,1,:] = 1\n",
        "\n",
        "\n",
        "B_health_load = np.expand_dims(np.array([  [1 , .4,  0],\n",
        "                       [0 , .6,  .4],  \n",
        "                       [0 ,  0,  .6],\n",
        "                      ]), 2) \n",
        "\n",
        "\n",
        " ### All possible movements given the grid \n",
        "B_location = np.zeros((9,9,5))\n",
        "\n",
        "B_location[0,1,3] = 1\n",
        "B_location[0,3,0] = 1\n",
        "B_location[0,0,4] = 1\n",
        "# B_location[0,0,1] = 1\n",
        "# B_location[0,0,2] = 1\n",
        "\n",
        "B_location[1,0,2] = 1\n",
        "B_location[1,4,0] = 1\n",
        "B_location[1,2,3] = 1\n",
        "B_location[1,1,4] = 1\n",
        "# B_location[1,1,1] = .4\n",
        "\n",
        "B_location[2,1,2] = 1\n",
        "B_location[2,5,0] = 1\n",
        "B_location[2,2,4] = 1\n",
        "# B_location[2,2,3] = .3\n",
        "# B_location[2,2,1] = .3\n",
        "\n",
        "B_location[3,0,1] = 1\n",
        "B_location[3,4,3] = 1\n",
        "B_location[3,6,0] = 1\n",
        "B_location[3,3,4] = 1\n",
        "# B_location[3,3,2] = .4\n",
        "\n",
        "B_location[4,1,1] = 1\n",
        "B_location[4,5,3] = 1\n",
        "B_location[4,7,0] = 1\n",
        "B_location[4,3,2] = 1\n",
        "B_location[4,4,4] = 1\n",
        "\n",
        "B_location[5,2,1] = 1\n",
        "B_location[5,4,2] = 1\n",
        "B_location[5,8,0] = 1\n",
        "B_location[5,5,4] = 1\n",
        "# B_location[5,5,3] = .4\n",
        "\n",
        "B_location[6,3,1] = 1\n",
        "B_location[6,7,3] = 1\n",
        "B_location[6,6,4] = 1\n",
        "# B_location[6,6,2] = .3\n",
        "# B_location[6,6,0] = .3\n",
        "\n",
        "B_location[7,6,2] = 1\n",
        "B_location[7,4,1] = 1\n",
        "B_location[7,8,3] = 1\n",
        "B_location[7,7,4] = 1\n",
        "# B_location[7,7,0] = .6\n",
        "\n",
        "B_location[8,7,2] = 1\n",
        "B_location[8,5,1] = 1\n",
        "B_location[8,8,4] = 1\n",
        "# B_location[8,8,0] = .3\n",
        "# B_location[8,8,3] = .3\n",
        "\n",
        "print(\"b location\", B_symp_red)\n",
        "\n",
        "B = utils.obj_array_zeros([[ns, ns, num_controls[f]] for f, ns in enumerate(num_states)])\n",
        "B[0] = B_space_colors_0\n",
        "B[1] = B_space_colors_1\n",
        "B[2] = B_space_colors_2\n",
        "B[3] = B_space_colors_3\n",
        "B[4] = B_space_colors_4\n",
        "B[5] = B_space_colors_5\n",
        "B[6] = B_space_colors_6\n",
        "B[7] = B_space_colors_7\n",
        "B[8] = B_space_colors_8\n",
        "B[9] = get_B_location()\n",
        "B[10] = B_symp_red\n",
        "B[11] = B_symp_blue\n",
        "B[12] = B_symp_green\n",
        "B[13] = B_health_load\n",
        "\n",
        "\n",
        "##PRINTING DIAGNOSTICS for B\n",
        "\n",
        "print(\"B\", B.shape)\n",
        "print(\"B\", B.shape[0])\n",
        "print(\"B[0].shape\", B[0].shape)\n",
        "\n",
        "print(\"B matrix normalization check:\")\n",
        "\n",
        "# states_count = 3*3*3*3*3*3*3*3*3*9*2*2*2*3\n",
        "# print(\"Total # of states\", states_count)\n",
        "\n",
        "for state in range(14):\n",
        "    \n",
        "    print(\"state\", list(states.keys())[state])\n",
        "    sums = B[state].sum(axis=0)\n",
        "    the_sum = np.sum(B[state])\n",
        "    print(the_sum)\n",
        "    print(\"anomalies:\", sums[np.where(sums!=1)])\n",
        "    print(\"num_anomalies:\", len(sums[np.where(sums!=1)]))\n",
        "\n",
        "\n",
        "\n",
        "##END PRINT DIAGNOSTICS for B\n",
        "\n",
        "C_symp_red = np.zeros(2)\n",
        "C_symp_red[0] = 1\n",
        "\n",
        "C_symp_blue = np.zeros(2)\n",
        "C_symp_blue[0] = 1\n",
        "\n",
        "C_symp_green = np.zeros(2)\n",
        "C_symp_green[0] = 1\n",
        "\n",
        "C_bm_red = np.zeros(2)\n",
        "C_bm_red[1] = 1\n",
        "\n",
        "C_bm_blue = np.zeros(2)\n",
        "C_bm_blue[1] = 1\n",
        "\n",
        "C_bm_green = np.zeros(2)\n",
        "C_bm_green[1] = 1\n",
        "\n",
        "C = utils.obj_array_zeros([no for no in num_obs])\n",
        "C[10] = C_symp_red\n",
        "C[11] = C_symp_blue\n",
        "C[12] = C_symp_green\n",
        "C[13] = C_bm_red\n",
        "C[14] = C_bm_blue\n",
        "C[15] = C_bm_green\n",
        "\n",
        "\n",
        "# D_space_colors = np.zeros(3)\n",
        "# D_age = np.zeros(30)\n",
        "# D_location = np.zeros(9)\n",
        "# D_symp_red = np.zeros(2)\n",
        "# D_symp_blue = np.zeros(2)\n",
        "# D_symp_green = np.zeros(2)\n",
        "# D_health_load = np.zeros(3)\n",
        "\n",
        "D = utils.obj_array(len(num_states))\n",
        "# Flat priors over all states\n",
        "for factor_idx in range(num_factors):\n",
        "    D[factor_idx] = np.ones(num_states[factor_idx]) / num_states[factor_idx]\n",
        "\n",
        "#A_gen_process = A\n",
        "#B_gen_process = B\n",
        "# instantiate a quick agent using your A, B and C arrays\n",
        "print(\"About to define agent...\")\n",
        "my_agent = Agent( A = A, B = B, C = C, D = D)\n",
        "print(\"Agent defined!!\")\n",
        "my_agent.grid = Grid\n",
        "\n",
        "# give the agent a random observation and get the optimized posterior beliefs\n",
        "changed_grid = Grid\n",
        "observation = changed_grid + [0,0,0,0,0,1,0,0] # a list specifying the indices of the observation, for each observation modality\n",
        "state = changed_grid + [0,0,0,0,0,1,0,0]\n",
        "location_state = state[10]\n",
        "\n",
        "\n",
        "# p(symptom | color at current location, biomarker, health load)\n",
        "gen_A_symptoms_red = np.zeros((2,3,2,3))\n",
        "\n",
        "# Condition: observe red symptom | square is red, biomarker is absent, and health is not loaded\n",
        "gen_A_symptoms_red[1,0,0,0] = .8\n",
        "\n",
        "# Condition: observe red symptom | square is  red, biomarker is absent, and health is a little loaded\n",
        "gen_A_symptoms_red[1,0,0,1] = .9\n",
        "\n",
        "# Condition: observe red symptom | square is  red, biomarker is absent, and health is overloaded\n",
        "gen_A_symptoms_red[1,0,0,2] = 1.\n",
        "\n",
        "# Condition: observe red symptom | square is  red, biomarker is present, and health is not loaded\n",
        "gen_A_symptoms_red[1,0,1,0] = 0.1\n",
        "\n",
        "# Condition: observe red symptom | square is  red, biomarker is present, and health is a little loaded\n",
        "gen_A_symptoms_red[1,0,1,1] = 0.3\n",
        "\n",
        "# Condition: observe red symptom | square is  red, biomarker is present, and health is overloaded\n",
        "gen_A_symptoms_red[1,0,1,2] = 0.6\n",
        "\n",
        "# p(symptom | color at current location, biomarker, health load)\n",
        "gen_A_symptoms_green = np.zeros((2,3,2,3))\n",
        "\n",
        "# Condition: observe green symptom | square is green, biomarker is absent, and health is not loaded\n",
        "gen_A_symptoms_green[1,2,0,0] = .8\n",
        "\n",
        "# Condition: observe green symptom | square is  green, biomarker is absent, and health is a little loaded\n",
        "gen_A_symptoms_green[1,2,0,1] = .9\n",
        "\n",
        "# Condition: observe green symptom | square is  green, biomarker is absent, and health is overloaded\n",
        "gen_A_symptoms_green[1,2,0,2] = 1.\n",
        "\n",
        "# Condition: observe green symptom | square is green,  biomarker is present, and health is not loaded\n",
        "gen_A_symptoms_green[1,2,1,0] = 0.1\n",
        "\n",
        "# Condition: observe green symptom | square is  green, biomarker is present, and health is a little loaded\n",
        "gen_A_symptoms_green[1,2,1,1] = 0.3\n",
        "\n",
        "# Condition: observe green symptom | square is green, biomarker is present, and health is overloaded\n",
        "gen_A_symptoms_green[1,2,1,2] = 0.6\n",
        "\n",
        "# p(symptom | color at current location, biomarker, health load)\n",
        "gen_A_symptoms_blue = np.zeros((2,3,2,3))\n",
        "\n",
        "# Condition: observe blue symptom | square is blue, biomarker is absent, and health is not loaded\n",
        "gen_A_symptoms_blue[1,1,0,0] = .8\n",
        "\n",
        "# Condition: observe blue symptom | square is blue, biomarker is absent, and health is a little loaded\n",
        "gen_A_symptoms_blue[1,1,0,1] = .9\n",
        "\n",
        "# Condition: observe blue symptom | square is blue, biomarker is absent, and health is overloaded\n",
        "gen_A_symptoms_blue[1,1,0,2] = 1.\n",
        "\n",
        "# Condition: observe blue symptom | square is blue,  biomarker is present, and health is not loaded\n",
        "gen_A_symptoms_blue[1,1,1,0] = 0.1\n",
        "\n",
        "# Condition: observe blue symptom | square is blue, biomarker is present, and health is a little loaded\n",
        "gen_A_symptoms_blue[1,1,1,1] = 0.3\n",
        "\n",
        "# Condition: observe blue symptom | square is blue, biomarker is present, and health is overloaded\n",
        "gen_A_symptoms_blue[1,1,1,2] = 0.6\n",
        "\n",
        "\n",
        "### Health load depends on concurrent symptoms\n",
        "\n",
        "###gen process for Health load state\n",
        "# Transition dynamics (independent of other influences i.e. decay rates)\n",
        "                     #current state row / previous state column    \n",
        "gen_B_health_load = np.expand_dims(np.array([  [1 ,      .4,  0],\n",
        "                       [0 ,      .6,  .4],  \n",
        "                       [0 ,      0,  .6],\n",
        "                      ]), 2) \n",
        "\n",
        "\n",
        "# Here it's important to get the dependencies right -- need to sketch this out\n",
        "# Rough first attempt:\n",
        "\n",
        "# [pathogens in environment]    [immune system state (biomarkers)]\n",
        "#       |    __________________________________|\n",
        "#       V   V\n",
        "# [health load]\n",
        "#       |  ^ \n",
        "#       V  |\n",
        "#   [symptoms]\n",
        "# Note the circular dependency between health load and symptoms.\n",
        "# For this iteration, probably best to model only the symptom --> health load direction\n",
        "# This may be justified since we already have a pathogens --> symptoms link which induces a correlation\n",
        "\n",
        "# Thus we should model:\n",
        "# p(health_load | biomarker1,2,3, symptom1,2,3)\n",
        "\n",
        "# TODO : Figure in color of square?\n",
        "\n",
        "gen_A_health_load = np.zeros((3,2,2,2,2,2,2))\n",
        "\n",
        "#You are not loaded if you have no biomarkers and no symptoms\n",
        "gen_A_health_load[0,0,0,0,0,0,0] = 1\n",
        "\n",
        "#You are not loaded if you have red biomarker and no symptoms\n",
        "gen_A_health_load[0,1,0,0,0,0,0] = 1\n",
        "\n",
        "#You are not loaded if you have blue biomarker and no symptoms\n",
        "gen_A_health_load[0,0,1,0,0,0,0] = 1\n",
        "\n",
        "#You are not loaded if you have green biomarker and no symptoms\n",
        "gen_A_health_load[0,0,0,1,0,0,0] = 1\n",
        "\n",
        "#You are not loaded if you have red and blue biomarker and no symptoms\n",
        "gen_A_health_load[0,1,1,0,0,0,0] = 1\n",
        "\n",
        "#You are not loaded if you have red and green biomarker and no symptoms\n",
        "gen_A_health_load[0,1,0,1,0,0,0] = 1\n",
        "\n",
        "#You are not loaded if you have green and blue biomarker and no symptoms\n",
        "gen_A_health_load[0,0,1,1,0,0,0] = 1\n",
        "\n",
        "#You are not loaded if you have red, green and blue biomarker and no symptoms\n",
        "gen_A_health_load[0,1,1,1,0,0,0] = 1\n",
        "\n",
        "\n",
        "#You are a little loaded if you have no biomarker and red symptoms\n",
        "gen_A_health_load[1,0,0,0,1,0,0] = .5\n",
        "\n",
        "#You are a little loaded if you have no biomarker and blue symptoms\n",
        "gen_A_health_load[1,0,0,0,0,1,0] = .5\n",
        "\n",
        "#You are a little loaded if you have no biomarker and green symptoms\n",
        "gen_A_health_load[1,0,0,0,0,0,1] = .5\n",
        "\n",
        "#You are a little loaded if you have the red biomarker and red symptoms\n",
        "gen_A_health_load[1,1,:,:,1,0,0] = .2\n",
        "\n",
        "#You are a little loaded if you have the blue biomarker and red symptoms\n",
        "gen_A_health_load[1,0,1,0,1,0,0] = .5\n",
        "\n",
        "#You are a little loaded if you have the green biomarker and red symptoms\n",
        "gen_A_health_load[1,0,0,1,1,0,0] = .5\n",
        "\n",
        "#You are a little loaded if you have the red biomarker and blue symptoms\n",
        "gen_A_health_load[1,1,0,0,0,1,0] = .5\n",
        "\n",
        "#You are a little loaded if you have the blue biomarker and blue symptoms\n",
        "gen_A_health_load[1,:,1,:,0,1,0] = .2\n",
        "\n",
        "#You are a little loaded if you have the green biomarker and blue symptoms\n",
        "gen_A_health_load[1,0,0,1,0,1,0] = .5\n",
        "\n",
        "#You are a little loaded if you have the red biomarker and green symptoms\n",
        "gen_A_health_load[1,1,0,0,0,0,1] = .5\n",
        "\n",
        "#You are a little loaded if you have the blue biomarker and green symptoms\n",
        "gen_A_health_load[1,0,1,0,0,0,1] = .5\n",
        "\n",
        "#You are a little loaded if you have the green biomarker and green symptoms\n",
        "gen_A_health_load[1,:,:,1,0,0,1] = .2\n",
        "\n",
        "#You are a little loaded if you have  any biomarker but the red biomarker and red symptoms\n",
        "gen_A_health_load[1,0,:,:,1,0,0] = .5\n",
        "\n",
        "#You are a little loaded if you have any biomarker but the blue biomarker and blue symptoms\n",
        "gen_A_health_load[1,:,0,:,0,1,0] = .5\n",
        "\n",
        "#You are a little loaded if you have any biomarker but the green biomarker and green symptoms\n",
        "gen_A_health_load[1,:,:,0, 0,0,1] = .5\n",
        "\n",
        "#You are a little loaded if you have no biomarker and red and blue symptoms\n",
        "gen_A_health_load[1,0,0,0,1,1,0] = 1\n",
        "\n",
        "#You are a little loaded if you have no biomarker and red and green symptoms\n",
        "gen_A_health_load[1,0,0,0,1,0,1] = 1\n",
        "\n",
        "#You are a little loaded if you have no biomarker and blue and green symptoms\n",
        "gen_A_health_load[1,0,0,0,0,1,1] = 1\n",
        "\n",
        "#You are a little loaded if you have any biomarker and red and blue and red and blue symptoms\n",
        "gen_A_health_load[1,1,1,:,1,1,0] = .6\n",
        "\n",
        "#You are a little loaded if you have any biomarker and red and green and red and green symptoms\n",
        "gen_A_health_load[1,1,:,1,1,0,1] = .6\n",
        "\n",
        "#You are a little loaded if you have any biomarker and blue and green and blue and green symptoms\n",
        "gen_A_health_load[1,:,1,1,0,1,1] = .6\n",
        "\n",
        "\n",
        "#You are a overloaded if you have any biomarker all symptoms\n",
        "gen_A_health_load[1,:,:,:,1,1,1] = .6\n",
        "\n",
        "#You are a overloaded if you have no biomarker all symptoms\n",
        "gen_A_health_load[1,0,0,0,1,1,1] = 1\n",
        "\n",
        "\n",
        "\n",
        "T = 10\n",
        "\n",
        "for t in range(T):\n",
        "  print(f\"Iteration {t}\")\n",
        "\n",
        "  qs = my_agent.infer_states(observation) # get posterior over hidden states (a multi-factor belief)\n",
        "\n",
        "  # Do active inference\n",
        "\n",
        "  q_pi, neg_efe = my_agent.infer_policies() # return the policy posterior and return (negative) expected free energies of each policy as well\n",
        "\n",
        "  action = my_agent.sample_action() # sample an action from the posterior over policies\n",
        "\n",
        "\n",
        "  \n",
        "\n",
        "  ####generative process\n",
        "\n",
        "  ###next states = the B matrix * previous state\n",
        "  ### next grid observations \n",
        "  location_state = np.where(B_location[:,location_state,action])[0][0]\n",
        "  for idx, el in enumerate(changed_grid):\n",
        "    changed_grid[idx]= np.random.choice(3,1,p=Grid_B[:,changed_grid[idx]])\n",
        "  my_agent.grid = changed_grid\n",
        "\n",
        "  \n",
        "  gen_health_load =  np.random.choice(3,1,\n",
        "      p=gen_A_health_load[:,observation[13], observation[14], observation[15], observation[10], observation[11], observation[12]])\n",
        "\n",
        "  # sym_red_obs = p(sym|color[location], bm_red)\n",
        "  #Observed red symptom\n",
        "  sym_red_obs = gen_A_symptoms_red[:,changed_grid[location_state],observation[13],gen_health_load ]\n",
        "\n",
        "  #Observed blue symptom\n",
        "  sym_blue_obs = gen_A_symptoms_blue[:,changed_grid[location_state],observation[14],gen_health_load ]\n",
        "\n",
        "  #Observed blue symptom\n",
        "  sym_green_obs = gen_A_symptoms_green[:,changed_grid[location_state],observation[15],gen_health_load ]\n",
        "\n",
        "  #Observed biomarker red\n",
        "  biomarker_red = observation[13] or observation[10]\n",
        "\n",
        "  #Observed biomarker blue\n",
        "  biomarker_blue = observation[14] or observation[11]\n",
        "\n",
        "  #Observed biomarker green\n",
        "  biomarker_green = observation[15] or observation[12]\n",
        "\n",
        "  \n",
        "  age = t # TODO : Incorporate (use as a coefficient on some B matrix)\n",
        "  observation = changed_grid + [location_state,sym_red_obs,sym_blue_obs, sym_green_obs,biomarker_red, biomarker_blue, biomarker_green ]  \n"
      ]
    },
    {
      "cell_type": "code",
      "source": [
        ""
      ],
      "metadata": {
        "id": "KkrLp8kZ6dr8"
      },
      "execution_count": null,
      "outputs": []
    },
    {
      "cell_type": "code",
      "source": [
        ""
      ],
      "metadata": {
        "id": "15wYmKsnYEND"
      },
      "execution_count": null,
      "outputs": []
    },
    {
      "cell_type": "markdown",
      "source": [
        "K-means over policies"
      ],
      "metadata": {
        "id": "AU3IMPuuYFOJ"
      }
    },
    {
      "cell_type": "code",
      "source": [
        "!pip install install matplotlib numpy pandas seaborn scikit-learn kneed\n"
      ],
      "metadata": {
        "colab": {
          "base_uri": "https://localhost:8080/"
        },
        "id": "2JQQUablYHrr",
        "outputId": "f3261e04-f9c6-4856-c54d-238b4e0ce47d"
      },
      "execution_count": null,
      "outputs": [
        {
          "output_type": "stream",
          "name": "stdout",
          "text": [
            "Collecting install\n",
            "  Downloading install-1.3.5-py3-none-any.whl (3.2 kB)\n",
            "Requirement already satisfied: matplotlib in /usr/local/lib/python3.7/dist-packages (3.2.2)\n",
            "Requirement already satisfied: numpy in /usr/local/lib/python3.7/dist-packages (1.21.6)\n",
            "Requirement already satisfied: pandas in /usr/local/lib/python3.7/dist-packages (1.3.5)\n",
            "Requirement already satisfied: seaborn in /usr/local/lib/python3.7/dist-packages (0.11.2)\n",
            "Requirement already satisfied: scikit-learn in /usr/local/lib/python3.7/dist-packages (1.0.2)\n",
            "Collecting kneed\n",
            "  Downloading kneed-0.7.0-py2.py3-none-any.whl (9.4 kB)\n",
            "Requirement already satisfied: python-dateutil>=2.1 in /usr/local/lib/python3.7/dist-packages (from matplotlib) (2.8.2)\n",
            "Requirement already satisfied: kiwisolver>=1.0.1 in /usr/local/lib/python3.7/dist-packages (from matplotlib) (1.4.2)\n",
            "Requirement already satisfied: pyparsing!=2.0.4,!=2.1.2,!=2.1.6,>=2.0.1 in /usr/local/lib/python3.7/dist-packages (from matplotlib) (3.0.8)\n",
            "Requirement already satisfied: cycler>=0.10 in /usr/local/lib/python3.7/dist-packages (from matplotlib) (0.11.0)\n",
            "Requirement already satisfied: typing-extensions in /usr/local/lib/python3.7/dist-packages (from kiwisolver>=1.0.1->matplotlib) (4.1.1)\n",
            "Requirement already satisfied: six>=1.5 in /usr/local/lib/python3.7/dist-packages (from python-dateutil>=2.1->matplotlib) (1.15.0)\n",
            "Requirement already satisfied: pytz>=2017.3 in /usr/local/lib/python3.7/dist-packages (from pandas) (2022.1)\n",
            "Requirement already satisfied: scipy>=1.0 in /usr/local/lib/python3.7/dist-packages (from seaborn) (1.7.3)\n",
            "Requirement already satisfied: joblib>=0.11 in /usr/local/lib/python3.7/dist-packages (from scikit-learn) (1.1.0)\n",
            "Requirement already satisfied: threadpoolctl>=2.0.0 in /usr/local/lib/python3.7/dist-packages (from scikit-learn) (3.1.0)\n",
            "Installing collected packages: kneed, install\n",
            "Successfully installed install-1.3.5 kneed-0.7.0\n"
          ]
        }
      ]
    },
    {
      "cell_type": "code",
      "source": [
        "import matplotlib.pyplot as plt\n",
        "from kneed import KneeLocator\n",
        "from sklearn.datasets import make_blobs\n",
        "from sklearn.cluster import KMeans\n",
        "from sklearn.metrics import silhouette_score\n",
        "from sklearn.preprocessing import StandardScaler"
      ],
      "metadata": {
        "id": "1M77uEXoYIJv"
      },
      "execution_count": null,
      "outputs": []
    },
    {
      "cell_type": "code",
      "source": [
        ""
      ],
      "metadata": {
        "id": "nqRUTgsaZRlg"
      },
      "execution_count": null,
      "outputs": []
    },
    {
      "cell_type": "markdown",
      "source": [
        "generate fake data for testing purposes"
      ],
      "metadata": {
        "id": "qKyJ2syRZWcv"
      }
    },
    {
      "cell_type": "code",
      "source": [
        "features, true_labels = make_blobs(\n",
        "     n_samples=200,\n",
        "     centers=3,\n",
        "     cluster_std=2.75,\n",
        "     random_state=42\n",
        " )"
      ],
      "metadata": {
        "id": "LXpRAcoXZY5_"
      },
      "execution_count": null,
      "outputs": []
    },
    {
      "cell_type": "code",
      "source": [
        "features[:5]"
      ],
      "metadata": {
        "colab": {
          "base_uri": "https://localhost:8080/"
        },
        "id": "quATUcxkZf-C",
        "outputId": "88afb279-1fd1-4634-fe41-8912faf3f7d7"
      },
      "execution_count": null,
      "outputs": [
        {
          "output_type": "execute_result",
          "data": {
            "text/plain": [
              "array([[  9.77075874,   3.27621022],\n",
              "       [ -9.71349666,  11.27451802],\n",
              "       [ -6.91330582,  -9.34755911],\n",
              "       [-10.86185913, -10.75063497],\n",
              "       [ -8.50038027,  -4.54370383]])"
            ]
          },
          "metadata": {},
          "execution_count": 6
        }
      ]
    },
    {
      "cell_type": "code",
      "source": [
        "true_labels[:5]"
      ],
      "metadata": {
        "colab": {
          "base_uri": "https://localhost:8080/"
        },
        "id": "NF5jktQOZi0S",
        "outputId": "7c352f55-5a2a-470a-ef99-f69672d6983d"
      },
      "execution_count": null,
      "outputs": [
        {
          "output_type": "execute_result",
          "data": {
            "text/plain": [
              "array([1, 0, 2, 2, 2])"
            ]
          },
          "metadata": {},
          "execution_count": 7
        }
      ]
    },
    {
      "cell_type": "markdown",
      "source": [
        "Standardize data - means of 0 and standard dev of 1"
      ],
      "metadata": {
        "id": "FeDPFhmMZwBq"
      }
    },
    {
      "cell_type": "code",
      "source": [
        "\n",
        "scaler = StandardScaler()\n",
        "scaled_features = scaler.fit_transform(features)\n",
        "scaled_features[:5]"
      ],
      "metadata": {
        "colab": {
          "base_uri": "https://localhost:8080/"
        },
        "id": "9R7baSeXZleW",
        "outputId": "0ec6b154-507e-48d4-c2c4-9948955e44b3"
      },
      "execution_count": null,
      "outputs": [
        {
          "output_type": "execute_result",
          "data": {
            "text/plain": [
              "array([[ 2.13082109,  0.25604351],\n",
              "       [-1.52698523,  1.41036744],\n",
              "       [-1.00130152, -1.56583175],\n",
              "       [-1.74256891, -1.76832509],\n",
              "       [-1.29924521, -0.87253446]])"
            ]
          },
          "metadata": {},
          "execution_count": 8
        }
      ]
    },
    {
      "cell_type": "code",
      "source": [
        "kmeans = KMeans(\n",
        "   init=\"random\",\n",
        "   n_clusters=3,\n",
        "   n_init=10,\n",
        "   max_iter=300,\n",
        "   random_state=42\n",
        "    )\n"
      ],
      "metadata": {
        "id": "WVoZpm21Z3wv"
      },
      "execution_count": null,
      "outputs": []
    },
    {
      "cell_type": "code",
      "source": [
        "kmeans.fit(scaled_features)"
      ],
      "metadata": {
        "colab": {
          "base_uri": "https://localhost:8080/"
        },
        "id": "mVv6UiLsa2I-",
        "outputId": "7aa8620c-6414-4cec-cea5-3e4513bf096b"
      },
      "execution_count": null,
      "outputs": [
        {
          "output_type": "execute_result",
          "data": {
            "text/plain": [
              "KMeans(init='random', n_clusters=3, random_state=42)"
            ]
          },
          "metadata": {},
          "execution_count": 10
        }
      ]
    },
    {
      "cell_type": "code",
      "source": [
        "kmeans.inertia_"
      ],
      "metadata": {
        "colab": {
          "base_uri": "https://localhost:8080/"
        },
        "id": "i16GGRGCa82h",
        "outputId": "e5261bc5-12e3-4893-d655-6daa51a2d9ef"
      },
      "execution_count": null,
      "outputs": [
        {
          "output_type": "execute_result",
          "data": {
            "text/plain": [
              "74.57960106819854"
            ]
          },
          "metadata": {},
          "execution_count": 11
        }
      ]
    },
    {
      "cell_type": "code",
      "source": [
        "kmeans.cluster_centers_"
      ],
      "metadata": {
        "colab": {
          "base_uri": "https://localhost:8080/"
        },
        "id": "BGSo8i4cbFpE",
        "outputId": "5c48b244-569a-4e9b-c7da-fcce5a0c8073"
      },
      "execution_count": null,
      "outputs": [
        {
          "output_type": "execute_result",
          "data": {
            "text/plain": [
              "array([[-0.25813925,  1.05589975],\n",
              "       [-0.91941183, -1.18551732],\n",
              "       [ 1.19539276,  0.13158148]])"
            ]
          },
          "metadata": {},
          "execution_count": 12
        }
      ]
    },
    {
      "cell_type": "code",
      "source": [
        "kmeans.n_iter_"
      ],
      "metadata": {
        "colab": {
          "base_uri": "https://localhost:8080/"
        },
        "id": "AMNmxsYmbHaQ",
        "outputId": "5f1a1f5e-f43e-4a57-f907-e4984245ebf8"
      },
      "execution_count": null,
      "outputs": [
        {
          "output_type": "execute_result",
          "data": {
            "text/plain": [
              "2"
            ]
          },
          "metadata": {},
          "execution_count": 13
        }
      ]
    },
    {
      "cell_type": "code",
      "source": [
        "kmeans.labels_[:5]"
      ],
      "metadata": {
        "colab": {
          "base_uri": "https://localhost:8080/"
        },
        "id": "H3FYShO-bKaN",
        "outputId": "490ff2be-a2cd-48db-ca40-2e6109ddbf74"
      },
      "execution_count": null,
      "outputs": [
        {
          "output_type": "execute_result",
          "data": {
            "text/plain": [
              "array([2, 0, 1, 1, 1], dtype=int32)"
            ]
          },
          "metadata": {},
          "execution_count": 14
        }
      ]
    },
    {
      "cell_type": "code",
      "source": [
        "kmeans_silhouette = silhouette_score(\n",
        "   scaled_features, kmeans.labels_\n",
        "    ).round(2)\n"
      ],
      "metadata": {
        "id": "lanmsTCEbOc0"
      },
      "execution_count": null,
      "outputs": []
    },
    {
      "cell_type": "code",
      "source": [
        "kmeans_silhouette"
      ],
      "metadata": {
        "colab": {
          "base_uri": "https://localhost:8080/"
        },
        "id": "Sd8ZZ_xAbvKB",
        "outputId": "14ef8e7a-2c0d-46be-88a9-c3edda8efb69"
      },
      "execution_count": null,
      "outputs": [
        {
          "output_type": "execute_result",
          "data": {
            "text/plain": [
              "0.59"
            ]
          },
          "metadata": {},
          "execution_count": 16
        }
      ]
    },
    {
      "cell_type": "code",
      "source": [
        "scat = plt.scatter(\n",
        "    scaled_features[:,0],\n",
        "    scaled_features[:,1]\n",
        "    # kmeans.cluster_centers,\n",
        ")\n",
        "plt.scatter(\n",
        "    kmeans.cluster_centers_[:,0],\n",
        "    kmeans.cluster_centers_[:,1]\n",
        ")"
      ],
      "metadata": {
        "colab": {
          "base_uri": "https://localhost:8080/",
          "height": 282
        },
        "id": "fPiw9rfbbxCC",
        "outputId": "4cfefb53-a6da-4420-e9a8-65a30bb80c4c"
      },
      "execution_count": null,
      "outputs": [
        {
          "output_type": "execute_result",
          "data": {
            "text/plain": [
              "<matplotlib.collections.PathCollection at 0x7f5701dc0290>"
            ]
          },
          "metadata": {},
          "execution_count": 24
        },
        {
          "output_type": "display_data",
          "data": {
            "text/plain": [
              "<Figure size 432x288 with 1 Axes>"
            ],
            "image/png": "[encoded data removed]"
          },
          "metadata": {
            "needs_background": "light"
          }
        }
      ]
    },
    {
      "cell_type": "code",
      "source": [
        ""
      ],
      "metadata": {
        "id": "iCWvOZ-rck-S"
      },
      "execution_count": null,
      "outputs": []
    }
  ],
  "metadata": {
    "colab": {
      "collapsed_sections": [],
      "machine_shape": "hm",
      "name": "sickboi",
      "provenance": [],
      "include_colab_link": true
    },
    "kernelspec": {
      "display_name": "Python 3",
      "name": "python3"
    },
    "language_info": {
      "name": "python"
    }
  },
  "nbformat": 4,
  "nbformat_minor": 0
}